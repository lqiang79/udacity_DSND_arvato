{
  "nbformat": 4,
  "nbformat_minor": 0,
  "metadata": {
    "kernelspec": {
      "display_name": "Python 3",
      "language": "python",
      "name": "python3"
    },
    "language_info": {
      "codemirror_mode": {
        "name": "ipython",
        "version": 3
      },
      "file_extension": ".py",
      "mimetype": "text/x-python",
      "name": "python",
      "nbconvert_exporter": "python",
      "pygments_lexer": "ipython3",
      "version": "3.6.3"
    },
    "colab": {
      "name": "Arvato-Project-Workbook-zh.ipynb",
      "provenance": [],
      "collapsed_sections": [],
      "machine_shape": "hm",
      "include_colab_link": true
    }
  },
  "cells": [
    {
      "cell_type": "markdown",
      "metadata": {
        "id": "view-in-github",
        "colab_type": "text"
      },
      "source": [
        "<a href=\"https://colab.research.google.com/github/lqiang79/udacity_DSND_arvato/blob/master/Arvato_Project_Workbook_zh.ipynb\" target=\"_parent\"><img src=\"https://colab.research.google.com/assets/colab-badge.svg\" alt=\"Open In Colab\"/></a>"
      ]
    },
    {
      "cell_type": "markdown",
      "metadata": {
        "id": "0fOa2fgHUUd1",
        "colab_type": "text"
      },
      "source": [
        "# 毕业项目：为 Arvato Financial Services 金融服务公司实现一个顾客分类报告\n",
        "\n",
        "该项目要求你分析德国的一家邮购公司的顾客的人口统计数据，将它和一般的人口统计数据进行比较。你将使用非监督学习技术来实现顾客分类，识别出哪些人群是这家公司的基础核心用户。之后，你将把所学的知识应用到第三个数据集上，该数据集是该公司的一场邮购活动的营销对象的人口统计数据。用你搭建的模型预测哪些人更可能成为该公司的顾客。你要使用的数据由我们的合作伙伴 Bertelsmann Arvato Analytics 公司提供。这是真实场景下的数据科学任务。\n",
        "\n",
        "如果你完成了这个纳米学位的第一学期，做过其中的非监督学习项目，那么你应该对这个项目的第一部分很熟悉了。两个数据集版本不同。这个项目中用到的数据集会包括更多的特征，而且没有预先清洗过。你也可以自由选取分析数据的方法，而不用按照既定的步骤。如果你选择完成的是这个项目，请仔细记录你的步骤和决策，因为你主要交付的成果就是一篇博客文章报告你的发现。"
      ]
    },
    {
      "cell_type": "code",
      "metadata": {
        "id": "Uz6KTQwTVicl",
        "colab_type": "code",
        "outputId": "8d398e84-8784-4f26-810f-e705cca8c689",
        "colab": {
          "base_uri": "https://localhost:8080/",
          "height": 34
        }
      },
      "source": [
        "from google.colab import drive\n",
        "drive.mount('/content/drive')\n",
        "drive_path = '/content/drive/My Drive/UdacityDataScience/data/'"
      ],
      "execution_count": 2,
      "outputs": [
        {
          "output_type": "stream",
          "text": [
            "Drive already mounted at /content/drive; to attempt to forcibly remount, call drive.mount(\"/content/drive\", force_remount=True).\n"
          ],
          "name": "stdout"
        }
      ]
    },
    {
      "cell_type": "code",
      "metadata": {
        "id": "5lKwworjUUd5",
        "colab_type": "code",
        "colab": {}
      },
      "source": [
        "# import libraries here; add more as necessary\n",
        "import numpy as np\n",
        "import pandas as pd\n",
        "import matplotlib.pyplot as plt\n",
        "import seaborn as sns\n",
        "\n",
        "# magic word for producing visualizations in notebook\n",
        "%matplotlib inline"
      ],
      "execution_count": 0,
      "outputs": []
    },
    {
      "cell_type": "markdown",
      "metadata": {
        "id": "HcBQkudEUUd_",
        "colab_type": "text"
      },
      "source": [
        "§## 第 0 部分：了解数据\n",
        "\n",
        "项目数据中包括四个数据文件\n",
        "\n",
        "- `Udacity_AZDIAS_052018.csv`: 德国的一般人口统计数据；891211 人（行）x 366 个特征（列）\n",
        "- `Udacity_CUSTOMERS_052018.csv`: 邮购公司顾客的人口统计数据；191652 人（行）x 369 个特征（列）\n",
        "- `Udacity_MAILOUT_052018_TRAIN.csv`: 营销活动的对象的人口统计数据；42982 人（行）x 367 个特征（列）\n",
        "- `Udacity_MAILOUT_052018_TEST.csv`: 营销活动的对象的人口统计数据；42833 人（行）x 366个特征（列）\n",
        "\n",
        "人口统计数据的每一行表示是一个单独的人，也包括一些非个人特征，比如他的家庭信息、住房信息以及周边环境信息。使用前两个数据文件中的信息来发现顾客（\"CUSTOMERS\"）和一般人（\"AZDIAS\"）在何种程度上相同和不同，然后根据你的分析对其余两个数据文件（\"MAILOUT\"）进行预测，预测更可能成为该邮购公司的客户。\n",
        "\n",
        "\"CUSTOMERS\" 文件包括三个额外的列（'CUSTOMER_GROUP'、’'ONLINE_PURCHASE' 和 'PRODUCT_GROUP'），提供了文件中顾客的更多维度的信息。原始的 \"MAILOUT\" 包括一个额外的列 \"RESPONSE\"，表示每个收到邮件的人是否成为了公司的顾客。对于 \"TRAIN\" 子数据集，该列被保留，但是在 \"TEST\" 子数据集中该列被删除了，它和你最后要在 Kaggle 比赛上预测的数据集中保留的列是对应的。\n",
        "\n",
        "三个数据文件中其他的所有列都是相同的。要获得关于文件中列的更多信息，你可以参考 Workspace 中的两个 Excel 电子表格。[其一](./DIAS Information Levels - Attributes 2017.xlsx) 是一个所有属性和描述的列表，按照信息的类别进行排列。[其二](./DIAS Attributes - Values 2017.xlsx) 是一个详细的每个特征的数据值对应关系，按照字母顺序进行排列。\n",
        "\n",
        "在下面的单元格中，我们提供了一些简单的代码，用于加载进前两个数据集。注意，这个项目中所有的 `.csv` 数据文件都是分号(`;`) 分割的，所以 [`read_csv()`](https://pandas.pydata.org/pandas-docs/stable/generated/pandas.read_csv.html) 中需要加入额外的参数以正确地读取数据。而且，考虑数据集的大小，加载整个数据集可能会花费一些时间。\n",
        "\n",
        "你会注意到在数据加载的时候，会弹出一个警告（warning）信息。在你开始建模和分析之前，你需要先清洗一下数据。浏览一下数据集的结构，查看电子表格中信息了解数据的取值。决定一下要挑选哪些特征，要舍弃哪些特征，以及是否有些数据格式需要修订。我们建议创建一个做预处理的函数，因为你需要在使用数据训练模型前清洗所有数据集。"
      ]
    },
    {
      "cell_type": "code",
      "metadata": {
        "id": "LEOLMmESUUeA",
        "colab_type": "code",
        "colab": {}
      },
      "source": [
        "# load in the data, This code can only be run on Udacity workspace.\n",
        "azdias = pd.read_csv('../../data/Term2/capstone/arvato_data/Udacity_AZDIAS_052018.csv', sep=';')\n",
        "customers = pd.read_csv('../../data/Term2/capstone/arvato_data/Udacity_CUSTOMERS_052018.csv', sep=';')"
      ],
      "execution_count": 0,
      "outputs": []
    },
    {
      "cell_type": "code",
      "metadata": {
        "id": "o4mh3Pd3UUeF",
        "colab_type": "code",
        "outputId": "8a68ee5d-22d5-4a13-eaac-78527b6bfa7e",
        "colab": {
          "base_uri": "https://localhost:8080/",
          "height": 71
        }
      },
      "source": [
        "# Be sure to add in a lot more cells (both markdown and code) to document your\n",
        "# approach and findings!\n",
        "azdias = pd.read_csv(drive_path+'Udacity_AZDIAS_052018.csv', sep=';')"
      ],
      "execution_count": 63,
      "outputs": [
        {
          "output_type": "stream",
          "text": [
            "/usr/local/lib/python3.6/dist-packages/IPython/core/interactiveshell.py:2718: DtypeWarning: Columns (18,19) have mixed types. Specify dtype option on import or set low_memory=False.\n",
            "  interactivity=interactivity, compiler=compiler, result=result)\n"
          ],
          "name": "stderr"
        }
      ]
    },
    {
      "cell_type": "markdown",
      "metadata": {
        "id": "nnGcNp8k807q",
        "colab_type": "text"
      },
      "source": [
        "There is the warning message. we try to find the column current values and check them with possible value in the DIAS attributes.xlsx file. Replace the value with valid one."
      ]
    },
    {
      "cell_type": "code",
      "metadata": {
        "id": "0q5GBA948y7l",
        "colab_type": "code",
        "outputId": "3adcac59-8be3-49fe-a507-4974ab8948b4",
        "colab": {
          "base_uri": "https://localhost:8080/",
          "height": 136
        }
      },
      "source": [
        "print('column 18 label is', azdias.columns[18])\n",
        "print('column 19 label is', azdias.columns[19])\n",
        "print(azdias[azdias.columns[18]].unique())\n",
        "print(azdias[azdias.columns[19]].unique())"
      ],
      "execution_count": 40,
      "outputs": [
        {
          "output_type": "stream",
          "text": [
            "column 18 label is CAMEO_DEUG_2015\n",
            "column 19 label is CAMEO_INTL_2015\n",
            "[nan '8' '4' '2' '6' '1' '9' '5' '7' '3']\n",
            "[nan 51.0 24.0 12.0 43.0 54.0 22.0 14.0 13.0 15.0 33.0 41.0 34.0 55.0 25.0\n",
            " 23.0 31.0 52.0 35.0 45.0 44.0 32.0 '22' '24' '41' '12' '54' '51' '44'\n",
            " '35' '23' '25' '14' '34' '52' '55' '31' '32' '15' '13' '43' '33' '45'\n",
            " 'XX']\n"
          ],
          "name": "stdout"
        }
      ]
    },
    {
      "cell_type": "code",
      "metadata": {
        "colab_type": "code",
        "outputId": "7b1cd8ba-1e67-44c9-9b2c-398daced63bd",
        "id": "r_O6TUA_TzR3",
        "colab": {
          "base_uri": "https://localhost:8080/",
          "height": 34
        }
      },
      "source": [
        "azdias['CAMEO_DEUG_2015'] = azdias['CAMEO_DEUG_2015'].map(lambda x: str(x)[0] )\n",
        "azdias['CAMEO_DEUG_2015'] = azdias['CAMEO_DEUG_2015'].map(lambda x: np.nan if x in ['X', 'n'] else x)\n",
        "azdias[azdias.columns[18]].unique()"
      ],
      "execution_count": 35,
      "outputs": [
        {
          "output_type": "execute_result",
          "data": {
            "text/plain": [
              "array([nan, '8', '4', '2', '6', '1', '9', '5', '7', '3'], dtype=object)"
            ]
          },
          "metadata": {
            "tags": []
          },
          "execution_count": 35
        }
      ]
    },
    {
      "cell_type": "code",
      "metadata": {
        "id": "7xmqxOfEnklC",
        "colab_type": "code",
        "colab": {
          "base_uri": "https://localhost:8080/",
          "height": 102
        },
        "outputId": "2181545b-1d7f-4085-cb26-0525d4377a79"
      },
      "source": [
        "azdias['CAMEO_INTL_2015'] = azdias['CAMEO_INTL_2015'].astype(str).map(lambda val: np.nan if val in ['nan', 'XX'] else val)\n",
        "azdias[azdias.columns[19]].unique()"
      ],
      "execution_count": 64,
      "outputs": [
        {
          "output_type": "execute_result",
          "data": {
            "text/plain": [
              "array([nan, '51.0', '24.0', '12.0', '43.0', '54.0', '22.0', '14.0',\n",
              "       '13.0', '15.0', '33.0', '41.0', '34.0', '55.0', '25.0', '23.0',\n",
              "       '31.0', '52.0', '35.0', '45.0', '44.0', '32.0', '22', '24', '41',\n",
              "       '12', '54', '51', '44', '35', '23', '25', '14', '34', '52', '55',\n",
              "       '31', '32', '15', '13', '43', '33', '45'], dtype=object)"
            ]
          },
          "metadata": {
            "tags": []
          },
          "execution_count": 64
        }
      ]
    },
    {
      "cell_type": "code",
      "metadata": {
        "id": "FO8d9QEptG6H",
        "colab_type": "code",
        "colab": {
          "base_uri": "https://localhost:8080/",
          "height": 68
        },
        "outputId": "0bd9962d-e10e-42d2-8f8f-72f8652d57a3"
      },
      "source": [
        "azdias['CAMEO_INTL_2015'] = azdias['CAMEO_INTL_2015'].astype(str).map(lambda x: x[0:1] if x[-2:]=='.0' else x)\n",
        "azdias[azdias.columns[19]].unique()"
      ],
      "execution_count": 78,
      "outputs": [
        {
          "output_type": "execute_result",
          "data": {
            "text/plain": [
              "array(['nan', '5', '2', '1', '4', '3', '22', '24', '41', '12', '54', '51',\n",
              "       '44', '35', '23', '25', '14', '34', '52', '55', '31', '32', '15',\n",
              "       '13', '43', '33', '45'], dtype=object)"
            ]
          },
          "metadata": {
            "tags": []
          },
          "execution_count": 78
        }
      ]
    },
    {
      "cell_type": "code",
      "metadata": {
        "colab_type": "code",
        "outputId": "7621476a-ac2c-46f8-ca65-1ee95cb0e05d",
        "id": "Q3BW4HgqTyf7",
        "colab": {
          "base_uri": "https://localhost:8080/",
          "height": 439
        }
      },
      "source": [
        "dummies = pd.get_dummies(azdias['CAMEO_INTL_2015'], prefix='CAMEO_INTL_2015', prefix_sep='__')\n",
        "dummies"
      ],
      "execution_count": 75,
      "outputs": [
        {
          "output_type": "execute_result",
          "data": {
            "text/html": [
              "<div>\n",
              "<style scoped>\n",
              "    .dataframe tbody tr th:only-of-type {\n",
              "        vertical-align: middle;\n",
              "    }\n",
              "\n",
              "    .dataframe tbody tr th {\n",
              "        vertical-align: top;\n",
              "    }\n",
              "\n",
              "    .dataframe thead th {\n",
              "        text-align: right;\n",
              "    }\n",
              "</style>\n",
              "<table border=\"1\" class=\"dataframe\">\n",
              "  <thead>\n",
              "    <tr style=\"text-align: right;\">\n",
              "      <th></th>\n",
              "      <th>CAMEO_INTL_2015__1</th>\n",
              "      <th>CAMEO_INTL_2015__12</th>\n",
              "      <th>CAMEO_INTL_2015__13</th>\n",
              "      <th>CAMEO_INTL_2015__14</th>\n",
              "      <th>CAMEO_INTL_2015__15</th>\n",
              "      <th>CAMEO_INTL_2015__2</th>\n",
              "      <th>CAMEO_INTL_2015__22</th>\n",
              "      <th>CAMEO_INTL_2015__23</th>\n",
              "      <th>CAMEO_INTL_2015__24</th>\n",
              "      <th>CAMEO_INTL_2015__25</th>\n",
              "      <th>CAMEO_INTL_2015__3</th>\n",
              "      <th>CAMEO_INTL_2015__31</th>\n",
              "      <th>CAMEO_INTL_2015__32</th>\n",
              "      <th>CAMEO_INTL_2015__33</th>\n",
              "      <th>CAMEO_INTL_2015__34</th>\n",
              "      <th>CAMEO_INTL_2015__35</th>\n",
              "      <th>CAMEO_INTL_2015__4</th>\n",
              "      <th>CAMEO_INTL_2015__41</th>\n",
              "      <th>CAMEO_INTL_2015__43</th>\n",
              "      <th>CAMEO_INTL_2015__44</th>\n",
              "      <th>CAMEO_INTL_2015__45</th>\n",
              "      <th>CAMEO_INTL_2015__5</th>\n",
              "      <th>CAMEO_INTL_2015__51</th>\n",
              "      <th>CAMEO_INTL_2015__52</th>\n",
              "      <th>CAMEO_INTL_2015__54</th>\n",
              "      <th>CAMEO_INTL_2015__55</th>\n",
              "      <th>CAMEO_INTL_2015__nan</th>\n",
              "    </tr>\n",
              "  </thead>\n",
              "  <tbody>\n",
              "    <tr>\n",
              "      <th>0</th>\n",
              "      <td>0</td>\n",
              "      <td>0</td>\n",
              "      <td>0</td>\n",
              "      <td>0</td>\n",
              "      <td>0</td>\n",
              "      <td>0</td>\n",
              "      <td>0</td>\n",
              "      <td>0</td>\n",
              "      <td>0</td>\n",
              "      <td>0</td>\n",
              "      <td>0</td>\n",
              "      <td>0</td>\n",
              "      <td>0</td>\n",
              "      <td>0</td>\n",
              "      <td>0</td>\n",
              "      <td>0</td>\n",
              "      <td>0</td>\n",
              "      <td>0</td>\n",
              "      <td>0</td>\n",
              "      <td>0</td>\n",
              "      <td>0</td>\n",
              "      <td>0</td>\n",
              "      <td>0</td>\n",
              "      <td>0</td>\n",
              "      <td>0</td>\n",
              "      <td>0</td>\n",
              "      <td>1</td>\n",
              "    </tr>\n",
              "    <tr>\n",
              "      <th>1</th>\n",
              "      <td>0</td>\n",
              "      <td>0</td>\n",
              "      <td>0</td>\n",
              "      <td>0</td>\n",
              "      <td>0</td>\n",
              "      <td>0</td>\n",
              "      <td>0</td>\n",
              "      <td>0</td>\n",
              "      <td>0</td>\n",
              "      <td>0</td>\n",
              "      <td>0</td>\n",
              "      <td>0</td>\n",
              "      <td>0</td>\n",
              "      <td>0</td>\n",
              "      <td>0</td>\n",
              "      <td>0</td>\n",
              "      <td>0</td>\n",
              "      <td>0</td>\n",
              "      <td>0</td>\n",
              "      <td>0</td>\n",
              "      <td>0</td>\n",
              "      <td>1</td>\n",
              "      <td>0</td>\n",
              "      <td>0</td>\n",
              "      <td>0</td>\n",
              "      <td>0</td>\n",
              "      <td>0</td>\n",
              "    </tr>\n",
              "    <tr>\n",
              "      <th>2</th>\n",
              "      <td>0</td>\n",
              "      <td>0</td>\n",
              "      <td>0</td>\n",
              "      <td>0</td>\n",
              "      <td>0</td>\n",
              "      <td>1</td>\n",
              "      <td>0</td>\n",
              "      <td>0</td>\n",
              "      <td>0</td>\n",
              "      <td>0</td>\n",
              "      <td>0</td>\n",
              "      <td>0</td>\n",
              "      <td>0</td>\n",
              "      <td>0</td>\n",
              "      <td>0</td>\n",
              "      <td>0</td>\n",
              "      <td>0</td>\n",
              "      <td>0</td>\n",
              "      <td>0</td>\n",
              "      <td>0</td>\n",
              "      <td>0</td>\n",
              "      <td>0</td>\n",
              "      <td>0</td>\n",
              "      <td>0</td>\n",
              "      <td>0</td>\n",
              "      <td>0</td>\n",
              "      <td>0</td>\n",
              "    </tr>\n",
              "    <tr>\n",
              "      <th>3</th>\n",
              "      <td>1</td>\n",
              "      <td>0</td>\n",
              "      <td>0</td>\n",
              "      <td>0</td>\n",
              "      <td>0</td>\n",
              "      <td>0</td>\n",
              "      <td>0</td>\n",
              "      <td>0</td>\n",
              "      <td>0</td>\n",
              "      <td>0</td>\n",
              "      <td>0</td>\n",
              "      <td>0</td>\n",
              "      <td>0</td>\n",
              "      <td>0</td>\n",
              "      <td>0</td>\n",
              "      <td>0</td>\n",
              "      <td>0</td>\n",
              "      <td>0</td>\n",
              "      <td>0</td>\n",
              "      <td>0</td>\n",
              "      <td>0</td>\n",
              "      <td>0</td>\n",
              "      <td>0</td>\n",
              "      <td>0</td>\n",
              "      <td>0</td>\n",
              "      <td>0</td>\n",
              "      <td>0</td>\n",
              "    </tr>\n",
              "    <tr>\n",
              "      <th>4</th>\n",
              "      <td>0</td>\n",
              "      <td>0</td>\n",
              "      <td>0</td>\n",
              "      <td>0</td>\n",
              "      <td>0</td>\n",
              "      <td>0</td>\n",
              "      <td>0</td>\n",
              "      <td>0</td>\n",
              "      <td>0</td>\n",
              "      <td>0</td>\n",
              "      <td>0</td>\n",
              "      <td>0</td>\n",
              "      <td>0</td>\n",
              "      <td>0</td>\n",
              "      <td>0</td>\n",
              "      <td>0</td>\n",
              "      <td>1</td>\n",
              "      <td>0</td>\n",
              "      <td>0</td>\n",
              "      <td>0</td>\n",
              "      <td>0</td>\n",
              "      <td>0</td>\n",
              "      <td>0</td>\n",
              "      <td>0</td>\n",
              "      <td>0</td>\n",
              "      <td>0</td>\n",
              "      <td>0</td>\n",
              "    </tr>\n",
              "    <tr>\n",
              "      <th>...</th>\n",
              "      <td>...</td>\n",
              "      <td>...</td>\n",
              "      <td>...</td>\n",
              "      <td>...</td>\n",
              "      <td>...</td>\n",
              "      <td>...</td>\n",
              "      <td>...</td>\n",
              "      <td>...</td>\n",
              "      <td>...</td>\n",
              "      <td>...</td>\n",
              "      <td>...</td>\n",
              "      <td>...</td>\n",
              "      <td>...</td>\n",
              "      <td>...</td>\n",
              "      <td>...</td>\n",
              "      <td>...</td>\n",
              "      <td>...</td>\n",
              "      <td>...</td>\n",
              "      <td>...</td>\n",
              "      <td>...</td>\n",
              "      <td>...</td>\n",
              "      <td>...</td>\n",
              "      <td>...</td>\n",
              "      <td>...</td>\n",
              "      <td>...</td>\n",
              "      <td>...</td>\n",
              "      <td>...</td>\n",
              "    </tr>\n",
              "    <tr>\n",
              "      <th>891216</th>\n",
              "      <td>0</td>\n",
              "      <td>0</td>\n",
              "      <td>0</td>\n",
              "      <td>0</td>\n",
              "      <td>0</td>\n",
              "      <td>0</td>\n",
              "      <td>0</td>\n",
              "      <td>0</td>\n",
              "      <td>0</td>\n",
              "      <td>0</td>\n",
              "      <td>0</td>\n",
              "      <td>0</td>\n",
              "      <td>0</td>\n",
              "      <td>0</td>\n",
              "      <td>0</td>\n",
              "      <td>0</td>\n",
              "      <td>1</td>\n",
              "      <td>0</td>\n",
              "      <td>0</td>\n",
              "      <td>0</td>\n",
              "      <td>0</td>\n",
              "      <td>0</td>\n",
              "      <td>0</td>\n",
              "      <td>0</td>\n",
              "      <td>0</td>\n",
              "      <td>0</td>\n",
              "      <td>0</td>\n",
              "    </tr>\n",
              "    <tr>\n",
              "      <th>891217</th>\n",
              "      <td>0</td>\n",
              "      <td>0</td>\n",
              "      <td>0</td>\n",
              "      <td>0</td>\n",
              "      <td>0</td>\n",
              "      <td>0</td>\n",
              "      <td>0</td>\n",
              "      <td>0</td>\n",
              "      <td>0</td>\n",
              "      <td>0</td>\n",
              "      <td>0</td>\n",
              "      <td>0</td>\n",
              "      <td>0</td>\n",
              "      <td>0</td>\n",
              "      <td>0</td>\n",
              "      <td>0</td>\n",
              "      <td>0</td>\n",
              "      <td>0</td>\n",
              "      <td>0</td>\n",
              "      <td>0</td>\n",
              "      <td>0</td>\n",
              "      <td>1</td>\n",
              "      <td>0</td>\n",
              "      <td>0</td>\n",
              "      <td>0</td>\n",
              "      <td>0</td>\n",
              "      <td>0</td>\n",
              "    </tr>\n",
              "    <tr>\n",
              "      <th>891218</th>\n",
              "      <td>0</td>\n",
              "      <td>0</td>\n",
              "      <td>0</td>\n",
              "      <td>0</td>\n",
              "      <td>0</td>\n",
              "      <td>1</td>\n",
              "      <td>0</td>\n",
              "      <td>0</td>\n",
              "      <td>0</td>\n",
              "      <td>0</td>\n",
              "      <td>0</td>\n",
              "      <td>0</td>\n",
              "      <td>0</td>\n",
              "      <td>0</td>\n",
              "      <td>0</td>\n",
              "      <td>0</td>\n",
              "      <td>0</td>\n",
              "      <td>0</td>\n",
              "      <td>0</td>\n",
              "      <td>0</td>\n",
              "      <td>0</td>\n",
              "      <td>0</td>\n",
              "      <td>0</td>\n",
              "      <td>0</td>\n",
              "      <td>0</td>\n",
              "      <td>0</td>\n",
              "      <td>0</td>\n",
              "    </tr>\n",
              "    <tr>\n",
              "      <th>891219</th>\n",
              "      <td>0</td>\n",
              "      <td>0</td>\n",
              "      <td>0</td>\n",
              "      <td>0</td>\n",
              "      <td>0</td>\n",
              "      <td>0</td>\n",
              "      <td>0</td>\n",
              "      <td>0</td>\n",
              "      <td>0</td>\n",
              "      <td>0</td>\n",
              "      <td>0</td>\n",
              "      <td>0</td>\n",
              "      <td>0</td>\n",
              "      <td>0</td>\n",
              "      <td>0</td>\n",
              "      <td>0</td>\n",
              "      <td>0</td>\n",
              "      <td>0</td>\n",
              "      <td>0</td>\n",
              "      <td>0</td>\n",
              "      <td>0</td>\n",
              "      <td>1</td>\n",
              "      <td>0</td>\n",
              "      <td>0</td>\n",
              "      <td>0</td>\n",
              "      <td>0</td>\n",
              "      <td>0</td>\n",
              "    </tr>\n",
              "    <tr>\n",
              "      <th>891220</th>\n",
              "      <td>0</td>\n",
              "      <td>0</td>\n",
              "      <td>0</td>\n",
              "      <td>0</td>\n",
              "      <td>0</td>\n",
              "      <td>0</td>\n",
              "      <td>0</td>\n",
              "      <td>0</td>\n",
              "      <td>0</td>\n",
              "      <td>0</td>\n",
              "      <td>0</td>\n",
              "      <td>0</td>\n",
              "      <td>0</td>\n",
              "      <td>0</td>\n",
              "      <td>0</td>\n",
              "      <td>0</td>\n",
              "      <td>1</td>\n",
              "      <td>0</td>\n",
              "      <td>0</td>\n",
              "      <td>0</td>\n",
              "      <td>0</td>\n",
              "      <td>0</td>\n",
              "      <td>0</td>\n",
              "      <td>0</td>\n",
              "      <td>0</td>\n",
              "      <td>0</td>\n",
              "      <td>0</td>\n",
              "    </tr>\n",
              "  </tbody>\n",
              "</table>\n",
              "<p>891221 rows × 27 columns</p>\n",
              "</div>"
            ],
            "text/plain": [
              "        CAMEO_INTL_2015__1  ...  CAMEO_INTL_2015__nan\n",
              "0                        0  ...                     1\n",
              "1                        0  ...                     0\n",
              "2                        0  ...                     0\n",
              "3                        1  ...                     0\n",
              "4                        0  ...                     0\n",
              "...                    ...  ...                   ...\n",
              "891216                   0  ...                     0\n",
              "891217                   0  ...                     0\n",
              "891218                   0  ...                     0\n",
              "891219                   0  ...                     0\n",
              "891220                   0  ...                     0\n",
              "\n",
              "[891221 rows x 27 columns]"
            ]
          },
          "metadata": {
            "tags": []
          },
          "execution_count": 75
        }
      ]
    },
    {
      "cell_type": "markdown",
      "metadata": {
        "id": "gx1v1vRkKjHH",
        "colab_type": "text"
      },
      "source": [
        ""
      ]
    },
    {
      "cell_type": "code",
      "metadata": {
        "id": "KtYzrxPAzfYY",
        "colab_type": "code",
        "colab": {}
      },
      "source": [
        "attributes_df = pd.read_excel(drive_path + 'DIAS Information Levels - Attributes 2017.xlsx', index_col=None, header=1)\n",
        "values_df = pd.read_excel(drive_path + 'DIAS Attributes - Values 2017.xlsx', index_col=None, header=1)\n",
        "del attributes_df['Unnamed: 0']\n",
        "del values_df['Unnamed: 0']"
      ],
      "execution_count": 0,
      "outputs": []
    },
    {
      "cell_type": "code",
      "metadata": {
        "id": "rVMHXoTK0x5Q",
        "colab_type": "code",
        "colab": {
          "base_uri": "https://localhost:8080/",
          "height": 204
        },
        "outputId": "7e3dea60-98c2-47db-a7bb-b0be5c98a1ae"
      },
      "source": [
        "attributes_df.head()"
      ],
      "execution_count": 96,
      "outputs": [
        {
          "output_type": "execute_result",
          "data": {
            "text/html": [
              "<div>\n",
              "<style scoped>\n",
              "    .dataframe tbody tr th:only-of-type {\n",
              "        vertical-align: middle;\n",
              "    }\n",
              "\n",
              "    .dataframe tbody tr th {\n",
              "        vertical-align: top;\n",
              "    }\n",
              "\n",
              "    .dataframe thead th {\n",
              "        text-align: right;\n",
              "    }\n",
              "</style>\n",
              "<table border=\"1\" class=\"dataframe\">\n",
              "  <thead>\n",
              "    <tr style=\"text-align: right;\">\n",
              "      <th></th>\n",
              "      <th>Information level</th>\n",
              "      <th>Attribute</th>\n",
              "      <th>Description</th>\n",
              "      <th>Additional notes</th>\n",
              "    </tr>\n",
              "  </thead>\n",
              "  <tbody>\n",
              "    <tr>\n",
              "      <th>0</th>\n",
              "      <td>NaN</td>\n",
              "      <td>AGER_TYP</td>\n",
              "      <td>best-ager typology</td>\n",
              "      <td>in cooperation with Kantar TNS; the informatio...</td>\n",
              "    </tr>\n",
              "    <tr>\n",
              "      <th>1</th>\n",
              "      <td>Person</td>\n",
              "      <td>ALTERSKATEGORIE_GROB</td>\n",
              "      <td>age through prename analysis</td>\n",
              "      <td>modelled on millions of first name-age-referen...</td>\n",
              "    </tr>\n",
              "    <tr>\n",
              "      <th>2</th>\n",
              "      <td>NaN</td>\n",
              "      <td>ANREDE_KZ</td>\n",
              "      <td>gender</td>\n",
              "      <td>NaN</td>\n",
              "    </tr>\n",
              "    <tr>\n",
              "      <th>3</th>\n",
              "      <td>NaN</td>\n",
              "      <td>CJT_GESAMTTYP</td>\n",
              "      <td>Customer-Journey-Typology relating to the pref...</td>\n",
              "      <td>relating to the preferred information, marketi...</td>\n",
              "    </tr>\n",
              "    <tr>\n",
              "      <th>4</th>\n",
              "      <td>NaN</td>\n",
              "      <td>FINANZ_MINIMALIST</td>\n",
              "      <td>financial typology: low financial interest</td>\n",
              "      <td>Gfk-Typology based on a representative househo...</td>\n",
              "    </tr>\n",
              "  </tbody>\n",
              "</table>\n",
              "</div>"
            ],
            "text/plain": [
              "  Information level  ...                                   Additional notes\n",
              "0               NaN  ...  in cooperation with Kantar TNS; the informatio...\n",
              "1            Person  ...  modelled on millions of first name-age-referen...\n",
              "2               NaN  ...                                                NaN\n",
              "3               NaN  ...  relating to the preferred information, marketi...\n",
              "4               NaN  ...  Gfk-Typology based on a representative househo...\n",
              "\n",
              "[5 rows x 4 columns]"
            ]
          },
          "metadata": {
            "tags": []
          },
          "execution_count": 96
        }
      ]
    },
    {
      "cell_type": "code",
      "metadata": {
        "id": "DhEMrmOQ0-iO",
        "colab_type": "code",
        "colab": {
          "base_uri": "https://localhost:8080/",
          "height": 359
        },
        "outputId": "a1d930d5-a75e-47f7-ae93-c835b8fdb448"
      },
      "source": [
        "values_df.head(10)"
      ],
      "execution_count": 114,
      "outputs": [
        {
          "output_type": "execute_result",
          "data": {
            "text/html": [
              "<div>\n",
              "<style scoped>\n",
              "    .dataframe tbody tr th:only-of-type {\n",
              "        vertical-align: middle;\n",
              "    }\n",
              "\n",
              "    .dataframe tbody tr th {\n",
              "        vertical-align: top;\n",
              "    }\n",
              "\n",
              "    .dataframe thead th {\n",
              "        text-align: right;\n",
              "    }\n",
              "</style>\n",
              "<table border=\"1\" class=\"dataframe\">\n",
              "  <thead>\n",
              "    <tr style=\"text-align: right;\">\n",
              "      <th></th>\n",
              "      <th>Attribute</th>\n",
              "      <th>Description</th>\n",
              "      <th>Value</th>\n",
              "      <th>Meaning</th>\n",
              "    </tr>\n",
              "  </thead>\n",
              "  <tbody>\n",
              "    <tr>\n",
              "      <th>0</th>\n",
              "      <td>AGER_TYP</td>\n",
              "      <td>best-ager typology</td>\n",
              "      <td>-1</td>\n",
              "      <td>unknown</td>\n",
              "    </tr>\n",
              "    <tr>\n",
              "      <th>1</th>\n",
              "      <td>NaN</td>\n",
              "      <td>NaN</td>\n",
              "      <td>0</td>\n",
              "      <td>no classification possible</td>\n",
              "    </tr>\n",
              "    <tr>\n",
              "      <th>2</th>\n",
              "      <td>NaN</td>\n",
              "      <td>NaN</td>\n",
              "      <td>1</td>\n",
              "      <td>passive elderly</td>\n",
              "    </tr>\n",
              "    <tr>\n",
              "      <th>3</th>\n",
              "      <td>NaN</td>\n",
              "      <td>NaN</td>\n",
              "      <td>2</td>\n",
              "      <td>cultural elderly</td>\n",
              "    </tr>\n",
              "    <tr>\n",
              "      <th>4</th>\n",
              "      <td>NaN</td>\n",
              "      <td>NaN</td>\n",
              "      <td>3</td>\n",
              "      <td>experience-driven elderly</td>\n",
              "    </tr>\n",
              "    <tr>\n",
              "      <th>5</th>\n",
              "      <td>ALTERSKATEGORIE_GROB</td>\n",
              "      <td>age classification through prename analysis</td>\n",
              "      <td>-1, 0</td>\n",
              "      <td>unknown</td>\n",
              "    </tr>\n",
              "    <tr>\n",
              "      <th>6</th>\n",
              "      <td>NaN</td>\n",
              "      <td>NaN</td>\n",
              "      <td>1</td>\n",
              "      <td>&lt; 30 years</td>\n",
              "    </tr>\n",
              "    <tr>\n",
              "      <th>7</th>\n",
              "      <td>NaN</td>\n",
              "      <td>NaN</td>\n",
              "      <td>2</td>\n",
              "      <td>30 - 45 years</td>\n",
              "    </tr>\n",
              "    <tr>\n",
              "      <th>8</th>\n",
              "      <td>NaN</td>\n",
              "      <td>NaN</td>\n",
              "      <td>3</td>\n",
              "      <td>46 - 60 years</td>\n",
              "    </tr>\n",
              "    <tr>\n",
              "      <th>9</th>\n",
              "      <td>NaN</td>\n",
              "      <td>NaN</td>\n",
              "      <td>4</td>\n",
              "      <td>&gt; 60 years</td>\n",
              "    </tr>\n",
              "  </tbody>\n",
              "</table>\n",
              "</div>"
            ],
            "text/plain": [
              "              Attribute  ...                     Meaning\n",
              "0              AGER_TYP  ...                     unknown\n",
              "1                   NaN  ...  no classification possible\n",
              "2                   NaN  ...             passive elderly\n",
              "3                   NaN  ...            cultural elderly\n",
              "4                   NaN  ...   experience-driven elderly\n",
              "5  ALTERSKATEGORIE_GROB  ...                     unknown\n",
              "6                   NaN  ...                  < 30 years\n",
              "7                   NaN  ...               30 - 45 years\n",
              "8                   NaN  ...               46 - 60 years\n",
              "9                   NaN  ...                  > 60 years\n",
              "\n",
              "[10 rows x 4 columns]"
            ]
          },
          "metadata": {
            "tags": []
          },
          "execution_count": 114
        }
      ]
    },
    {
      "cell_type": "code",
      "metadata": {
        "id": "oiSHzbKz61yx",
        "colab_type": "code",
        "colab": {}
      },
      "source": [
        "values_df['Attribute'].unique()"
      ],
      "execution_count": 0,
      "outputs": []
    },
    {
      "cell_type": "code",
      "metadata": {
        "id": "FGItsJUZQMJf",
        "colab_type": "code",
        "colab": {
          "base_uri": "https://localhost:8080/",
          "height": 1000
        },
        "outputId": "132fb6d6-c64e-4096-b031-6c25488ed40c"
      },
      "source": [
        "last_attribute_name = ''\n",
        "possible_values = set()\n",
        "attribute_values = {}\n",
        "for ind, row in values_df.iterrows():\n",
        "  \n",
        "  if str(row['Attribute']) != 'nan' and last_attribute_name == '':\n",
        "    last_attribute_name = row['Attribute']\n",
        "  possible_values.add(str(row['Value']))\n",
        "\n",
        "  next_ind = ind + 1\n",
        "  if next_ind < values_df.shape[0] and str(values_df.iloc[next_ind]['Attribute'])!= 'nan' :\n",
        "    print(last_attribute_name, possible_values)\n",
        "    attribute_values[last_attribute_name] = possible_values\n",
        "    last_attribute_name = ''\n",
        "    possible_values = set()\n",
        "  \n",
        "print(attribute_values)\n"
      ],
      "execution_count": 136,
      "outputs": [
        {
          "output_type": "stream",
          "text": [
            "AGER_TYP {'1', '-1', '0', '2', '3'}\n",
            "ALTERSKATEGORIE_GROB {'1', '2', '3', '4', '9', '-1, 0'}\n",
            "ALTER_HH {'1', '20', '17', '14', '8', '0', '13', '10', '12', '11', '16', '7', '18', '4', '21', '9', '5', '19', '2', '3', '6', '15'}\n",
            "ANREDE_KZ {'2', '1', '-1, 0'}\n",
            "ANZ_HAUSHALTE_AKTIV {'…'}\n",
            "ANZ_HH_TITEL {'…'}\n",
            "ANZ_PERSONEN {'…'}\n",
            "ANZ_TITEL {'…'}\n",
            "BALLRAUM {'1', '7', '-1', '2', '3', '6', '4', '5'}\n",
            "BIP_FLAG {'-1', '1', '0'}\n",
            "CAMEO_DEUG_2015 {'8', '1', '7', '-1', '2', '3', '6', '4', '9', '5'}\n",
            "CAMEO_DEU_2015 {'6E', '2A', '6B', '3A', '6C', '2B', '5B', '1E', '1D', '4D', '1A', '9D', '3D', '7D', '9B', '5A', '8D', '7E', '7C', '4E', '9E', '4B', '7A', '1C', '8C', '5E', '6F', '5F', '5D', '9C', '3B', '5C', '2D', '6A', '3C', '4A', '7B', '6D', '9A', '8B', '1B', '4C', '2C', '8A'}\n",
            "CAMEO_DEUINTL_2015 {'-1', '52', '34', '14', '32', '43', '33', '45', '31', '42', '13', '55', '12', '53', '54', '11', '24', '35', '51', '21', '22', '25', '44', '23', '41', '15'}\n",
            "CJT_GESAMTTYP {'1', '0', '2', '3', '6', '4', '5'}\n",
            "D19_BANKEN_ANZ_12 {'1', '0', '2', '3', '6', '4', '5'}\n",
            "D19_BANKEN_ANZ_24 {'1', '0', '2', '3', '6', '4', '5'}\n",
            "D19_BANKEN_DATUM {'8', '1', '7', '2', '3', '6', '4', '10', '9', '5'}\n",
            "D19_BANKEN_DIREKT_RZ {'1', '7', '0', '2', '3', '6', '4', '5'}\n",
            "D19_BANKEN_GROSS_RZ {'1', '7', '0', '2', '3', '6', '4', '5'}\n",
            "D19_BANKEN_LOKAL_RZ {'1', '7', '0', '2', '3', '6', '4', '5'}\n",
            "D19_BANKEN_OFFLINE_DATUM {'8', '1', '7', '2', '3', '6', '4', '10', '9', '5'}\n",
            "D19_BANKEN_ONLINE_DATUM {'8', '1', '7', '2', '3', '6', '4', '10', '9', '5'}\n",
            "D19_BANKEN_ONLINE_QUOTE_12 {'8', '1', '7', '0', '2', '3', '6', '4', '10', '9', '5'}\n",
            "D19_BANKEN_REST_RZ {'1', '7', '0', '2', '3', '6', '4', '5'}\n",
            "D19_BEKLEIDUNG_GEH_RZ {'1', '7', '0', '2', '3', '6', '4', '5'}\n",
            "D19_BEKLEIDUNG_REST_RZ {'1', '7', '0', '2', '3', '6', '4', '5'}\n",
            "D19_BILDUNG_RZ {'1', '7', '0', '2', '3', '6', '4', '5'}\n",
            "D19_BIO_OEKO_RZ {'1', '7', '0', '2', '3', '6', '4', '5'}\n",
            "D19_BUCH_RZ {'1', '7', '0', '2', '3', '6', '4', '5'}\n",
            "D19_DIGIT_SERV_RZ {'1', '7', '0', '2', '3', '6', '4', '5'}\n",
            "D19_DROGERIEARTIKEL_RZ {'1', '7', '0', '2', '3', '6', '4', '5'}\n",
            "D19_ENERGIE_RZ {'1', '7', '0', '2', '3', '6', '4', '5'}\n",
            "D19_FREIZEIT_RZ {'1', '7', '0', '2', '3', '6', '4', '5'}\n",
            "D19_GARTEN_RZ {'1', '7', '0', '2', '3', '6', '4', '5'}\n",
            "D19_GESAMT_ANZ_12 {'1', '0', '2', '3', '6', '4', '5'}\n",
            "D19_GESAMT_ANZ_24 {'1', '0', '2', '3', '6', '4', '5'}\n",
            "D19_GESAMT_DATUM {'8', '1', '7', '2', '3', '6', '4', '10', '9', '5'}\n",
            "D19_GESAMT_OFFLINE_DATUM {'8', '1', '7', '2', '3', '6', '4', '10', '9', '5'}\n",
            "D19_GESAMT_ONLINE_DATUM {'8', '1', '7', '2', '3', '6', '4', '10', '9', '5'}\n",
            "D19_GESAMT_ONLINE_QUOTE_12 {'8', '1', '7', '0', '2', '3', '6', '4', '10', '9', '5'}\n",
            "D19_HANDWERK_RZ {'1', '7', '0', '2', '3', '6', '4', '5'}\n",
            "D19_HAUS_DEKO_RZ {'1', '7', '0', '2', '3', '6', '4', '5'}\n",
            "D19_KINDERARTIKEL_RZ {'1', '7', '0', '2', '3', '6', '4', '5'}\n",
            "D19_KONSUMTYP {'1', '2', '3', '6', '4', '9', '5'}\n",
            "D19_KK_KUNDENTYP {'1', '-1', '2', '3', '6', '4', '5'}\n",
            "D19_KOSMETIK_RZ {'1', '7', '0', '2', '3', '6', '4', '5'}\n",
            "D19_LEBENSMITTEL_RZ {'1', '7', '0', '2', '3', '6', '4', '5'}\n",
            "D19_LOTTO_RZ {'1', '7', '0', '2', '3', '6', '4', '5'}\n",
            "D19_NAHRUNGSERGAENZUNG_RZ {'1', '7', '0', '2', '3', '6', '4', '5'}\n",
            "D19_RATGEBER_RZ {'1', '7', '0', '2', '3', '6', '4', '5'}\n",
            "D19_REISEN_RZ {'1', '7', '0', '2', '3', '6', '4', '5'}\n",
            "D19_SAMMELARTIKEL_RZ {'1', '7', '0', '2', '3', '6', '4', '5'}\n",
            "D19_SCHUHE_RZ {'1', '7', '0', '2', '3', '6', '4', '5'}\n",
            "D19_SONSTIGE_RZ {'1', '7', '0', '2', '3', '6', '4', '5'}\n",
            "D19_TECHNIK_RZ {'1', '7', '0', '2', '3', '6', '4', '5'}\n",
            "D19_TELKO_ANZ_12 {'1', '0', '2', '3', '6', '4', '5'}\n",
            "D19_TELKO_ANZ_24 {'1', '0', '2', '3', '6', '4', '5'}\n",
            "D19_TELKO_DATUM {'8', '1', '7', '2', '3', '6', '4', '10', '9', '5'}\n",
            "D19_TELKO_MOBILE_RZ {'1', '7', '0', '2', '3', '6', '4', '5'}\n",
            "D19_TELKO_OFFLINE_DATUM {'8', '1', '7', '2', '3', '6', '4', '10', '9', '5'}\n",
            "D19_TELKO_ONLINE_DATUM {'8', '1', '7', '2', '3', '6', '4', '10', '9', '5'}\n",
            "D19_TELKO_REST_RZ {'1', '7', '0', '2', '3', '6', '4', '5'}\n",
            "D19_TIERARTIKEL_RZ {'1', '7', '0', '2', '3', '6', '4', '5'}\n",
            "D19_VERSAND_ANZ_12 {'1', '0', '2', '3', '6', '4', '5'}\n",
            "D19_VERSAND_ANZ_24 {'1', '0', '2', '3', '6', '4', '5'}\n",
            "D19_VERSAND_DATUM {'8', '1', '7', '2', '3', '6', '4', '10', '9', '5'}\n",
            "D19_VERSAND_OFFLINE_DATUM {'8', '1', '7', '2', '3', '6', '4', '10', '9', '5'}\n",
            "D19_VERSAND_ONLINE_DATUM {'8', '1', '7', '2', '3', '6', '4', '10', '9', '5'}\n",
            "D19_VERSAND_ONLINE_QUOTE_12 {'8', '1', '7', '0', '2', '3', '6', '4', '10', '9', '5'}\n",
            "D19_VERSAND_REST_RZ {'1', '7', '0', '2', '3', '6', '4', '5'}\n",
            "D19_VERSICHERUNGEN_RZ {'1', '7', '0', '2', '3', '6', '4', '5'}\n",
            "D19_VERSI_ANZ_12 {'1', '0', '2', '3', '6', '4', '5'}\n",
            "D19_VERSI_ANZ_24 {'1', '0', '2', '3', '6', '4', '5'}\n",
            "D19_VOLLSORTIMENT_RZ {'1', '7', '0', '2', '3', '6', '4', '5'}\n",
            "D19_WEIN_FEINKOST_RZ {'1', '7', '0', '2', '3', '6', '4', '5'}\n",
            "EWDICHTE {'1', '-1', '2', '3', '6', '4', '5'}\n",
            "FINANZTYP {'1', '-1', '2', '3', '6', '4', '5'}\n",
            "FINANZ_ANLEGER {'1', '-1', '2', '3', '4', '5'}\n",
            "FINANZ_HAUSBAUER {'1', '-1', '2', '3', '4', '5'}\n",
            "FINANZ_MINIMALIST {'1', '-1', '2', '3', '4', '5'}\n",
            "FINANZ_SPARER {'1', '-1', '2', '3', '4', '5'}\n",
            "FINANZ_UNAUFFAELLIGER {'1', '-1', '2', '3', '4', '5'}\n",
            "FINANZ_VORSORGER {'1', '-1', '2', '3', '4', '5'}\n",
            "GEBAEUDETYP {'8', '1', '7', '2', '3', '6', '4', '5', '-1, 0'}\n",
            "GEBAEUDETYP_RASTER {'1', '2', '3', '4', '5'}\n",
            "GEBURTSJAHR {'…'}\n",
            "GFK_URLAUBERTYP {'8', '11', '1', '7', '2', '3', '6', '4', '10', '12', '9', '5'}\n",
            "GEOSCORE_KLS7 {'1', '7', '2', '3', '6', '4', '5', '-1, 0'}\n",
            "GREEN_AVANTGARDE {'0', '1'}\n",
            "HAUSHALTSSTRUKTUR {'8', '1', '7', '2', '3', '6', '4', '9', '5', '-1, 0'}\n",
            "HEALTH_TYP {'1', '-1', '0', '2', '3'}\n",
            "HH_EINKOMMEN_SCORE {'1', '2', '3', '6', '4', '5', '-1, 0'}\n",
            "INNENSTADT {'8', '1', '7', '-1', '2', '3', '6', '4', '5'}\n",
            "KBA05_ALTER1 {'1', '0', '3', '2', '-1, 9', '4'}\n",
            "KBA05_ALTER2 {'1', '3', '2', '-1, 9', '4', '5'}\n",
            "KBA05_ALTER3 {'1', '3', '2', '-1, 9', '4', '5'}\n",
            "KBA05_ALTER4 {'1', '0', '3', '2', '-1, 9', '4', '5'}\n",
            "KBA05_ANHANG {'1', '0', '3', '2', '-1, 9'}\n",
            "KBA05_ANTG1 {'1', '-1', '0', '2', '3', '4'}\n",
            "KBA05_ANTG2 {'1', '-1', '0', '2', '3', '4'}\n",
            "KBA05_ANTG3 {'1', '-1', '0', '2', '3'}\n",
            "KBA05_ANTG4 {'-1', '2', '1', '0'}\n",
            "KBA05_AUTOQUOT {'1', '2', '3', '-1, 9', '4', '5'}\n",
            "KBA05_BAUMAX {'1', '2', '3', '4', '5', '-1, 0'}\n",
            "KBA05_CCM1 {'1', '3', '2', '-1, 9', '4', '5'}\n",
            "KBA05_CCM2 {'1', '3', '2', '-1, 9', '4', '5'}\n",
            "KBA05_CCM3 {'1', '3', '2', '-1, 9', '4', '5'}\n",
            "KBA05_CCM4 {'1', '0', '3', '2', '-1, 9', '4'}\n",
            "KBA05_DIESEL {'1', '0', '3', '2', '-1, 9', '4'}\n",
            "KBA05_FRAU {'1', '3', '2', '-1, 9', '4', '5'}\n",
            "KBA05_GBZ {'1', '2', '3', '4', '5', '-1, 0'}\n",
            "KBA05_HERST1 {'1', '0', '3', '2', '-1, 9', '4', '5'}\n",
            "KBA05_HERST2 {'1', '0', '3', '2', '-1, 9', '4', '5'}\n",
            "KBA05_HERST3 {'1', '0', '3', '2', '-1, 9', '4', '5'}\n",
            "KBA05_HERST4 {'1', '0', '3', '2', '-1, 9', '4', '5'}\n",
            "KBA05_HERST5 {'1', '0', '3', '2', '-1, 9', '4', '5'}\n",
            "KBA05_HERSTTEMP {'1', '3', '2', '-1, 9', '4', '5'}\n",
            "KBA05_KRSAQUOT {'1', '3', '2', '-1, 9', '4', '5'}\n",
            "KBA05_KRSHERST1 {'1', '3', '2', '-1, 9', '4', '5'}\n",
            "KBA05_KRSHERST2 {'1', '3', '2', '-1, 9', '4', '5'}\n",
            "KBA05_KRSHERST3 {'1', '3', '2', '-1, 9', '4', '5'}\n",
            "KBA05_KRSKLEIN {'3', '2', '-1, 9', '1'}\n",
            "KBA05_KRSOBER {'3', '2', '-1, 9', '1'}\n",
            "KBA05_KRSVAN {'3', '2', '-1, 9', '1'}\n",
            "KBA05_KRSZUL {'3', '2', '-1, 9', '1'}\n",
            "KBA05_KW1 {'1', '3', '2', '-1, 9', '4', '5'}\n",
            "KBA05_KW2 {'1', '3', '2', '-1, 9', '4', '5'}\n",
            "KBA05_KW3 {'1', '0', '3', '2', '-1, 9', '4'}\n",
            "KBA05_MAXAH {'1', '3', '2', '-1, 9', '4', '5'}\n",
            "KBA05_MAXBJ {'1', '3', '2', '-1, 9', '4'}\n",
            "KBA05_MAXHERST {'1', '3', '2', '-1, 9', '4', '5'}\n",
            "KBA05_MAXSEG {'1', '3', '2', '-1, 9', '4'}\n",
            "KBA05_MAXVORB {'3', '2', '-1, 9', '1'}\n",
            "KBA05_MOD1 {'1', '0', '3', '2', '-1, 9', '4'}\n",
            "KBA05_MOD2 {'1', '3', '2', '-1, 9', '4', '5'}\n",
            "KBA05_MOD3 {'1', '3', '2', '-1, 9', '4', '5'}\n",
            "KBA05_MOD4 {'1', '0', '3', '2', '-1, 9', '4', '5'}\n",
            "KBA05_MOD8 {'1', '0', '3', '2', '-1, 9'}\n",
            "KBA05_MODTEMP {'1', '3', '2', '-1, 9', '4', '5'}\n",
            "KBA05_MOTOR {'1', '3', '2', '-1, 9', '4'}\n",
            "KBA05_MOTRAD {'1', '0', '3', '2', '-1, 9'}\n",
            "KBA05_SEG1 {'1', '0', '3', '2', '-1, 9'}\n",
            "KBA05_SEG10 {'1', '0', '3', '2', '-1, 9', '4'}\n",
            "KBA05_SEG2 {'1', '3', '2', '-1, 9', '4', '5'}\n",
            "KBA05_SEG3 {'1', '3', '2', '-1, 9', '4', '5'}\n",
            "KBA05_SEG4 {'1', '3', '2', '-1, 9', '4', '5'}\n",
            "KBA05_SEG5 {'1', '0', '3', '2', '-1, 9', '4'}\n",
            "KBA05_SEG6 {'0', '-1, 9', '1'}\n",
            "KBA05_SEG7 {'1', '0', '3', '2', '-1, 9'}\n",
            "KBA05_SEG8 {'1', '0', '3', '2', '-1, 9'}\n",
            "KBA05_SEG9 {'1', '0', '3', '2', '-1, 9'}\n",
            "KBA05_VORB0 {'1', '3', '2', '-1, 9', '4', '5'}\n",
            "KBA05_VORB1 {'1', '3', '2', '-1, 9', '4', '5'}\n",
            "KBA05_VORB2 {'1', '0', '3', '2', '-1, 9', '4', '5'}\n",
            "KBA05_ZUL1 {'1', '3', '2', '-1, 9', '4', '5'}\n",
            "KBA05_ZUL2 {'1', '3', '2', '-1, 9', '4', '5'}\n",
            "KBA05_ZUL3 {'1', '0', '3', '2', '-1, 9', '4', '5'}\n",
            "KBA05_ZUL4 {'1', '0', '3', '2', '-1, 9', '4', '5'}\n",
            "KBA13_ALTERHALTER_30 {'1', '-1', '0', '2', '3', '4', '5'}\n",
            "KBA13_ALTERHALTER_45 {'1', '-1', '0', '2', '3', '4', '5'}\n",
            "KBA13_ALTERHALTER_60 {'1', '-1', '0', '2', '3', '4', '5'}\n",
            "KBA13_ALTERHALTER_61 {'1', '-1', '0', '2', '3', '4', '5'}\n",
            "KBA13_ANZAHL_PKW {'…'}\n",
            "KBA13_AUDI {'1', '-1', '0', '2', '3', '4', '5'}\n",
            "KBA13_AUTOQUOTE {'1', '-1', '0', '2', '3', '4', '5'}\n",
            "KBA13_BJ_1999 {'1', '-1', '0', '2', '3', '4', '5'}\n",
            "KBA13_BJ_2000 {'1', '-1', '0', '2', '3', '4', '5'}\n",
            "KBA13_BJ_2004 {'1', '-1', '0', '2', '3', '4', '5'}\n",
            "KBA13_BJ_2006 {'1', '-1', '0', '2', '3', '4', '5'}\n",
            "KBA13_BJ_2008 {'1', '-1', '0', '2', '3', '4', '5'}\n",
            "KBA13_BJ_2009 {'1', '-1', '0', '2', '3', '4', '5'}\n",
            "KBA13_BMW {'1', '-1', '0', '2', '3', '4', '5'}\n",
            "KBA13_CCM_1000 {'1', '-1', '0', '2', '3', '4', '5'}\n",
            "KBA13_CCM_1200 {'1', '-1', '0', '2', '3', '4', '5'}\n",
            "KBA13_CCM_1400 {'1', '-1', '0', '2', '3', '4', '5'}\n",
            "KBA13_CCM_0_1400 {'1', '-1', '0', '2', '3', '4', '5'}\n",
            "KBA13_CCM_1500 {'1', '-1', '0', '2', '3', '4', '5'}\n",
            "KBA13_CCM_1400_2500 {'1', '-1', '0', '2', '3', '4', '5'}\n",
            "KBA13_CCM_1600 {'1', '-1', '0', '2', '3', '4', '5'}\n",
            "KBA13_CCM_1800 {'1', '-1', '0', '2', '3', '4', '5'}\n",
            "KBA13_CCM_2000 {'1', '-1', '0', '2', '3', '4', '5'}\n",
            "KBA13_CCM_2500 {'1', '-1', '0', '2', '3', '4', '5'}\n",
            "KBA13_CCM_2501 {'1', '-1', '0', '2', '3', '4', '5'}\n",
            "KBA13_CCM_3000 {'1', '-1', '0', '2', '3', '4', '5'}\n",
            "KBA13_CCM_3001 {'1', '-1', '0', '2', '3', '4', '5'}\n",
            "KBA13_FAB_ASIEN {'1', '-1', '0', '2', '3', '4', '5'}\n",
            "KBA13_FAB_SONSTIGE {'1', '-1', '0', '2', '3', '4', '5'}\n",
            "KBA13_FIAT {'1', '-1', '0', '2', '3', '4', '5'}\n",
            "KBA13_FORD {'1', '-1', '0', '2', '3', '4', '5'}\n",
            "KBA13_HALTER_20 {'1', '-1', '0', '2', '3', '4', '5'}\n",
            "KBA13_HALTER_25 {'1', '-1', '0', '2', '3', '4', '5'}\n",
            "KBA13_HALTER_30 {'1', '-1', '0', '2', '3', '4', '5'}\n",
            "KBA13_HALTER_35 {'1', '-1', '0', '2', '3', '4', '5'}\n",
            "KBA13_HALTER_40 {'1', '-1', '0', '2', '3', '4', '5'}\n",
            "KBA13_HALTER_45 {'1', '-1', '0', '2', '3', '4', '5'}\n",
            "KBA13_HALTER_50 {'1', '-1', '0', '2', '3', '4', '5'}\n",
            "KBA13_HALTER_55 {'1', '-1', '0', '2', '3', '4', '5'}\n",
            "KBA13_HALTER_60 {'1', '-1', '0', '2', '3', '4', '5'}\n",
            "KBA13_HALTER_65 {'1', '-1', '0', '2', '3', '4', '5'}\n",
            "KBA13_HALTER_66 {'1', '-1', '0', '2', '3', '4', '5'}\n",
            "KBA13_HERST_ASIEN {'1', '-1', '0', '2', '3', '4', '5'}\n",
            "KBA13_HERST_AUDI_VW {'1', '-1', '0', '2', '3', '4', '5'}\n",
            "KBA13_HERST_BMW_BENZ {'1', '-1', '0', '2', '3', '4', '5'}\n",
            "KBA13_HERST_EUROPA {'1', '-1', '0', '2', '3', '4', '5'}\n",
            "KBA13_HERST_FORD_OPEL {'1', '-1', '0', '2', '3', '4', '5'}\n",
            "KBA13_HERST_SONST {'1', '-1', '0', '2', '3', '4', '5'}\n",
            "KBA13_KMH_110 {'1', '-1', '0', '2', '3', '4', '5'}\n",
            "KBA13_KMH_140 {'1', '-1', '0', '2', '3', '4', '5'}\n",
            "KBA13_KMH_180 {'1', '-1', '0', '2', '3', '4', '5'}\n",
            "KBA13_KMH_0_140 {'1', '-1', '0', '2', '3', '4', '5'}\n",
            "KBA13_KMH_140_210 {'1', '-1', '0', '2', '3', '4', '5'}\n",
            "KBA13_KMH_211 {'1', '-1', '0', '2', '3', '4', '5'}\n",
            "KBA13_KMH_250 {'1', '-1', '0', '2', '3', '4', '5'}\n",
            "KBA13_KMH_251 {'1', '-1', '0', '2', '3', '4', '5'}\n",
            "KBA13_KRSAQUOT {'1', '-1', '0', '2', '3', '4', '5'}\n",
            "KBA13_KRSHERST_AUDI_VW {'1', '-1', '0', '2', '3', '4', '5'}\n",
            "KBA13_KRSHERST_BMW_BENZ {'1', '-1', '0', '2', '3', '4', '5'}\n",
            "KBA13_KRSHERST_FORD_OPEL {'1', '-1', '0', '2', '3', '4', '5'}\n",
            "KBA13_KRSSEG_KLEIN {'1', '-1', '0', '2', '3'}\n",
            "KBA13_KRSSEG_OBER {'1', '-1', '0', '2', '3'}\n",
            "KBA13_KRSSEG_VAN {'1', '-1', '0', '2', '3'}\n",
            "KBA13_KRSZUL_NEU {'1', '-1', '0', '2', '3'}\n",
            "KBA13_KW_30 {'1', '-1', '0', '2', '3', '4', '5'}\n",
            "KBA13_KW_40 {'1', '-1', '0', '2', '3', '4', '5'}\n",
            "KBA13_KW_50 {'1', '-1', '0', '2', '3', '4', '5'}\n",
            "KBA13_KW_60 {'1', '-1', '0', '2', '3', '4', '5'}\n",
            "KBA13_KW_0_60 {'1', '-1', '0', '2', '3', '4', '5'}\n",
            "KBA13_KW_70 {'1', '-1', '0', '2', '3', '4', '5'}\n",
            "KBA13_KW_61_120 {'1', '-1', '0', '2', '3', '4', '5'}\n",
            "KBA13_KW_80 {'1', '-1', '0', '2', '3', '4', '5'}\n",
            "KBA13_KW_90 {'1', '-1', '0', '2', '3', '4', '5'}\n",
            "KBA13_KW_110 {'1', '-1', '0', '2', '3', '4', '5'}\n",
            "KBA13_KW_120 {'1', '-1', '0', '2', '3', '4', '5'}\n",
            "KBA13_KW_121 {'1', '-1', '0', '2', '3', '4', '5'}\n",
            "KBA13_MAZDA {'1', '-1', '0', '2', '3', '4', '5'}\n",
            "KBA13_MERCEDES {'1', '-1', '0', '2', '3', '4', '5'}\n",
            "KBA13_MOTOR {'1', '-1', '0', '2', '3', '4'}\n",
            "KBA13_NISSAN {'1', '-1', '0', '2', '3', '4', '5'}\n",
            "KBA13_OPEL {'1', '-1', '0', '2', '3', '4', '5'}\n",
            "KBA13_PEUGEOT {'1', '-1', '0', '2', '3', '4', '5'}\n",
            "KBA13_RENAULT {'1', '-1', '0', '2', '3', '4', '5'}\n",
            "KBA13_SEG_GELAENDEWAGEN {'1', '-1', '0', '2', '3', '4', '5'}\n",
            "KBA13_SEG_GROSSRAUMVANS {'1', '-1', '0', '2', '3', '4', '5'}\n",
            "KBA13_SEG_KLEINST {'1', '-1', '0', '2', '3', '4', '5'}\n",
            "KBA13_SEG_KLEINWAGEN {'1', '-1', '0', '2', '3', '4', '5'}\n",
            "KBA13_SEG_KOMPAKTKLASSE {'1', '-1', '0', '2', '3', '4', '5'}\n",
            "KBA13_SEG_MINIVANS {'1', '-1', '0', '2', '3', '4', '5'}\n",
            "KBA13_SEG_MINIWAGEN {'1', '-1', '0', '2', '3', '4', '5'}\n",
            "KBA13_SEG_MITTELKLASSE {'1', '-1', '0', '2', '3', '4', '5'}\n",
            "KBA13_SEG_OBEREMITTELKLASSE {'1', '-1', '0', '2', '3', '4', '5'}\n",
            "KBA13_SEG_OBERKLASSE {'1', '-1', '0', '2', '3', '4', '5'}\n",
            "KBA13_SEG_SONSTIGE {'1', '-1', '0', '2', '3', '4', '5'}\n",
            "KBA13_SEG_SPORTWAGEN {'1', '-1', '0', '2', '3', '4', '5'}\n",
            "KBA13_SEG_UTILITIES {'1', '-1', '0', '2', '3', '4', '5'}\n",
            "KBA13_SEG_VAN {'1', '-1', '0', '2', '3', '4', '5'}\n",
            "KBA13_SEG_WOHNMOBILE {'1', '-1', '0', '2', '3', '4', '5'}\n",
            "KBA13_SITZE_4 {'1', '-1', '0', '2', '3', '4', '5'}\n",
            "KBA13_SITZE_5 {'1', '-1', '0', '2', '3', '4', '5'}\n",
            "KBA13_SITZE_6 {'1', '-1', '0', '2', '3', '4', '5'}\n",
            "KBA13_TOYOTA {'1', '-1', '0', '2', '3', '4', '5'}\n",
            "KBA13_VORB_0 {'1', '-1', '0', '2', '3', '4', '5'}\n",
            "KBA13_VORB_1 {'1', '-1', '0', '2', '3', '4', '5'}\n",
            "KBA13_VORB_1_2 {'1', '-1', '0', '2', '3', '4', '5'}\n",
            "KBA13_VORB_2 {'1', '-1', '0', '2', '3', '4', '5'}\n",
            "KBA13_VORB_3 {'1', '-1', '0', '2', '3', '4', '5'}\n",
            "KBA13_VW {'1', '-1', '0', '2', '3', '4', '5'}\n",
            "KKK {'1', '2', '3', '4', '-1, 0'}\n",
            "KONSUMNAEHE {'1', '7', '2', '3', '6', '4', '5'}\n",
            "LP_FAMILIE_FEIN {'8', '11', '1', '7', '2', '3', '6', '4', '10', '9', '5'}\n",
            "LP_FAMILIE_GROB {'8', '11', '1', '7', '2', '3', '6', '4', '10', '9', '5'}\n",
            "LP_LEBENSPHASE_FEIN {'37', '1', '20', '17', '34', '30', '14', '32', '8', '33', '31', '13', '10', '12', '11', '16', '24', '7', '18', '35', '4', '28', '21', '9', '22', '25', '27', '5', '23', '38', '40', '19', '2', '3', '36', '29', '6', '26', '39', '15'}\n",
            "LP_LEBENSPHASE_GROB {'8', '11', '1', '7', '2', '3', '6', '4', '10', '12', '9', '5'}\n",
            "LP_STATUS_FEIN {'8', '1', '7', '2', '3', '6', '4', '10', '9', '5'}\n",
            "LP_STATUS_GROB {'8', '1', '7', '2', '3', '6', '4', '10', '9', '5'}\n",
            "MIN_GEBAEUDEJAHR {'…'}\n",
            "MOBI_REGIO {'1', '2', '3', '6', '4', '5'}\n",
            "NATIONALITAET_KZ {'2', '3', '1', '-1, 0'}\n",
            "ONLINE_AFFINITAET {'1', '0', '2', '3', '4', '5'}\n",
            "ORTSGR_KLS9 {'8', '1', '7', '-1', '2', '3', '6', '4', '9', '5'}\n",
            "OST_WEST_KZ {'-1', 'W', 'O'}\n",
            "PLZ8_ANTG1 {'1', '-1', '0', '2', '3', '4'}\n",
            "PLZ8_ANTG2 {'1', '-1', '0', '2', '3', '4'}\n",
            "PLZ8_ANTG3 {'1', '-1', '0', '2', '3'}\n",
            "PLZ8_ANTG4 {'-1', '2', '1', '0'}\n",
            "PLZ8_BAUMAX {'1', '2', '3', '4', '5'}\n",
            "PLZ8_GBZ {'1', '-1', '2', '3', '4', '5'}\n",
            "PLZ8_HHZ {'1', '-1', '2', '3', '4', '5'}\n",
            "PRAEGENDE_JUGENDJAHRE {'8', '11', '1', '7', '2', '3', '13', '6', '4', '10', '12', '9', '14', '15', '5', '-1, 0'}\n",
            "REGIOTYP {'1', '7', '2', '3', '6', '4', '5', '-1, 0'}\n",
            "RELAT_AB {'1', '2', '3', '-1, 9', '4', '5'}\n",
            "RETOURTYP_BK_S {'1', '0', '2', '3', '4', '5'}\n",
            "SEMIO_DOM {'1', '7', '3', '2', '-1, 9', '4', '6', '5'}\n",
            "SEMIO_ERL {'1', '7', '3', '2', '-1, 9', '4', '6', '5'}\n",
            "SEMIO_FAM {'1', '7', '3', '2', '-1, 9', '4', '6', '5'}\n",
            "SEMIO_KAEM {'1', '7', '3', '2', '-1, 9', '4', '6', '5'}\n",
            "SEMIO_KRIT {'1', '7', '3', '2', '-1, 9', '4', '6', '5'}\n",
            "SEMIO_KULT {'1', '7', '3', '2', '-1, 9', '4', '6', '5'}\n",
            "SEMIO_LUST {'1', '7', '3', '2', '-1, 9', '4', '6', '5'}\n",
            "SEMIO_MAT {'1', '7', '3', '2', '-1, 9', '4', '6', '5'}\n",
            "SEMIO_PFLICHT {'1', '7', '3', '2', '-1, 9', '4', '6', '5'}\n",
            "SEMIO_RAT {'1', '7', '3', '2', '-1, 9', '4', '6', '5'}\n",
            "SEMIO_REL {'1', '7', '3', '2', '-1, 9', '4', '6', '5'}\n",
            "SEMIO_SOZ {'1', '7', '3', '2', '-1, 9', '4', '6', '5'}\n",
            "SEMIO_TRADV {'1', '7', '3', '2', '-1, 9', '4', '6', '5'}\n",
            "SEMIO_VERT {'1', '7', '3', '2', '-1, 9', '4', '6', '5'}\n",
            "SHOPPER_TYP {'1', '-1', '0', '2', '3'}\n",
            "SOHO_FLAG {'-1', '1', '0'}\n",
            "TITEL_KZ {'1', '2', '3', '4', '5', '-1, 0'}\n",
            "VERS_TYP {'-1', '2', '1'}\n",
            "WOHNDAUER_2008 {'8', '1', '7', '2', '3', '6', '4', '9', '5', '-1, 0'}\n",
            "WOHNLAGE {'8', '1', '7', '-1', '0', '2', '3', '4', '5'}\n",
            "WACHSTUMSGEBIET_NB {'1', '2', '3', '4', '5', '-1, 0'}\n",
            "W_KEIT_KIND_HH {'1', '2', '3', '6', '4', '5', '-1, 0'}\n",
            "{'AGER_TYP': {'1', '-1', '0', '2', '3'}, 'ALTERSKATEGORIE_GROB': {'1', '2', '3', '4', '9', '-1, 0'}, 'ALTER_HH': {'1', '20', '17', '14', '8', '0', '13', '10', '12', '11', '16', '7', '18', '4', '21', '9', '5', '19', '2', '3', '6', '15'}, 'ANREDE_KZ': {'2', '1', '-1, 0'}, 'ANZ_HAUSHALTE_AKTIV': {'…'}, 'ANZ_HH_TITEL': {'…'}, 'ANZ_PERSONEN': {'…'}, 'ANZ_TITEL': {'…'}, 'BALLRAUM': {'1', '7', '-1', '2', '3', '6', '4', '5'}, 'BIP_FLAG': {'-1', '1', '0'}, 'CAMEO_DEUG_2015': {'8', '1', '7', '-1', '2', '3', '6', '4', '9', '5'}, 'CAMEO_DEU_2015': {'6E', '2A', '6B', '3A', '6C', '2B', '5B', '1E', '1D', '4D', '1A', '9D', '3D', '7D', '9B', '5A', '8D', '7E', '7C', '4E', '9E', '4B', '7A', '1C', '8C', '5E', '6F', '5F', '5D', '9C', '3B', '5C', '2D', '6A', '3C', '4A', '7B', '6D', '9A', '8B', '1B', '4C', '2C', '8A'}, 'CAMEO_DEUINTL_2015': {'-1', '52', '34', '14', '32', '43', '33', '45', '31', '42', '13', '55', '12', '53', '54', '11', '24', '35', '51', '21', '22', '25', '44', '23', '41', '15'}, 'CJT_GESAMTTYP': {'1', '0', '2', '3', '6', '4', '5'}, 'D19_BANKEN_ANZ_12': {'1', '0', '2', '3', '6', '4', '5'}, 'D19_BANKEN_ANZ_24': {'1', '0', '2', '3', '6', '4', '5'}, 'D19_BANKEN_DATUM': {'8', '1', '7', '2', '3', '6', '4', '10', '9', '5'}, 'D19_BANKEN_DIREKT_RZ': {'1', '7', '0', '2', '3', '6', '4', '5'}, 'D19_BANKEN_GROSS_RZ': {'1', '7', '0', '2', '3', '6', '4', '5'}, 'D19_BANKEN_LOKAL_RZ': {'1', '7', '0', '2', '3', '6', '4', '5'}, 'D19_BANKEN_OFFLINE_DATUM': {'8', '1', '7', '2', '3', '6', '4', '10', '9', '5'}, 'D19_BANKEN_ONLINE_DATUM': {'8', '1', '7', '2', '3', '6', '4', '10', '9', '5'}, 'D19_BANKEN_ONLINE_QUOTE_12': {'8', '1', '7', '0', '2', '3', '6', '4', '10', '9', '5'}, 'D19_BANKEN_REST_RZ': {'1', '7', '0', '2', '3', '6', '4', '5'}, 'D19_BEKLEIDUNG_GEH_RZ': {'1', '7', '0', '2', '3', '6', '4', '5'}, 'D19_BEKLEIDUNG_REST_RZ': {'1', '7', '0', '2', '3', '6', '4', '5'}, 'D19_BILDUNG_RZ': {'1', '7', '0', '2', '3', '6', '4', '5'}, 'D19_BIO_OEKO_RZ': {'1', '7', '0', '2', '3', '6', '4', '5'}, 'D19_BUCH_RZ': {'1', '7', '0', '2', '3', '6', '4', '5'}, 'D19_DIGIT_SERV_RZ': {'1', '7', '0', '2', '3', '6', '4', '5'}, 'D19_DROGERIEARTIKEL_RZ': {'1', '7', '0', '2', '3', '6', '4', '5'}, 'D19_ENERGIE_RZ': {'1', '7', '0', '2', '3', '6', '4', '5'}, 'D19_FREIZEIT_RZ': {'1', '7', '0', '2', '3', '6', '4', '5'}, 'D19_GARTEN_RZ': {'1', '7', '0', '2', '3', '6', '4', '5'}, 'D19_GESAMT_ANZ_12': {'1', '0', '2', '3', '6', '4', '5'}, 'D19_GESAMT_ANZ_24': {'1', '0', '2', '3', '6', '4', '5'}, 'D19_GESAMT_DATUM': {'8', '1', '7', '2', '3', '6', '4', '10', '9', '5'}, 'D19_GESAMT_OFFLINE_DATUM': {'8', '1', '7', '2', '3', '6', '4', '10', '9', '5'}, 'D19_GESAMT_ONLINE_DATUM': {'8', '1', '7', '2', '3', '6', '4', '10', '9', '5'}, 'D19_GESAMT_ONLINE_QUOTE_12': {'8', '1', '7', '0', '2', '3', '6', '4', '10', '9', '5'}, 'D19_HANDWERK_RZ': {'1', '7', '0', '2', '3', '6', '4', '5'}, 'D19_HAUS_DEKO_RZ': {'1', '7', '0', '2', '3', '6', '4', '5'}, 'D19_KINDERARTIKEL_RZ': {'1', '7', '0', '2', '3', '6', '4', '5'}, 'D19_KONSUMTYP': {'1', '2', '3', '6', '4', '9', '5'}, 'D19_KK_KUNDENTYP': {'1', '-1', '2', '3', '6', '4', '5'}, 'D19_KOSMETIK_RZ': {'1', '7', '0', '2', '3', '6', '4', '5'}, 'D19_LEBENSMITTEL_RZ': {'1', '7', '0', '2', '3', '6', '4', '5'}, 'D19_LOTTO_RZ': {'1', '7', '0', '2', '3', '6', '4', '5'}, 'D19_NAHRUNGSERGAENZUNG_RZ': {'1', '7', '0', '2', '3', '6', '4', '5'}, 'D19_RATGEBER_RZ': {'1', '7', '0', '2', '3', '6', '4', '5'}, 'D19_REISEN_RZ': {'1', '7', '0', '2', '3', '6', '4', '5'}, 'D19_SAMMELARTIKEL_RZ': {'1', '7', '0', '2', '3', '6', '4', '5'}, 'D19_SCHUHE_RZ': {'1', '7', '0', '2', '3', '6', '4', '5'}, 'D19_SONSTIGE_RZ': {'1', '7', '0', '2', '3', '6', '4', '5'}, 'D19_TECHNIK_RZ': {'1', '7', '0', '2', '3', '6', '4', '5'}, 'D19_TELKO_ANZ_12': {'1', '0', '2', '3', '6', '4', '5'}, 'D19_TELKO_ANZ_24': {'1', '0', '2', '3', '6', '4', '5'}, 'D19_TELKO_DATUM': {'8', '1', '7', '2', '3', '6', '4', '10', '9', '5'}, 'D19_TELKO_MOBILE_RZ': {'1', '7', '0', '2', '3', '6', '4', '5'}, 'D19_TELKO_OFFLINE_DATUM': {'8', '1', '7', '2', '3', '6', '4', '10', '9', '5'}, 'D19_TELKO_ONLINE_DATUM': {'8', '1', '7', '2', '3', '6', '4', '10', '9', '5'}, 'D19_TELKO_REST_RZ': {'1', '7', '0', '2', '3', '6', '4', '5'}, 'D19_TIERARTIKEL_RZ': {'1', '7', '0', '2', '3', '6', '4', '5'}, 'D19_VERSAND_ANZ_12': {'1', '0', '2', '3', '6', '4', '5'}, 'D19_VERSAND_ANZ_24': {'1', '0', '2', '3', '6', '4', '5'}, 'D19_VERSAND_DATUM': {'8', '1', '7', '2', '3', '6', '4', '10', '9', '5'}, 'D19_VERSAND_OFFLINE_DATUM': {'8', '1', '7', '2', '3', '6', '4', '10', '9', '5'}, 'D19_VERSAND_ONLINE_DATUM': {'8', '1', '7', '2', '3', '6', '4', '10', '9', '5'}, 'D19_VERSAND_ONLINE_QUOTE_12': {'8', '1', '7', '0', '2', '3', '6', '4', '10', '9', '5'}, 'D19_VERSAND_REST_RZ': {'1', '7', '0', '2', '3', '6', '4', '5'}, 'D19_VERSICHERUNGEN_RZ': {'1', '7', '0', '2', '3', '6', '4', '5'}, 'D19_VERSI_ANZ_12': {'1', '0', '2', '3', '6', '4', '5'}, 'D19_VERSI_ANZ_24': {'1', '0', '2', '3', '6', '4', '5'}, 'D19_VOLLSORTIMENT_RZ': {'1', '7', '0', '2', '3', '6', '4', '5'}, 'D19_WEIN_FEINKOST_RZ': {'1', '7', '0', '2', '3', '6', '4', '5'}, 'EWDICHTE': {'1', '-1', '2', '3', '6', '4', '5'}, 'FINANZTYP': {'1', '-1', '2', '3', '6', '4', '5'}, 'FINANZ_ANLEGER': {'1', '-1', '2', '3', '4', '5'}, 'FINANZ_HAUSBAUER': {'1', '-1', '2', '3', '4', '5'}, 'FINANZ_MINIMALIST': {'1', '-1', '2', '3', '4', '5'}, 'FINANZ_SPARER': {'1', '-1', '2', '3', '4', '5'}, 'FINANZ_UNAUFFAELLIGER': {'1', '-1', '2', '3', '4', '5'}, 'FINANZ_VORSORGER': {'1', '-1', '2', '3', '4', '5'}, 'GEBAEUDETYP': {'8', '1', '7', '2', '3', '6', '4', '5', '-1, 0'}, 'GEBAEUDETYP_RASTER': {'1', '2', '3', '4', '5'}, 'GEBURTSJAHR': {'…'}, 'GFK_URLAUBERTYP': {'8', '11', '1', '7', '2', '3', '6', '4', '10', '12', '9', '5'}, 'GEOSCORE_KLS7': {'1', '7', '2', '3', '6', '4', '5', '-1, 0'}, 'GREEN_AVANTGARDE': {'0', '1'}, 'HAUSHALTSSTRUKTUR': {'8', '1', '7', '2', '3', '6', '4', '9', '5', '-1, 0'}, 'HEALTH_TYP': {'1', '-1', '0', '2', '3'}, 'HH_EINKOMMEN_SCORE': {'1', '2', '3', '6', '4', '5', '-1, 0'}, 'INNENSTADT': {'8', '1', '7', '-1', '2', '3', '6', '4', '5'}, 'KBA05_ALTER1': {'1', '0', '3', '2', '-1, 9', '4'}, 'KBA05_ALTER2': {'1', '3', '2', '-1, 9', '4', '5'}, 'KBA05_ALTER3': {'1', '3', '2', '-1, 9', '4', '5'}, 'KBA05_ALTER4': {'1', '0', '3', '2', '-1, 9', '4', '5'}, 'KBA05_ANHANG': {'1', '0', '3', '2', '-1, 9'}, 'KBA05_ANTG1': {'1', '-1', '0', '2', '3', '4'}, 'KBA05_ANTG2': {'1', '-1', '0', '2', '3', '4'}, 'KBA05_ANTG3': {'1', '-1', '0', '2', '3'}, 'KBA05_ANTG4': {'-1', '2', '1', '0'}, 'KBA05_AUTOQUOT': {'1', '2', '3', '-1, 9', '4', '5'}, 'KBA05_BAUMAX': {'1', '2', '3', '4', '5', '-1, 0'}, 'KBA05_CCM1': {'1', '3', '2', '-1, 9', '4', '5'}, 'KBA05_CCM2': {'1', '3', '2', '-1, 9', '4', '5'}, 'KBA05_CCM3': {'1', '3', '2', '-1, 9', '4', '5'}, 'KBA05_CCM4': {'1', '0', '3', '2', '-1, 9', '4'}, 'KBA05_DIESEL': {'1', '0', '3', '2', '-1, 9', '4'}, 'KBA05_FRAU': {'1', '3', '2', '-1, 9', '4', '5'}, 'KBA05_GBZ': {'1', '2', '3', '4', '5', '-1, 0'}, 'KBA05_HERST1': {'1', '0', '3', '2', '-1, 9', '4', '5'}, 'KBA05_HERST2': {'1', '0', '3', '2', '-1, 9', '4', '5'}, 'KBA05_HERST3': {'1', '0', '3', '2', '-1, 9', '4', '5'}, 'KBA05_HERST4': {'1', '0', '3', '2', '-1, 9', '4', '5'}, 'KBA05_HERST5': {'1', '0', '3', '2', '-1, 9', '4', '5'}, 'KBA05_HERSTTEMP': {'1', '3', '2', '-1, 9', '4', '5'}, 'KBA05_KRSAQUOT': {'1', '3', '2', '-1, 9', '4', '5'}, 'KBA05_KRSHERST1': {'1', '3', '2', '-1, 9', '4', '5'}, 'KBA05_KRSHERST2': {'1', '3', '2', '-1, 9', '4', '5'}, 'KBA05_KRSHERST3': {'1', '3', '2', '-1, 9', '4', '5'}, 'KBA05_KRSKLEIN': {'3', '2', '-1, 9', '1'}, 'KBA05_KRSOBER': {'3', '2', '-1, 9', '1'}, 'KBA05_KRSVAN': {'3', '2', '-1, 9', '1'}, 'KBA05_KRSZUL': {'3', '2', '-1, 9', '1'}, 'KBA05_KW1': {'1', '3', '2', '-1, 9', '4', '5'}, 'KBA05_KW2': {'1', '3', '2', '-1, 9', '4', '5'}, 'KBA05_KW3': {'1', '0', '3', '2', '-1, 9', '4'}, 'KBA05_MAXAH': {'1', '3', '2', '-1, 9', '4', '5'}, 'KBA05_MAXBJ': {'1', '3', '2', '-1, 9', '4'}, 'KBA05_MAXHERST': {'1', '3', '2', '-1, 9', '4', '5'}, 'KBA05_MAXSEG': {'1', '3', '2', '-1, 9', '4'}, 'KBA05_MAXVORB': {'3', '2', '-1, 9', '1'}, 'KBA05_MOD1': {'1', '0', '3', '2', '-1, 9', '4'}, 'KBA05_MOD2': {'1', '3', '2', '-1, 9', '4', '5'}, 'KBA05_MOD3': {'1', '3', '2', '-1, 9', '4', '5'}, 'KBA05_MOD4': {'1', '0', '3', '2', '-1, 9', '4', '5'}, 'KBA05_MOD8': {'1', '0', '3', '2', '-1, 9'}, 'KBA05_MODTEMP': {'1', '3', '2', '-1, 9', '4', '5'}, 'KBA05_MOTOR': {'1', '3', '2', '-1, 9', '4'}, 'KBA05_MOTRAD': {'1', '0', '3', '2', '-1, 9'}, 'KBA05_SEG1': {'1', '0', '3', '2', '-1, 9'}, 'KBA05_SEG10': {'1', '0', '3', '2', '-1, 9', '4'}, 'KBA05_SEG2': {'1', '3', '2', '-1, 9', '4', '5'}, 'KBA05_SEG3': {'1', '3', '2', '-1, 9', '4', '5'}, 'KBA05_SEG4': {'1', '3', '2', '-1, 9', '4', '5'}, 'KBA05_SEG5': {'1', '0', '3', '2', '-1, 9', '4'}, 'KBA05_SEG6': {'0', '-1, 9', '1'}, 'KBA05_SEG7': {'1', '0', '3', '2', '-1, 9'}, 'KBA05_SEG8': {'1', '0', '3', '2', '-1, 9'}, 'KBA05_SEG9': {'1', '0', '3', '2', '-1, 9'}, 'KBA05_VORB0': {'1', '3', '2', '-1, 9', '4', '5'}, 'KBA05_VORB1': {'1', '3', '2', '-1, 9', '4', '5'}, 'KBA05_VORB2': {'1', '0', '3', '2', '-1, 9', '4', '5'}, 'KBA05_ZUL1': {'1', '3', '2', '-1, 9', '4', '5'}, 'KBA05_ZUL2': {'1', '3', '2', '-1, 9', '4', '5'}, 'KBA05_ZUL3': {'1', '0', '3', '2', '-1, 9', '4', '5'}, 'KBA05_ZUL4': {'1', '0', '3', '2', '-1, 9', '4', '5'}, 'KBA13_ALTERHALTER_30': {'1', '-1', '0', '2', '3', '4', '5'}, 'KBA13_ALTERHALTER_45': {'1', '-1', '0', '2', '3', '4', '5'}, 'KBA13_ALTERHALTER_60': {'1', '-1', '0', '2', '3', '4', '5'}, 'KBA13_ALTERHALTER_61': {'1', '-1', '0', '2', '3', '4', '5'}, 'KBA13_ANZAHL_PKW': {'…'}, 'KBA13_AUDI': {'1', '-1', '0', '2', '3', '4', '5'}, 'KBA13_AUTOQUOTE': {'1', '-1', '0', '2', '3', '4', '5'}, 'KBA13_BJ_1999': {'1', '-1', '0', '2', '3', '4', '5'}, 'KBA13_BJ_2000': {'1', '-1', '0', '2', '3', '4', '5'}, 'KBA13_BJ_2004': {'1', '-1', '0', '2', '3', '4', '5'}, 'KBA13_BJ_2006': {'1', '-1', '0', '2', '3', '4', '5'}, 'KBA13_BJ_2008': {'1', '-1', '0', '2', '3', '4', '5'}, 'KBA13_BJ_2009': {'1', '-1', '0', '2', '3', '4', '5'}, 'KBA13_BMW': {'1', '-1', '0', '2', '3', '4', '5'}, 'KBA13_CCM_1000': {'1', '-1', '0', '2', '3', '4', '5'}, 'KBA13_CCM_1200': {'1', '-1', '0', '2', '3', '4', '5'}, 'KBA13_CCM_1400': {'1', '-1', '0', '2', '3', '4', '5'}, 'KBA13_CCM_0_1400': {'1', '-1', '0', '2', '3', '4', '5'}, 'KBA13_CCM_1500': {'1', '-1', '0', '2', '3', '4', '5'}, 'KBA13_CCM_1400_2500': {'1', '-1', '0', '2', '3', '4', '5'}, 'KBA13_CCM_1600': {'1', '-1', '0', '2', '3', '4', '5'}, 'KBA13_CCM_1800': {'1', '-1', '0', '2', '3', '4', '5'}, 'KBA13_CCM_2000': {'1', '-1', '0', '2', '3', '4', '5'}, 'KBA13_CCM_2500': {'1', '-1', '0', '2', '3', '4', '5'}, 'KBA13_CCM_2501': {'1', '-1', '0', '2', '3', '4', '5'}, 'KBA13_CCM_3000': {'1', '-1', '0', '2', '3', '4', '5'}, 'KBA13_CCM_3001': {'1', '-1', '0', '2', '3', '4', '5'}, 'KBA13_FAB_ASIEN': {'1', '-1', '0', '2', '3', '4', '5'}, 'KBA13_FAB_SONSTIGE': {'1', '-1', '0', '2', '3', '4', '5'}, 'KBA13_FIAT': {'1', '-1', '0', '2', '3', '4', '5'}, 'KBA13_FORD': {'1', '-1', '0', '2', '3', '4', '5'}, 'KBA13_HALTER_20': {'1', '-1', '0', '2', '3', '4', '5'}, 'KBA13_HALTER_25': {'1', '-1', '0', '2', '3', '4', '5'}, 'KBA13_HALTER_30': {'1', '-1', '0', '2', '3', '4', '5'}, 'KBA13_HALTER_35': {'1', '-1', '0', '2', '3', '4', '5'}, 'KBA13_HALTER_40': {'1', '-1', '0', '2', '3', '4', '5'}, 'KBA13_HALTER_45': {'1', '-1', '0', '2', '3', '4', '5'}, 'KBA13_HALTER_50': {'1', '-1', '0', '2', '3', '4', '5'}, 'KBA13_HALTER_55': {'1', '-1', '0', '2', '3', '4', '5'}, 'KBA13_HALTER_60': {'1', '-1', '0', '2', '3', '4', '5'}, 'KBA13_HALTER_65': {'1', '-1', '0', '2', '3', '4', '5'}, 'KBA13_HALTER_66': {'1', '-1', '0', '2', '3', '4', '5'}, 'KBA13_HERST_ASIEN': {'1', '-1', '0', '2', '3', '4', '5'}, 'KBA13_HERST_AUDI_VW': {'1', '-1', '0', '2', '3', '4', '5'}, 'KBA13_HERST_BMW_BENZ': {'1', '-1', '0', '2', '3', '4', '5'}, 'KBA13_HERST_EUROPA': {'1', '-1', '0', '2', '3', '4', '5'}, 'KBA13_HERST_FORD_OPEL': {'1', '-1', '0', '2', '3', '4', '5'}, 'KBA13_HERST_SONST': {'1', '-1', '0', '2', '3', '4', '5'}, 'KBA13_KMH_110': {'1', '-1', '0', '2', '3', '4', '5'}, 'KBA13_KMH_140': {'1', '-1', '0', '2', '3', '4', '5'}, 'KBA13_KMH_180': {'1', '-1', '0', '2', '3', '4', '5'}, 'KBA13_KMH_0_140': {'1', '-1', '0', '2', '3', '4', '5'}, 'KBA13_KMH_140_210': {'1', '-1', '0', '2', '3', '4', '5'}, 'KBA13_KMH_211': {'1', '-1', '0', '2', '3', '4', '5'}, 'KBA13_KMH_250': {'1', '-1', '0', '2', '3', '4', '5'}, 'KBA13_KMH_251': {'1', '-1', '0', '2', '3', '4', '5'}, 'KBA13_KRSAQUOT': {'1', '-1', '0', '2', '3', '4', '5'}, 'KBA13_KRSHERST_AUDI_VW': {'1', '-1', '0', '2', '3', '4', '5'}, 'KBA13_KRSHERST_BMW_BENZ': {'1', '-1', '0', '2', '3', '4', '5'}, 'KBA13_KRSHERST_FORD_OPEL': {'1', '-1', '0', '2', '3', '4', '5'}, 'KBA13_KRSSEG_KLEIN': {'1', '-1', '0', '2', '3'}, 'KBA13_KRSSEG_OBER': {'1', '-1', '0', '2', '3'}, 'KBA13_KRSSEG_VAN': {'1', '-1', '0', '2', '3'}, 'KBA13_KRSZUL_NEU': {'1', '-1', '0', '2', '3'}, 'KBA13_KW_30': {'1', '-1', '0', '2', '3', '4', '5'}, 'KBA13_KW_40': {'1', '-1', '0', '2', '3', '4', '5'}, 'KBA13_KW_50': {'1', '-1', '0', '2', '3', '4', '5'}, 'KBA13_KW_60': {'1', '-1', '0', '2', '3', '4', '5'}, 'KBA13_KW_0_60': {'1', '-1', '0', '2', '3', '4', '5'}, 'KBA13_KW_70': {'1', '-1', '0', '2', '3', '4', '5'}, 'KBA13_KW_61_120': {'1', '-1', '0', '2', '3', '4', '5'}, 'KBA13_KW_80': {'1', '-1', '0', '2', '3', '4', '5'}, 'KBA13_KW_90': {'1', '-1', '0', '2', '3', '4', '5'}, 'KBA13_KW_110': {'1', '-1', '0', '2', '3', '4', '5'}, 'KBA13_KW_120': {'1', '-1', '0', '2', '3', '4', '5'}, 'KBA13_KW_121': {'1', '-1', '0', '2', '3', '4', '5'}, 'KBA13_MAZDA': {'1', '-1', '0', '2', '3', '4', '5'}, 'KBA13_MERCEDES': {'1', '-1', '0', '2', '3', '4', '5'}, 'KBA13_MOTOR': {'1', '-1', '0', '2', '3', '4'}, 'KBA13_NISSAN': {'1', '-1', '0', '2', '3', '4', '5'}, 'KBA13_OPEL': {'1', '-1', '0', '2', '3', '4', '5'}, 'KBA13_PEUGEOT': {'1', '-1', '0', '2', '3', '4', '5'}, 'KBA13_RENAULT': {'1', '-1', '0', '2', '3', '4', '5'}, 'KBA13_SEG_GELAENDEWAGEN': {'1', '-1', '0', '2', '3', '4', '5'}, 'KBA13_SEG_GROSSRAUMVANS': {'1', '-1', '0', '2', '3', '4', '5'}, 'KBA13_SEG_KLEINST': {'1', '-1', '0', '2', '3', '4', '5'}, 'KBA13_SEG_KLEINWAGEN': {'1', '-1', '0', '2', '3', '4', '5'}, 'KBA13_SEG_KOMPAKTKLASSE': {'1', '-1', '0', '2', '3', '4', '5'}, 'KBA13_SEG_MINIVANS': {'1', '-1', '0', '2', '3', '4', '5'}, 'KBA13_SEG_MINIWAGEN': {'1', '-1', '0', '2', '3', '4', '5'}, 'KBA13_SEG_MITTELKLASSE': {'1', '-1', '0', '2', '3', '4', '5'}, 'KBA13_SEG_OBEREMITTELKLASSE': {'1', '-1', '0', '2', '3', '4', '5'}, 'KBA13_SEG_OBERKLASSE': {'1', '-1', '0', '2', '3', '4', '5'}, 'KBA13_SEG_SONSTIGE': {'1', '-1', '0', '2', '3', '4', '5'}, 'KBA13_SEG_SPORTWAGEN': {'1', '-1', '0', '2', '3', '4', '5'}, 'KBA13_SEG_UTILITIES': {'1', '-1', '0', '2', '3', '4', '5'}, 'KBA13_SEG_VAN': {'1', '-1', '0', '2', '3', '4', '5'}, 'KBA13_SEG_WOHNMOBILE': {'1', '-1', '0', '2', '3', '4', '5'}, 'KBA13_SITZE_4': {'1', '-1', '0', '2', '3', '4', '5'}, 'KBA13_SITZE_5': {'1', '-1', '0', '2', '3', '4', '5'}, 'KBA13_SITZE_6': {'1', '-1', '0', '2', '3', '4', '5'}, 'KBA13_TOYOTA': {'1', '-1', '0', '2', '3', '4', '5'}, 'KBA13_VORB_0': {'1', '-1', '0', '2', '3', '4', '5'}, 'KBA13_VORB_1': {'1', '-1', '0', '2', '3', '4', '5'}, 'KBA13_VORB_1_2': {'1', '-1', '0', '2', '3', '4', '5'}, 'KBA13_VORB_2': {'1', '-1', '0', '2', '3', '4', '5'}, 'KBA13_VORB_3': {'1', '-1', '0', '2', '3', '4', '5'}, 'KBA13_VW': {'1', '-1', '0', '2', '3', '4', '5'}, 'KKK': {'1', '2', '3', '4', '-1, 0'}, 'KONSUMNAEHE': {'1', '7', '2', '3', '6', '4', '5'}, 'LP_FAMILIE_FEIN': {'8', '11', '1', '7', '2', '3', '6', '4', '10', '9', '5'}, 'LP_FAMILIE_GROB': {'8', '11', '1', '7', '2', '3', '6', '4', '10', '9', '5'}, 'LP_LEBENSPHASE_FEIN': {'37', '1', '20', '17', '34', '30', '14', '32', '8', '33', '31', '13', '10', '12', '11', '16', '24', '7', '18', '35', '4', '28', '21', '9', '22', '25', '27', '5', '23', '38', '40', '19', '2', '3', '36', '29', '6', '26', '39', '15'}, 'LP_LEBENSPHASE_GROB': {'8', '11', '1', '7', '2', '3', '6', '4', '10', '12', '9', '5'}, 'LP_STATUS_FEIN': {'8', '1', '7', '2', '3', '6', '4', '10', '9', '5'}, 'LP_STATUS_GROB': {'8', '1', '7', '2', '3', '6', '4', '10', '9', '5'}, 'MIN_GEBAEUDEJAHR': {'…'}, 'MOBI_REGIO': {'1', '2', '3', '6', '4', '5'}, 'NATIONALITAET_KZ': {'2', '3', '1', '-1, 0'}, 'ONLINE_AFFINITAET': {'1', '0', '2', '3', '4', '5'}, 'ORTSGR_KLS9': {'8', '1', '7', '-1', '2', '3', '6', '4', '9', '5'}, 'OST_WEST_KZ': {'-1', 'W', 'O'}, 'PLZ8_ANTG1': {'1', '-1', '0', '2', '3', '4'}, 'PLZ8_ANTG2': {'1', '-1', '0', '2', '3', '4'}, 'PLZ8_ANTG3': {'1', '-1', '0', '2', '3'}, 'PLZ8_ANTG4': {'-1', '2', '1', '0'}, 'PLZ8_BAUMAX': {'1', '2', '3', '4', '5'}, 'PLZ8_GBZ': {'1', '-1', '2', '3', '4', '5'}, 'PLZ8_HHZ': {'1', '-1', '2', '3', '4', '5'}, 'PRAEGENDE_JUGENDJAHRE': {'8', '11', '1', '7', '2', '3', '13', '6', '4', '10', '12', '9', '14', '15', '5', '-1, 0'}, 'REGIOTYP': {'1', '7', '2', '3', '6', '4', '5', '-1, 0'}, 'RELAT_AB': {'1', '2', '3', '-1, 9', '4', '5'}, 'RETOURTYP_BK_S': {'1', '0', '2', '3', '4', '5'}, 'SEMIO_DOM': {'1', '7', '3', '2', '-1, 9', '4', '6', '5'}, 'SEMIO_ERL': {'1', '7', '3', '2', '-1, 9', '4', '6', '5'}, 'SEMIO_FAM': {'1', '7', '3', '2', '-1, 9', '4', '6', '5'}, 'SEMIO_KAEM': {'1', '7', '3', '2', '-1, 9', '4', '6', '5'}, 'SEMIO_KRIT': {'1', '7', '3', '2', '-1, 9', '4', '6', '5'}, 'SEMIO_KULT': {'1', '7', '3', '2', '-1, 9', '4', '6', '5'}, 'SEMIO_LUST': {'1', '7', '3', '2', '-1, 9', '4', '6', '5'}, 'SEMIO_MAT': {'1', '7', '3', '2', '-1, 9', '4', '6', '5'}, 'SEMIO_PFLICHT': {'1', '7', '3', '2', '-1, 9', '4', '6', '5'}, 'SEMIO_RAT': {'1', '7', '3', '2', '-1, 9', '4', '6', '5'}, 'SEMIO_REL': {'1', '7', '3', '2', '-1, 9', '4', '6', '5'}, 'SEMIO_SOZ': {'1', '7', '3', '2', '-1, 9', '4', '6', '5'}, 'SEMIO_TRADV': {'1', '7', '3', '2', '-1, 9', '4', '6', '5'}, 'SEMIO_VERT': {'1', '7', '3', '2', '-1, 9', '4', '6', '5'}, 'SHOPPER_TYP': {'1', '-1', '0', '2', '3'}, 'SOHO_FLAG': {'-1', '1', '0'}, 'TITEL_KZ': {'1', '2', '3', '4', '5', '-1, 0'}, 'VERS_TYP': {'-1', '2', '1'}, 'WOHNDAUER_2008': {'8', '1', '7', '2', '3', '6', '4', '9', '5', '-1, 0'}, 'WOHNLAGE': {'8', '1', '7', '-1', '0', '2', '3', '4', '5'}, 'WACHSTUMSGEBIET_NB': {'1', '2', '3', '4', '5', '-1, 0'}, 'W_KEIT_KIND_HH': {'1', '2', '3', '6', '4', '5', '-1, 0'}}\n"
          ],
          "name": "stdout"
        }
      ]
    },
    {
      "cell_type": "code",
      "metadata": {
        "id": "lMPfk49DNExJ",
        "colab_type": "code",
        "colab": {}
      },
      "source": [
        "dummies = pd.get_dummies(azdias)\n",
        "dummies"
      ],
      "execution_count": 0,
      "outputs": []
    },
    {
      "cell_type": "markdown",
      "metadata": {
        "id": "8Xx3u3qTUUeJ",
        "colab_type": "text"
      },
      "source": [
        "## 第1部分：顾客分类报告\n",
        "\n",
        "项目报告的主体部分应该就是这部分。在这个部分，你应该使用非监督学习技术来刻画公司已有顾客和德国一般人群的人口统计数据的关系。这部分做完后，你应该能够描述一般人群中的哪一类人更可能是邮购公司的主要核心顾客，哪些人则很可能不是。"
      ]
    },
    {
      "cell_type": "markdown",
      "metadata": {
        "id": "DHQGzOvDUUeK",
        "colab_type": "text"
      },
      "source": [
        "## 第2部分：监督学习模型\n",
        "\n",
        "你现在应该已经发现哪部分人更可能成为邮购公司的顾客了，是时候搭建一个预测模型了。\"MAILOUT\"数据文件的的每一行表示一个邮购活动的潜在顾客。理想情况下我们应该能够使用每个人的人口统计数据来决定是否该把他作为该活动的营销对象。\n",
        "\n",
        "\"MAILOUT\" 数据被分成了两个大致相等的部分，每部分大概有 43 000 行数据。在这部分，你可以用\"TRAIN\"部分来检验你的模型，该数据集包括一列\"RESPONSE\"，该列表示该对象是否参加了该公司的邮购活动。在下一部分，你需要在\"TEST\"数据集上做出预测，该数据集中\"RESPONSE\" 列也被保留了。"
      ]
    },
    {
      "cell_type": "code",
      "metadata": {
        "id": "NH2I5NW7UUeM",
        "colab_type": "code",
        "colab": {}
      },
      "source": [
        "mailout_train = pd.read_csv('../../data/Term2/capstone/arvato_data/Udacity_MAILOUT_052018_TRAIN.csv', sep=';')"
      ],
      "execution_count": 0,
      "outputs": []
    },
    {
      "cell_type": "code",
      "metadata": {
        "id": "BuljvWQoVDEU",
        "colab_type": "code",
        "colab": {
          "base_uri": "https://localhost:8080/",
          "height": 71
        },
        "outputId": "bb7c1a3f-5fbd-4a4a-fadb-12b519551593"
      },
      "source": [
        "mailout_train = pd.read_csv(drive_path+'Udacity_MAILOUT_052018_TRAIN.csv', sep=';')\n"
      ],
      "execution_count": 8,
      "outputs": [
        {
          "output_type": "stream",
          "text": [
            "/usr/local/lib/python3.6/dist-packages/IPython/core/interactiveshell.py:2718: DtypeWarning: Columns (18,19) have mixed types. Specify dtype option on import or set low_memory=False.\n",
            "  interactivity=interactivity, compiler=compiler, result=result)\n"
          ],
          "name": "stderr"
        }
      ]
    },
    {
      "cell_type": "code",
      "metadata": {
        "id": "0HVb5z4lVJbO",
        "colab_type": "code",
        "colab": {
          "base_uri": "https://localhost:8080/",
          "height": 255
        },
        "outputId": "98138a5b-76a4-48c9-ad47-f26ead073270"
      },
      "source": [
        "mailout_train.head"
      ],
      "execution_count": 9,
      "outputs": [
        {
          "output_type": "execute_result",
          "data": {
            "text/plain": [
              "<bound method NDFrame.head of          LNR  AGER_TYP  AKT_DAT_KL  ...  RESPONSE  ANREDE_KZ  ALTERSKATEGORIE_GROB\n",
              "0       1763         2         1.0  ...         0          2                     4\n",
              "1       1771         1         4.0  ...         0          2                     3\n",
              "2       1776         1         1.0  ...         0          1                     4\n",
              "3       1460         2         1.0  ...         0          2                     4\n",
              "4       1783         2         1.0  ...         0          1                     3\n",
              "...      ...       ...         ...  ...       ...        ...                   ...\n",
              "42957  66338         2         1.0  ...         0          1                     4\n",
              "42958  67629        -1         1.0  ...         0          1                     3\n",
              "42959  68273         1         1.0  ...         0          1                     4\n",
              "42960  68581         2         1.0  ...         0          2                     4\n",
              "42961  69224         2         1.0  ...         0          2                     4\n",
              "\n",
              "[42962 rows x 367 columns]>"
            ]
          },
          "metadata": {
            "tags": []
          },
          "execution_count": 9
        }
      ]
    },
    {
      "cell_type": "markdown",
      "metadata": {
        "id": "zP7KcZ79UUep",
        "colab_type": "text"
      },
      "source": [
        "## Part 3:Kaggle比赛\n",
        "\n",
        "你已经搭建了一个用于预测人们有多大程度上会回应邮购活动的模型，是时候到Kaggle上检验一下这个模型了。如果你点击这个 [链接](http://www.kaggle.com/t/21e6d45d4c574c7fa2d868f0e8c83140)，你会进入到比赛界面（如果你已经有一个Kaggle账户的话）如果你表现突出的话，你将有机会收到Arvato或Bertelsmann的人力资源管理的经理的面试邀约！\n",
        "\n",
        "你比赛用提交的文件格式为CSV，该文件含2列。第一列是\"LNR\"，是\"TEST\"部分每个顾客的ID。第二列是\"RESPONSE\"表示此人有多大程度上会参加该活动，可以是某种度量，不一定是概率。你应该在第2部分已经发现了，该数据集存在一个巨大的输出类不平衡的问题，也就是说大部分人都不会参加该邮购活动。因此，预测目标人群的分类并使用准确率来衡量不是一个合适的性能评估方法。相反地，该项竞赛使用AUC衡量模型的性能。\"RESPONSE\"列的绝对值并不重要：仅仅表示高的取值可能吸引到更多的实际参与者，即ROC曲线的前端曲线比较平缓。"
      ]
    },
    {
      "cell_type": "code",
      "metadata": {
        "id": "cOx-WrtnUUeq",
        "colab_type": "code",
        "colab": {}
      },
      "source": [
        "mailout_test = pd.read_csv('../../data/Term2/capstone/arvato_data/Udacity_MAILOUT_052018_TEST.csv', sep=';')"
      ],
      "execution_count": 0,
      "outputs": []
    },
    {
      "cell_type": "markdown",
      "metadata": {
        "id": "edl5iRH3UUeu",
        "colab_type": "text"
      },
      "source": [
        "```python\n",
        "\n",
        "```"
      ]
    }
  ]
}