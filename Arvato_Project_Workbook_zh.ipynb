{
  "nbformat": 4,
  "nbformat_minor": 0,
  "metadata": {
    "kernelspec": {
      "display_name": "Python 3",
      "language": "python",
      "name": "python3"
    },
    "language_info": {
      "codemirror_mode": {
        "name": "ipython",
        "version": 3
      },
      "file_extension": ".py",
      "mimetype": "text/x-python",
      "name": "python",
      "nbconvert_exporter": "python",
      "pygments_lexer": "ipython3",
      "version": "3.7.4-final"
    },
    "colab": {
      "name": "Arvato-Project-Workbook-zh.ipynb",
      "provenance": [],
      "collapsed_sections": [],
      "toc_visible": true,
      "machine_shape": "hm",
      "include_colab_link": true
    }
  },
  "cells": [
    {
      "cell_type": "markdown",
      "execution_count": null,
      "metadata": {
        "colab_type": "text",
        "id": "0fOa2fgHUUd1"
      },
      "outputs": [],
      "source": [
        "# 毕业项目：为 Arvato Financial Services 金融服务公司实现一个顾客分类报告\n",
        "\n",
        "该项目要求你分析德国的一家邮购公司的顾客的人口统计数据，将它和一般的人口统计数据进行比较。你将使用非监督学习技术来实现顾客分类，识别出哪些人群是这家公司的基础核心用户。之后，你将把所学的知识应用到第三个数据集上，该数据集是该公司的一场邮购活动的营销对象的人口统计数据。用你搭建的模型预测哪些人更可能成为该公司的顾客。你要使用的数据由我们的合作伙伴 Bertelsmann Arvato Analytics 公司提供。这是真实场景下的数据科学任务。\n",
        "\n",
        "如果你完成了这个纳米学位的第一学期，做过其中的非监督学习项目，那么你应该对这个项目的第一部分很熟悉了。两个数据集版本不同。这个项目中用到的数据集会包括更多的特征，而且没有预先清洗过。你也可以自由选取分析数据的方法，而不用按照既定的步骤。如果你选择完成的是这个项目，请仔细记录你的步骤和决策，因为你主要交付的成果就是一篇博客文章报告你的发现。"
      ]
    },
    {
      "cell_type": "code",
      "execution_count": 13,
      "metadata": {},
      "outputs": [],
      "source": [
        "#from google.colab import drive\n",
        "#drive.mount('/content/drive')\n",
        "#drive_path = '/content/drive/My Drive/UdacityDataScience/data/'\n",
        "workInCoLab = True"
      ]
    },
    {
      "cell_type": "code",
      "execution_count": 14,
      "metadata": {},
      "outputs": [],
      "source": [
        "# import libraries here; add more as necessary\n",
        "import numpy as np\n",
        "import pandas as pd\n",
        "import matplotlib.pyplot as plt\n",
        "import seaborn as sns\n",
        "import re\n",
        "\n",
        "from tqdm import tqdm\n",
        "tqdm.pandas()\n",
        "\n",
        "# magic word for producing visualizations in notebook\n",
        "%matplotlib inline"
      ]
    },
    {
      "cell_type": "code",
      "execution_count": 15,
      "metadata": {},
      "outputs": [],
      "source": [
        "workInCoLab = True\n",
        "drive_path = ('../../data/Term2/capstone/arvato_data/', 'C:/data/')[workInCoLab]"
      ]
    },
    {
      "cell_type": "markdown",
      "execution_count": null,
      "metadata": {
        "colab_type": "text",
        "id": "HcBQkudEUUd_"
      },
      "outputs": [],
      "source": [
        "## 第 0 部分：了解数据\n",
        "\n",
        "项目数据中包括四个数据文件\n",
        "\n",
        "- `Udacity_AZDIAS_052018.csv`: 德国的一般人口统计数据；891211 人（行）x 366 个特征（列）\n",
        "- `Udacity_CUSTOMERS_052018.csv`: 邮购公司顾客的人口统计数据；191652 人（行）x 369 个特征（列）\n",
        "- `Udacity_MAILOUT_052018_TRAIN.csv`: 营销活动的对象的人口统计数据；42982 人（行）x 367 个特征（列）\n",
        "- `Udacity_MAILOUT_052018_TEST.csv`: 营销活动的对象的人口统计数据；42833 人（行）x 366个特征（列）\n",
        "\n",
        "人口统计数据的每一行表示是一个单独的人，也包括一些非个人特征，比如他的家庭信息、住房信息以及周边环境信息。使用前两个数据文件中的信息来发现顾客（\"CUSTOMERS\"）和一般人（\"AZDIAS\"）在何种程度上相同和不同，然后根据你的分析对其余两个数据文件（\"MAILOUT\"）进行预测，预测更可能成为该邮购公司的客户。\n",
        "\n",
        "\"CUSTOMERS\" 文件包括三个额外的列（'CUSTOMER_GROUP'、’'ONLINE_PURCHASE' 和 'PRODUCT_GROUP'），提供了文件中顾客的更多维度的信息。原始的 \"MAILOUT\" 包括一个额外的列 \"RESPONSE\"，表示每个收到邮件的人是否成为了公司的顾客。对于 \"TRAIN\" 子数据集，该列被保留，但是在 \"TEST\" 子数据集中该列被删除了，它和你最后要在 Kaggle 比赛上预测的数据集中保留的列是对应的。\n",
        "\n",
        "三个数据文件中其他的所有列都是相同的。要获得关于文件中列的更多信息，你可以参考 Workspace 中的两个 Excel 电子表格。[其一](./DIAS Information Levels - Attributes 2017.xlsx) 是一个所有属性和描述的列表，按照信息的类别进行排列。[其二](./DIAS Attributes - Values 2017.xlsx) 是一个详细的每个特征的数据值对应关系，按照字母顺序进行排列。\n",
        "\n",
        "在下面的单元格中，我们提供了一些简单的代码，用于加载进前两个数据集。注意，这个项目中所有的 `.csv` 数据文件都是分号(`;`) 分割的，所以 [`read_csv()`](https://pandas.pydata.org/pandas-docs/stable/generated/pandas.read_csv.html) 中需要加入额外的参数以正确地读取数据。而且，考虑数据集的大小，加载整个数据集可能会花费一些时间。\n",
        "\n",
        "你会注意到在数据加载的时候，会弹出一个警告（warning）信息。在你开始建模和分析之前，你需要先清洗一下数据。浏览一下数据集的结构，查看电子表格中信息了解数据的取值。决定一下要挑选哪些特征，要舍弃哪些特征，以及是否有些数据格式需要修订。我们建议创建一个做预处理的函数，因为你需要在使用数据训练模型前清洗所有数据集。"
      ]
    },
    {
      "cell_type": "code",
      "execution_count": 16,
      "metadata": {},
      "outputs": [
        {
          "name": "stdout",
          "output_type": "stream",
          "text": "Wall time: 41.2 s\n"
        }
      ],
      "source": [
        "%%time\n",
        "azdias = pd.read_csv(drive_path + 'Udacity_AZDIAS_052018.csv', sep=';')\n",
        "customers = pd.read_csv(drive_path + 'Udacity_CUSTOMERS_052018.csv', sep=';')\n",
        "\n",
        "# use column LNR as index\n",
        "azdias.set_index('LNR', inplace=True)\n",
        "customers.set_index('LNR', inplace=True)"
      ]
    },
    {
      "cell_type": "code",
      "execution_count": 17,
      "metadata": {},
      "outputs": [
        {
          "data": {
            "text/html": "<div>\n<style scoped>\n    .dataframe tbody tr th:only-of-type {\n        vertical-align: middle;\n    }\n\n    .dataframe tbody tr th {\n        vertical-align: top;\n    }\n\n    .dataframe thead th {\n        text-align: right;\n    }\n</style>\n<table border=\"1\" class=\"dataframe\">\n  <thead>\n    <tr style=\"text-align: right;\">\n      <th></th>\n      <th>AGER_TYP</th>\n      <th>AKT_DAT_KL</th>\n      <th>ALTER_HH</th>\n      <th>ALTER_KIND1</th>\n      <th>ALTER_KIND2</th>\n      <th>ALTER_KIND3</th>\n      <th>ALTER_KIND4</th>\n      <th>ALTERSKATEGORIE_FEIN</th>\n      <th>ANZ_HAUSHALTE_AKTIV</th>\n      <th>ANZ_HH_TITEL</th>\n      <th>...</th>\n      <th>VHN</th>\n      <th>VK_DHT4A</th>\n      <th>VK_DISTANZ</th>\n      <th>VK_ZG11</th>\n      <th>W_KEIT_KIND_HH</th>\n      <th>WOHNDAUER_2008</th>\n      <th>WOHNLAGE</th>\n      <th>ZABEOTYP</th>\n      <th>ANREDE_KZ</th>\n      <th>ALTERSKATEGORIE_GROB</th>\n    </tr>\n    <tr>\n      <th>LNR</th>\n      <th></th>\n      <th></th>\n      <th></th>\n      <th></th>\n      <th></th>\n      <th></th>\n      <th></th>\n      <th></th>\n      <th></th>\n      <th></th>\n      <th></th>\n      <th></th>\n      <th></th>\n      <th></th>\n      <th></th>\n      <th></th>\n      <th></th>\n      <th></th>\n      <th></th>\n      <th></th>\n      <th></th>\n    </tr>\n  </thead>\n  <tbody>\n    <tr>\n      <td>910215</td>\n      <td>-1</td>\n      <td>NaN</td>\n      <td>NaN</td>\n      <td>NaN</td>\n      <td>NaN</td>\n      <td>NaN</td>\n      <td>NaN</td>\n      <td>NaN</td>\n      <td>NaN</td>\n      <td>NaN</td>\n      <td>...</td>\n      <td>NaN</td>\n      <td>NaN</td>\n      <td>NaN</td>\n      <td>NaN</td>\n      <td>NaN</td>\n      <td>NaN</td>\n      <td>NaN</td>\n      <td>3</td>\n      <td>1</td>\n      <td>2</td>\n    </tr>\n    <tr>\n      <td>910220</td>\n      <td>-1</td>\n      <td>9.0</td>\n      <td>0.0</td>\n      <td>NaN</td>\n      <td>NaN</td>\n      <td>NaN</td>\n      <td>NaN</td>\n      <td>21.0</td>\n      <td>11.0</td>\n      <td>0.0</td>\n      <td>...</td>\n      <td>4.0</td>\n      <td>8.0</td>\n      <td>11.0</td>\n      <td>10.0</td>\n      <td>3.0</td>\n      <td>9.0</td>\n      <td>4.0</td>\n      <td>5</td>\n      <td>2</td>\n      <td>1</td>\n    </tr>\n    <tr>\n      <td>910225</td>\n      <td>-1</td>\n      <td>9.0</td>\n      <td>17.0</td>\n      <td>NaN</td>\n      <td>NaN</td>\n      <td>NaN</td>\n      <td>NaN</td>\n      <td>17.0</td>\n      <td>10.0</td>\n      <td>0.0</td>\n      <td>...</td>\n      <td>2.0</td>\n      <td>9.0</td>\n      <td>9.0</td>\n      <td>6.0</td>\n      <td>3.0</td>\n      <td>9.0</td>\n      <td>2.0</td>\n      <td>5</td>\n      <td>2</td>\n      <td>3</td>\n    </tr>\n    <tr>\n      <td>910226</td>\n      <td>2</td>\n      <td>1.0</td>\n      <td>13.0</td>\n      <td>NaN</td>\n      <td>NaN</td>\n      <td>NaN</td>\n      <td>NaN</td>\n      <td>13.0</td>\n      <td>1.0</td>\n      <td>0.0</td>\n      <td>...</td>\n      <td>0.0</td>\n      <td>7.0</td>\n      <td>10.0</td>\n      <td>11.0</td>\n      <td>NaN</td>\n      <td>9.0</td>\n      <td>7.0</td>\n      <td>3</td>\n      <td>2</td>\n      <td>4</td>\n    </tr>\n    <tr>\n      <td>910241</td>\n      <td>-1</td>\n      <td>1.0</td>\n      <td>20.0</td>\n      <td>NaN</td>\n      <td>NaN</td>\n      <td>NaN</td>\n      <td>NaN</td>\n      <td>14.0</td>\n      <td>3.0</td>\n      <td>0.0</td>\n      <td>...</td>\n      <td>2.0</td>\n      <td>3.0</td>\n      <td>5.0</td>\n      <td>4.0</td>\n      <td>2.0</td>\n      <td>9.0</td>\n      <td>3.0</td>\n      <td>4</td>\n      <td>1</td>\n      <td>3</td>\n    </tr>\n  </tbody>\n</table>\n<p>5 rows × 365 columns</p>\n</div>",
            "text/plain": "        AGER_TYP  AKT_DAT_KL  ALTER_HH  ALTER_KIND1  ALTER_KIND2  ALTER_KIND3  \\\nLNR                                                                             \n910215        -1         NaN       NaN          NaN          NaN          NaN   \n910220        -1         9.0       0.0          NaN          NaN          NaN   \n910225        -1         9.0      17.0          NaN          NaN          NaN   \n910226         2         1.0      13.0          NaN          NaN          NaN   \n910241        -1         1.0      20.0          NaN          NaN          NaN   \n\n        ALTER_KIND4  ALTERSKATEGORIE_FEIN  ANZ_HAUSHALTE_AKTIV  ANZ_HH_TITEL  \\\nLNR                                                                            \n910215          NaN                   NaN                  NaN           NaN   \n910220          NaN                  21.0                 11.0           0.0   \n910225          NaN                  17.0                 10.0           0.0   \n910226          NaN                  13.0                  1.0           0.0   \n910241          NaN                  14.0                  3.0           0.0   \n\n        ...  VHN  VK_DHT4A  VK_DISTANZ  VK_ZG11  W_KEIT_KIND_HH  \\\nLNR     ...                                                       \n910215  ...  NaN       NaN         NaN      NaN             NaN   \n910220  ...  4.0       8.0        11.0     10.0             3.0   \n910225  ...  2.0       9.0         9.0      6.0             3.0   \n910226  ...  0.0       7.0        10.0     11.0             NaN   \n910241  ...  2.0       3.0         5.0      4.0             2.0   \n\n        WOHNDAUER_2008 WOHNLAGE ZABEOTYP ANREDE_KZ  ALTERSKATEGORIE_GROB  \nLNR                                                                       \n910215             NaN      NaN        3         1                     2  \n910220             9.0      4.0        5         2                     1  \n910225             9.0      2.0        5         2                     3  \n910226             9.0      7.0        3         2                     4  \n910241             9.0      3.0        4         1                     3  \n\n[5 rows x 365 columns]"
          },
          "execution_count": 17,
          "metadata": {},
          "output_type": "execute_result"
        }
      ],
      "source": [
        "azdias.head()"
      ]
    },
    {
      "cell_type": "code",
      "execution_count": 18,
      "metadata": {},
      "outputs": [
        {
          "data": {
            "text/html": "<div>\n<style scoped>\n    .dataframe tbody tr th:only-of-type {\n        vertical-align: middle;\n    }\n\n    .dataframe tbody tr th {\n        vertical-align: top;\n    }\n\n    .dataframe thead th {\n        text-align: right;\n    }\n</style>\n<table border=\"1\" class=\"dataframe\">\n  <thead>\n    <tr style=\"text-align: right;\">\n      <th></th>\n      <th>AGER_TYP</th>\n      <th>AKT_DAT_KL</th>\n      <th>ALTER_HH</th>\n      <th>ALTER_KIND1</th>\n      <th>ALTER_KIND2</th>\n      <th>ALTER_KIND3</th>\n      <th>ALTER_KIND4</th>\n      <th>ALTERSKATEGORIE_FEIN</th>\n      <th>ANZ_HAUSHALTE_AKTIV</th>\n      <th>ANZ_HH_TITEL</th>\n      <th>...</th>\n      <th>VK_ZG11</th>\n      <th>W_KEIT_KIND_HH</th>\n      <th>WOHNDAUER_2008</th>\n      <th>WOHNLAGE</th>\n      <th>ZABEOTYP</th>\n      <th>PRODUCT_GROUP</th>\n      <th>CUSTOMER_GROUP</th>\n      <th>ONLINE_PURCHASE</th>\n      <th>ANREDE_KZ</th>\n      <th>ALTERSKATEGORIE_GROB</th>\n    </tr>\n    <tr>\n      <th>LNR</th>\n      <th></th>\n      <th></th>\n      <th></th>\n      <th></th>\n      <th></th>\n      <th></th>\n      <th></th>\n      <th></th>\n      <th></th>\n      <th></th>\n      <th></th>\n      <th></th>\n      <th></th>\n      <th></th>\n      <th></th>\n      <th></th>\n      <th></th>\n      <th></th>\n      <th></th>\n      <th></th>\n      <th></th>\n    </tr>\n  </thead>\n  <tbody>\n    <tr>\n      <td>9626</td>\n      <td>2</td>\n      <td>1.0</td>\n      <td>10.0</td>\n      <td>NaN</td>\n      <td>NaN</td>\n      <td>NaN</td>\n      <td>NaN</td>\n      <td>10.0</td>\n      <td>1.0</td>\n      <td>0.0</td>\n      <td>...</td>\n      <td>2.0</td>\n      <td>6.0</td>\n      <td>9.0</td>\n      <td>7.0</td>\n      <td>3</td>\n      <td>COSMETIC_AND_FOOD</td>\n      <td>MULTI_BUYER</td>\n      <td>0</td>\n      <td>1</td>\n      <td>4</td>\n    </tr>\n    <tr>\n      <td>9628</td>\n      <td>-1</td>\n      <td>9.0</td>\n      <td>11.0</td>\n      <td>NaN</td>\n      <td>NaN</td>\n      <td>NaN</td>\n      <td>NaN</td>\n      <td>NaN</td>\n      <td>NaN</td>\n      <td>NaN</td>\n      <td>...</td>\n      <td>3.0</td>\n      <td>0.0</td>\n      <td>9.0</td>\n      <td>NaN</td>\n      <td>3</td>\n      <td>FOOD</td>\n      <td>SINGLE_BUYER</td>\n      <td>0</td>\n      <td>1</td>\n      <td>4</td>\n    </tr>\n    <tr>\n      <td>143872</td>\n      <td>-1</td>\n      <td>1.0</td>\n      <td>6.0</td>\n      <td>NaN</td>\n      <td>NaN</td>\n      <td>NaN</td>\n      <td>NaN</td>\n      <td>0.0</td>\n      <td>1.0</td>\n      <td>0.0</td>\n      <td>...</td>\n      <td>11.0</td>\n      <td>6.0</td>\n      <td>9.0</td>\n      <td>2.0</td>\n      <td>3</td>\n      <td>COSMETIC_AND_FOOD</td>\n      <td>MULTI_BUYER</td>\n      <td>0</td>\n      <td>2</td>\n      <td>4</td>\n    </tr>\n    <tr>\n      <td>143873</td>\n      <td>1</td>\n      <td>1.0</td>\n      <td>8.0</td>\n      <td>NaN</td>\n      <td>NaN</td>\n      <td>NaN</td>\n      <td>NaN</td>\n      <td>8.0</td>\n      <td>0.0</td>\n      <td>NaN</td>\n      <td>...</td>\n      <td>2.0</td>\n      <td>NaN</td>\n      <td>9.0</td>\n      <td>7.0</td>\n      <td>1</td>\n      <td>COSMETIC</td>\n      <td>MULTI_BUYER</td>\n      <td>0</td>\n      <td>1</td>\n      <td>4</td>\n    </tr>\n    <tr>\n      <td>143874</td>\n      <td>-1</td>\n      <td>1.0</td>\n      <td>20.0</td>\n      <td>NaN</td>\n      <td>NaN</td>\n      <td>NaN</td>\n      <td>NaN</td>\n      <td>14.0</td>\n      <td>7.0</td>\n      <td>0.0</td>\n      <td>...</td>\n      <td>4.0</td>\n      <td>2.0</td>\n      <td>9.0</td>\n      <td>3.0</td>\n      <td>1</td>\n      <td>FOOD</td>\n      <td>MULTI_BUYER</td>\n      <td>0</td>\n      <td>1</td>\n      <td>3</td>\n    </tr>\n  </tbody>\n</table>\n<p>5 rows × 368 columns</p>\n</div>",
            "text/plain": "        AGER_TYP  AKT_DAT_KL  ALTER_HH  ALTER_KIND1  ALTER_KIND2  ALTER_KIND3  \\\nLNR                                                                             \n9626           2         1.0      10.0          NaN          NaN          NaN   \n9628          -1         9.0      11.0          NaN          NaN          NaN   \n143872        -1         1.0       6.0          NaN          NaN          NaN   \n143873         1         1.0       8.0          NaN          NaN          NaN   \n143874        -1         1.0      20.0          NaN          NaN          NaN   \n\n        ALTER_KIND4  ALTERSKATEGORIE_FEIN  ANZ_HAUSHALTE_AKTIV  ANZ_HH_TITEL  \\\nLNR                                                                            \n9626            NaN                  10.0                  1.0           0.0   \n9628            NaN                   NaN                  NaN           NaN   \n143872          NaN                   0.0                  1.0           0.0   \n143873          NaN                   8.0                  0.0           NaN   \n143874          NaN                  14.0                  7.0           0.0   \n\n        ...  VK_ZG11  W_KEIT_KIND_HH  WOHNDAUER_2008  WOHNLAGE  ZABEOTYP  \\\nLNR     ...                                                                \n9626    ...      2.0             6.0             9.0       7.0         3   \n9628    ...      3.0             0.0             9.0       NaN         3   \n143872  ...     11.0             6.0             9.0       2.0         3   \n143873  ...      2.0             NaN             9.0       7.0         1   \n143874  ...      4.0             2.0             9.0       3.0         1   \n\n            PRODUCT_GROUP CUSTOMER_GROUP ONLINE_PURCHASE ANREDE_KZ  \\\nLNR                                                                  \n9626    COSMETIC_AND_FOOD    MULTI_BUYER               0         1   \n9628                 FOOD   SINGLE_BUYER               0         1   \n143872  COSMETIC_AND_FOOD    MULTI_BUYER               0         2   \n143873           COSMETIC    MULTI_BUYER               0         1   \n143874               FOOD    MULTI_BUYER               0         1   \n\n        ALTERSKATEGORIE_GROB  \nLNR                           \n9626                       4  \n9628                       4  \n143872                     4  \n143873                     4  \n143874                     3  \n\n[5 rows x 368 columns]"
          },
          "execution_count": 18,
          "metadata": {},
          "output_type": "execute_result"
        }
      ],
      "source": [
        "customers.head()"
      ]
    },
    {
      "cell_type": "markdown",
      "execution_count": null,
      "metadata": {
        "colab_type": "text",
        "id": "98XxwxDALRs1"
      },
      "outputs": [],
      "source": [
        "## 第0部分：清洗数据 cleaning Data\n"
      ]
    },
    {
      "cell_type": "markdown",
      "execution_count": null,
      "metadata": {
        "colab_type": "text",
        "id": "d5dY2IYCL862"
      },
      "outputs": [],
      "source": [
        "### 警告形象对应的数据问题\n",
        "\n",
        "首先我们看看警告所提出的问题，18和19列里到底有什么样的数据问题？"
      ]
    },
    {
      "cell_type": "code",
      "execution_count": 19,
      "metadata": {},
      "outputs": [
        {
          "name": "stdout",
          "output_type": "stream",
          "text": "column 18 label isCAMEO_INTL_2015\ncolumn 19 label isCJT_GESAMTTYP\n[nan 51.0 24.0 12.0 43.0 54.0 22.0 14.0 13.0 15.0 33.0 41.0 34.0 55.0 25.0\n 23.0 31.0 52.0 35.0 45.0 44.0 32.0 '22' '24' '41' '12' '54' '51' '44'\n '35' '23' '25' '14' '34' '52' '55' '31' '32' '15' '13' '43' '33' '45'\n 'XX']\n[ 2.  5.  3.  4.  1.  6. nan]\n"
        }
      ],
      "source": [
        "print('column 18 label is', azdias.columns[18])\n",
        "print('column 19 label is', azdias.columns[19])\n",
        "print(azdias[azdias.columns[18]].unique())\n",
        "print(azdias[azdias.columns[19]].unique())"
      ]
    },
    {
      "cell_type": "code",
      "execution_count": 20,
      "metadata": {},
      "outputs": [
        {
          "name": "stdout",
          "output_type": "stream",
          "text": "== findObjectAttributs(azdias) ==\nCAMEO_DEU_2015 has value [nan '8A' '4C' '2A' '6B' '8C' '4A' '2D' '1A' '1E' '9D' '5C' '8B' '7A' '5D'\n '9E' '9B' '1B' '3D' '4E' '4B' '3C' '5A' '7B' '9A' '6D' '6E' '2C' '7C'\n '9C' '7D' '5E' '1D' '8D' '6C' '6A' '5B' '4D' '3A' '2B' '7E' '3B' '6F'\n '5F' '1C' 'XX']\nCAMEO_DEUG_2015 has value [nan 8.0 4.0 2.0 6.0 1.0 9.0 5.0 7.0 3.0 '4' '3' '7' '2' '8' '9' '6' '5'\n '1' 'X']\nCAMEO_INTL_2015 has value [nan 51.0 24.0 12.0 43.0 54.0 22.0 14.0 13.0 15.0 33.0 41.0 34.0 55.0 25.0\n 23.0 31.0 52.0 35.0 45.0 44.0 32.0 '22' '24' '41' '12' '54' '51' '44'\n '35' '23' '25' '14' '34' '52' '55' '31' '32' '15' '13' '43' '33' '45'\n 'XX']\nD19_LETZTER_KAUF_BRANCHE has value [nan 'D19_UNBEKANNT' 'D19_SCHUHE' 'D19_ENERGIE' 'D19_KOSMETIK'\n 'D19_VOLLSORTIMENT' 'D19_SONSTIGE' 'D19_BANKEN_GROSS'\n 'D19_DROGERIEARTIKEL' 'D19_HANDWERK' 'D19_BUCH_CD' 'D19_VERSICHERUNGEN'\n 'D19_VERSAND_REST' 'D19_TELKO_REST' 'D19_BANKEN_DIREKT' 'D19_BANKEN_REST'\n 'D19_FREIZEIT' 'D19_LEBENSMITTEL' 'D19_HAUS_DEKO' 'D19_BEKLEIDUNG_REST'\n 'D19_SAMMELARTIKEL' 'D19_TELKO_MOBILE' 'D19_REISEN' 'D19_BEKLEIDUNG_GEH'\n 'D19_TECHNIK' 'D19_NAHRUNGSERGAENZUNG' 'D19_DIGIT_SERV' 'D19_LOTTO'\n 'D19_RATGEBER' 'D19_TIERARTIKEL' 'D19_KINDERARTIKEL' 'D19_BIO_OEKO'\n 'D19_WEIN_FEINKOST' 'D19_GARTEN' 'D19_BILDUNG' 'D19_BANKEN_LOKAL']\nEINGEFUEGT_AM has value [nan '1992-02-10 00:00:00' '1992-02-12 00:00:00' ... '2010-12-02 00:00:00'\n '2005-03-19 00:00:00' '2011-11-18 00:00:00']\nOST_WEST_KZ has value [nan 'W' 'O']\n== findObjectAttributs(customers) ==\nCAMEO_DEU_2015 has value ['1A' nan '5D' '4C' '7B' '3B' '1D' '9E' '2D' '4A' '6B' '9D' '8B' '5C' '9C'\n '4E' '6C' '8C' '8A' '5B' '9B' '3D' '2A' '3C' '5F' '7A' '1E' '2C' '7C'\n '5A' '2B' '6D' '7E' '5E' '6E' '3A' '9A' '4B' '1C' '1B' '6A' '8D' '7D'\n '6F' '4D' 'XX']\nCAMEO_DEUG_2015 has value [1.0 nan 5.0 4.0 7.0 3.0 9.0 2.0 6.0 8.0 '6' '3' '8' '9' '2' '4' '1' '7'\n '5' 'X']\nCAMEO_INTL_2015 has value [13.0 nan 34.0 24.0 41.0 23.0 15.0 55.0 14.0 22.0 43.0 51.0 33.0 25.0 44.0\n 54.0 32.0 12.0 35.0 31.0 45.0 52.0 '45' '25' '55' '51' '14' '54' '43'\n '22' '15' '24' '35' '23' '12' '44' '41' '52' '31' '13' '34' '32' '33'\n 'XX']\nD19_LETZTER_KAUF_BRANCHE has value ['D19_UNBEKANNT' 'D19_BANKEN_GROSS' 'D19_NAHRUNGSERGAENZUNG' 'D19_SCHUHE'\n 'D19_BUCH_CD' 'D19_DROGERIEARTIKEL' 'D19_SONSTIGE' 'D19_TECHNIK'\n 'D19_VERSICHERUNGEN' 'D19_TELKO_MOBILE' 'D19_VOLLSORTIMENT' nan\n 'D19_HAUS_DEKO' 'D19_ENERGIE' 'D19_REISEN' 'D19_BANKEN_LOKAL'\n 'D19_VERSAND_REST' 'D19_BEKLEIDUNG_REST' 'D19_FREIZEIT'\n 'D19_BEKLEIDUNG_GEH' 'D19_TELKO_REST' 'D19_SAMMELARTIKEL'\n 'D19_BANKEN_DIREKT' 'D19_KINDERARTIKEL' 'D19_BANKEN_REST'\n 'D19_LEBENSMITTEL' 'D19_GARTEN' 'D19_HANDWERK' 'D19_RATGEBER'\n 'D19_DIGIT_SERV' 'D19_BIO_OEKO' 'D19_BILDUNG' 'D19_WEIN_FEINKOST'\n 'D19_TIERARTIKEL' 'D19_LOTTO' 'D19_KOSMETIK']\nEINGEFUEGT_AM has value ['1992-02-12 00:00:00' nan '1992-02-10 00:00:00' ... '2008-04-25 00:00:00'\n '2005-03-30 00:00:00' '2008-07-14 00:00:00']\nOST_WEST_KZ has value ['W' nan 'O']\nPRODUCT_GROUP has value ['COSMETIC_AND_FOOD' 'FOOD' 'COSMETIC']\nCUSTOMER_GROUP has value ['MULTI_BUYER' 'SINGLE_BUYER']\n"
        }
      ],
      "source": [
        "def findObjectAttributs(dataframe):\n",
        "  '''\n",
        "  find which column in dataframe has object as dtype. \n",
        "  Args:\n",
        "    dataframe {DataFrame} -- it could be customer or azdias\n",
        "  Returns:\n",
        "    {set} -- a set of column names, those the dtypes of column is value type \n",
        "      object\n",
        "  '''\n",
        "  #object_columns = set()\n",
        "  for attr in dataframe.columns[1:]: \n",
        "    attr_unique_values = dataframe[attr].unique()\n",
        "    if dataframe[attr].dtypes == \"object\": \n",
        "      #object_columns.add(attr)\n",
        "      print(f'{attr} has value {attr_unique_values}')\n",
        "  #return object_columns\n",
        "\n",
        "print('== findObjectAttributs(azdias) ==')\n",
        "findObjectAttributs(azdias)\n",
        "\n",
        "print('== findObjectAttributs(customers) ==')\n",
        "findObjectAttributs(customers)"
      ]
    },
    {
      "cell_type": "markdown",
      "execution_count": null,
      "metadata": {},
      "outputs": [],
      "source": [
        "居于上面的方向我们发现了这里有 X 和 XX 的数据，对应于数据描述./DIAS Attributes - Values 2017.xlsx这些并不市有效的值。同时还存在string和number共同存在这些列中。我们将先对这两列作相应的处理。同时我们发现作为需要的值是可以处理为-1，表示unknown。"
      ]
    },
    {
      "cell_type": "code",
      "execution_count": 21,
      "metadata": {},
      "outputs": [
        {
          "name": "stdout",
          "output_type": "stream",
          "text": "== cleanupCameoDeu2015 in azdias ==\nafter cleanup column CAMEO_DEU_2015 has values: [nan '8A' '4C' '2A' '6B' '8C' '4A' '2D' '1A' '1E' '9D' '5C' '8B' '7A' '5D'\n '9E' '9B' '1B' '3D' '4E' '4B' '3C' '5A' '7B' '9A' '6D' '6E' '2C' '7C'\n '9C' '7D' '5E' '1D' '8D' '6C' '6A' '5B' '4D' '3A' '2B' '7E' '3B' '6F'\n '5F' '1C']\n\nafter cleanup column CAMEO_DEUG_2015 has values: [nan '8' '4' '2' '6' '1' '9' '5' '7' '3']\n\nafter cleanup column CAMEO_INTL_2015 has values: [nan '5' '2' '1' '4' '3' '22' '24' '41' '12' '54' '51' '44' '35' '23' '25'\n '14' '34' '52' '55' '31' '32' '15' '13' '43' '33' '45']\n\n== cleanupCameoDeu2015 in customers ==\nafter cleanup column CAMEO_DEU_2015 has values: ['1A' nan '5D' '4C' '7B' '3B' '1D' '9E' '2D' '4A' '6B' '9D' '8B' '5C' '9C'\n '4E' '6C' '8C' '8A' '5B' '9B' '3D' '2A' '3C' '5F' '7A' '1E' '2C' '7C'\n '5A' '2B' '6D' '7E' '5E' '6E' '3A' '9A' '4B' '1C' '1B' '6A' '8D' '7D'\n '6F' '4D']\n\nafter cleanup column CAMEO_DEUG_2015 has values: ['1' nan '5' '4' '7' '3' '9' '2' '6' '8']\n\nafter cleanup column CAMEO_INTL_2015 has values: ['1' nan '3' '2' '4' '5' '45' '25' '55' '51' '14' '54' '43' '22' '15' '24'\n '35' '23' '12' '44' '41' '52' '31' '13' '34' '32' '33']\n\n"
        }
      ],
      "source": [
        "def cleanupCameoDeu2015(dataframe):\n",
        "  dataframe['CAMEO_DEU_2015'] = dataframe['CAMEO_DEU_2015'].replace('XX', np.nan)\n",
        "  print(f'after cleanup column CAMEO_DEU_2015 has values: {dataframe[\"CAMEO_DEU_2015\"].unique()}\\n')\n",
        "\n",
        "  dataframe['CAMEO_DEUG_2015'] = dataframe['CAMEO_DEUG_2015']\\\n",
        "                                  .replace('X', np.nan)\\\n",
        "                                  .map(lambda x: str(x)[0])\\\n",
        "                                  .map(lambda x: np.nan if x in ['n'] else x)\n",
        "  print(f'after cleanup column CAMEO_DEUG_2015 has values: {dataframe[\"CAMEO_DEUG_2015\"].unique()}\\n')\n",
        "\n",
        "  dataframe['CAMEO_INTL_2015'] = dataframe['CAMEO_INTL_2015']\\\n",
        "                              .replace('XX', np.nan)\\\n",
        "                              .map(lambda x: str(x)[0:1] if str(x)[-2:]=='.0' else x)\\\n",
        "                              .map(lambda y: np.nan if y == 'na' else y)\n",
        "  print(f'after cleanup column CAMEO_INTL_2015 has values: {dataframe[\"CAMEO_INTL_2015\"].unique()}\\n')\n",
        "\n",
        "\n",
        "print(\"== cleanupCameoDeu2015 in azdias ==\")\n",
        "cleanupCameoDeu2015(azdias)\n",
        "\n",
        "print(\"== cleanupCameoDeu2015 in customers ==\")\n",
        "cleanupCameoDeu2015(customers)"
      ]
    },
    {
      "cell_type": "markdown",
      "execution_count": null,
      "metadata": {
        "colab_type": "text",
        "id": "aYiZztOfQOXe"
      },
      "outputs": [],
      "source": [
        "整个清理数据的目标就是，我们利用pandas的get_dummies方法可以将这个attribute对应成以键值的特征矩阵，后面可以替换对应的attribute列。比如列CAMEO_INTL_2015将被下面的dummies替换。下面是一个例子，dummis将会是一个以LNR为索引，具体attribute__value为列的特征矩阵。"
      ]
    },
    {
      "cell_type": "code",
      "execution_count": 22,
      "metadata": {},
      "outputs": [
        {
          "data": {
            "text/html": "<div>\n<style scoped>\n    .dataframe tbody tr th:only-of-type {\n        vertical-align: middle;\n    }\n\n    .dataframe tbody tr th {\n        vertical-align: top;\n    }\n\n    .dataframe thead th {\n        text-align: right;\n    }\n</style>\n<table border=\"1\" class=\"dataframe\">\n  <thead>\n    <tr style=\"text-align: right;\">\n      <th></th>\n      <th>AGER_TYP</th>\n      <th>AKT_DAT_KL</th>\n      <th>ALTER_HH</th>\n      <th>ALTER_KIND1</th>\n      <th>ALTER_KIND2</th>\n      <th>ALTER_KIND3</th>\n      <th>ALTER_KIND4</th>\n      <th>ALTERSKATEGORIE_FEIN</th>\n      <th>ANZ_HAUSHALTE_AKTIV</th>\n      <th>ANZ_HH_TITEL</th>\n      <th>...</th>\n      <th>CAMEO_INTL_2015__4</th>\n      <th>CAMEO_INTL_2015__41</th>\n      <th>CAMEO_INTL_2015__43</th>\n      <th>CAMEO_INTL_2015__44</th>\n      <th>CAMEO_INTL_2015__45</th>\n      <th>CAMEO_INTL_2015__5</th>\n      <th>CAMEO_INTL_2015__51</th>\n      <th>CAMEO_INTL_2015__52</th>\n      <th>CAMEO_INTL_2015__54</th>\n      <th>CAMEO_INTL_2015__55</th>\n    </tr>\n    <tr>\n      <th>LNR</th>\n      <th></th>\n      <th></th>\n      <th></th>\n      <th></th>\n      <th></th>\n      <th></th>\n      <th></th>\n      <th></th>\n      <th></th>\n      <th></th>\n      <th></th>\n      <th></th>\n      <th></th>\n      <th></th>\n      <th></th>\n      <th></th>\n      <th></th>\n      <th></th>\n      <th></th>\n      <th></th>\n      <th></th>\n    </tr>\n  </thead>\n  <tbody>\n    <tr>\n      <td>910215</td>\n      <td>-1</td>\n      <td>NaN</td>\n      <td>NaN</td>\n      <td>NaN</td>\n      <td>NaN</td>\n      <td>NaN</td>\n      <td>NaN</td>\n      <td>NaN</td>\n      <td>NaN</td>\n      <td>NaN</td>\n      <td>...</td>\n      <td>0</td>\n      <td>0</td>\n      <td>0</td>\n      <td>0</td>\n      <td>0</td>\n      <td>0</td>\n      <td>0</td>\n      <td>0</td>\n      <td>0</td>\n      <td>0</td>\n    </tr>\n    <tr>\n      <td>910220</td>\n      <td>-1</td>\n      <td>9.0</td>\n      <td>0.0</td>\n      <td>NaN</td>\n      <td>NaN</td>\n      <td>NaN</td>\n      <td>NaN</td>\n      <td>21.0</td>\n      <td>11.0</td>\n      <td>0.0</td>\n      <td>...</td>\n      <td>0</td>\n      <td>0</td>\n      <td>0</td>\n      <td>0</td>\n      <td>0</td>\n      <td>1</td>\n      <td>0</td>\n      <td>0</td>\n      <td>0</td>\n      <td>0</td>\n    </tr>\n    <tr>\n      <td>910225</td>\n      <td>-1</td>\n      <td>9.0</td>\n      <td>17.0</td>\n      <td>NaN</td>\n      <td>NaN</td>\n      <td>NaN</td>\n      <td>NaN</td>\n      <td>17.0</td>\n      <td>10.0</td>\n      <td>0.0</td>\n      <td>...</td>\n      <td>0</td>\n      <td>0</td>\n      <td>0</td>\n      <td>0</td>\n      <td>0</td>\n      <td>0</td>\n      <td>0</td>\n      <td>0</td>\n      <td>0</td>\n      <td>0</td>\n    </tr>\n    <tr>\n      <td>910226</td>\n      <td>2</td>\n      <td>1.0</td>\n      <td>13.0</td>\n      <td>NaN</td>\n      <td>NaN</td>\n      <td>NaN</td>\n      <td>NaN</td>\n      <td>13.0</td>\n      <td>1.0</td>\n      <td>0.0</td>\n      <td>...</td>\n      <td>0</td>\n      <td>0</td>\n      <td>0</td>\n      <td>0</td>\n      <td>0</td>\n      <td>0</td>\n      <td>0</td>\n      <td>0</td>\n      <td>0</td>\n      <td>0</td>\n    </tr>\n    <tr>\n      <td>910241</td>\n      <td>-1</td>\n      <td>1.0</td>\n      <td>20.0</td>\n      <td>NaN</td>\n      <td>NaN</td>\n      <td>NaN</td>\n      <td>NaN</td>\n      <td>14.0</td>\n      <td>3.0</td>\n      <td>0.0</td>\n      <td>...</td>\n      <td>1</td>\n      <td>0</td>\n      <td>0</td>\n      <td>0</td>\n      <td>0</td>\n      <td>0</td>\n      <td>0</td>\n      <td>0</td>\n      <td>0</td>\n      <td>0</td>\n    </tr>\n    <tr>\n      <td>...</td>\n      <td>...</td>\n      <td>...</td>\n      <td>...</td>\n      <td>...</td>\n      <td>...</td>\n      <td>...</td>\n      <td>...</td>\n      <td>...</td>\n      <td>...</td>\n      <td>...</td>\n      <td>...</td>\n      <td>...</td>\n      <td>...</td>\n      <td>...</td>\n      <td>...</td>\n      <td>...</td>\n      <td>...</td>\n      <td>...</td>\n      <td>...</td>\n      <td>...</td>\n      <td>...</td>\n    </tr>\n    <tr>\n      <td>825761</td>\n      <td>-1</td>\n      <td>5.0</td>\n      <td>17.0</td>\n      <td>NaN</td>\n      <td>NaN</td>\n      <td>NaN</td>\n      <td>NaN</td>\n      <td>17.0</td>\n      <td>15.0</td>\n      <td>0.0</td>\n      <td>...</td>\n      <td>1</td>\n      <td>0</td>\n      <td>0</td>\n      <td>0</td>\n      <td>0</td>\n      <td>0</td>\n      <td>0</td>\n      <td>0</td>\n      <td>0</td>\n      <td>0</td>\n    </tr>\n    <tr>\n      <td>825771</td>\n      <td>-1</td>\n      <td>9.0</td>\n      <td>16.0</td>\n      <td>NaN</td>\n      <td>NaN</td>\n      <td>NaN</td>\n      <td>NaN</td>\n      <td>16.0</td>\n      <td>11.0</td>\n      <td>0.0</td>\n      <td>...</td>\n      <td>0</td>\n      <td>0</td>\n      <td>0</td>\n      <td>0</td>\n      <td>0</td>\n      <td>1</td>\n      <td>0</td>\n      <td>0</td>\n      <td>0</td>\n      <td>0</td>\n    </tr>\n    <tr>\n      <td>825772</td>\n      <td>-1</td>\n      <td>1.0</td>\n      <td>17.0</td>\n      <td>NaN</td>\n      <td>NaN</td>\n      <td>NaN</td>\n      <td>NaN</td>\n      <td>17.0</td>\n      <td>3.0</td>\n      <td>0.0</td>\n      <td>...</td>\n      <td>0</td>\n      <td>0</td>\n      <td>0</td>\n      <td>0</td>\n      <td>0</td>\n      <td>0</td>\n      <td>0</td>\n      <td>0</td>\n      <td>0</td>\n      <td>0</td>\n    </tr>\n    <tr>\n      <td>825776</td>\n      <td>-1</td>\n      <td>9.0</td>\n      <td>0.0</td>\n      <td>17.0</td>\n      <td>NaN</td>\n      <td>NaN</td>\n      <td>NaN</td>\n      <td>20.0</td>\n      <td>7.0</td>\n      <td>0.0</td>\n      <td>...</td>\n      <td>0</td>\n      <td>0</td>\n      <td>0</td>\n      <td>0</td>\n      <td>0</td>\n      <td>1</td>\n      <td>0</td>\n      <td>0</td>\n      <td>0</td>\n      <td>0</td>\n    </tr>\n    <tr>\n      <td>825787</td>\n      <td>-1</td>\n      <td>1.0</td>\n      <td>0.0</td>\n      <td>NaN</td>\n      <td>NaN</td>\n      <td>NaN</td>\n      <td>NaN</td>\n      <td>NaN</td>\n      <td>10.0</td>\n      <td>0.0</td>\n      <td>...</td>\n      <td>1</td>\n      <td>0</td>\n      <td>0</td>\n      <td>0</td>\n      <td>0</td>\n      <td>0</td>\n      <td>0</td>\n      <td>0</td>\n      <td>0</td>\n      <td>0</td>\n    </tr>\n  </tbody>\n</table>\n<p>891221 rows × 433 columns</p>\n</div>",
            "text/plain": "        AGER_TYP  AKT_DAT_KL  ALTER_HH  ALTER_KIND1  ALTER_KIND2  ALTER_KIND3  \\\nLNR                                                                             \n910215        -1         NaN       NaN          NaN          NaN          NaN   \n910220        -1         9.0       0.0          NaN          NaN          NaN   \n910225        -1         9.0      17.0          NaN          NaN          NaN   \n910226         2         1.0      13.0          NaN          NaN          NaN   \n910241        -1         1.0      20.0          NaN          NaN          NaN   \n...          ...         ...       ...          ...          ...          ...   \n825761        -1         5.0      17.0          NaN          NaN          NaN   \n825771        -1         9.0      16.0          NaN          NaN          NaN   \n825772        -1         1.0      17.0          NaN          NaN          NaN   \n825776        -1         9.0       0.0         17.0          NaN          NaN   \n825787        -1         1.0       0.0          NaN          NaN          NaN   \n\n        ALTER_KIND4  ALTERSKATEGORIE_FEIN  ANZ_HAUSHALTE_AKTIV  ANZ_HH_TITEL  \\\nLNR                                                                            \n910215          NaN                   NaN                  NaN           NaN   \n910220          NaN                  21.0                 11.0           0.0   \n910225          NaN                  17.0                 10.0           0.0   \n910226          NaN                  13.0                  1.0           0.0   \n910241          NaN                  14.0                  3.0           0.0   \n...             ...                   ...                  ...           ...   \n825761          NaN                  17.0                 15.0           0.0   \n825771          NaN                  16.0                 11.0           0.0   \n825772          NaN                  17.0                  3.0           0.0   \n825776          NaN                  20.0                  7.0           0.0   \n825787          NaN                   NaN                 10.0           0.0   \n\n        ...  CAMEO_INTL_2015__4  CAMEO_INTL_2015__41  CAMEO_INTL_2015__43  \\\nLNR     ...                                                                 \n910215  ...                   0                    0                    0   \n910220  ...                   0                    0                    0   \n910225  ...                   0                    0                    0   \n910226  ...                   0                    0                    0   \n910241  ...                   1                    0                    0   \n...     ...                 ...                  ...                  ...   \n825761  ...                   1                    0                    0   \n825771  ...                   0                    0                    0   \n825772  ...                   0                    0                    0   \n825776  ...                   0                    0                    0   \n825787  ...                   1                    0                    0   \n\n        CAMEO_INTL_2015__44  CAMEO_INTL_2015__45  CAMEO_INTL_2015__5  \\\nLNR                                                                    \n910215                    0                    0                   0   \n910220                    0                    0                   1   \n910225                    0                    0                   0   \n910226                    0                    0                   0   \n910241                    0                    0                   0   \n...                     ...                  ...                 ...   \n825761                    0                    0                   0   \n825771                    0                    0                   1   \n825772                    0                    0                   0   \n825776                    0                    0                   1   \n825787                    0                    0                   0   \n\n       CAMEO_INTL_2015__51  CAMEO_INTL_2015__52  CAMEO_INTL_2015__54  \\\nLNR                                                                    \n910215                   0                    0                    0   \n910220                   0                    0                    0   \n910225                   0                    0                    0   \n910226                   0                    0                    0   \n910241                   0                    0                    0   \n...                    ...                  ...                  ...   \n825761                   0                    0                    0   \n825771                   0                    0                    0   \n825772                   0                    0                    0   \n825776                   0                    0                    0   \n825787                   0                    0                    0   \n\n        CAMEO_INTL_2015__55  \nLNR                          \n910215                    0  \n910220                    0  \n910225                    0  \n910226                    0  \n910241                    0  \n...                     ...  \n825761                    0  \n825771                    0  \n825772                    0  \n825776                    0  \n825787                    0  \n\n[891221 rows x 433 columns]"
          },
          "execution_count": 22,
          "metadata": {},
          "output_type": "execute_result"
        }
      ],
      "source": [
        "dummies = pd.get_dummies(azdias, columns=['CAMEO_DEU_2015', 'CAMEO_INTL_2015'], prefix_sep='__')\n",
        "dummies"
      ]
    },
    {
      "cell_type": "code",
      "execution_count": 23,
      "metadata": {},
      "outputs": [],
      "source": [
        "del dummies"
      ]
    },
    {
      "cell_type": "markdown",
      "execution_count": null,
      "metadata": {
        "colab_type": "text",
        "id": "ebEP5hPtO9NM"
      },
      "outputs": [],
      "source": [
        "### Attributes和Values \n",
        "\n",
        "Arvato 提供了对应的Meta数据集，Attributes是所有像个的描述。Values包含了每个Attribute可能的数据值，以及其对应的意义Meaning。这里我们把他读取出来，整理成一些相应需要的变量，为后面的数据清洗做准备。特别是Unknown数据，我们可以利用描述来找到对应的值，准备好清洗掉它们。"
      ]
    },
    {
      "cell_type": "code",
      "execution_count": 24,
      "metadata": {},
      "outputs": [
        {
          "data": {
            "text/html": "<div>\n<style scoped>\n    .dataframe tbody tr th:only-of-type {\n        vertical-align: middle;\n    }\n\n    .dataframe tbody tr th {\n        vertical-align: top;\n    }\n\n    .dataframe thead th {\n        text-align: right;\n    }\n</style>\n<table border=\"1\" class=\"dataframe\">\n  <thead>\n    <tr style=\"text-align: right;\">\n      <th></th>\n      <th>Attribute</th>\n      <th>Description</th>\n      <th>Value</th>\n      <th>Meaning</th>\n    </tr>\n  </thead>\n  <tbody>\n    <tr>\n      <td>0</td>\n      <td>AGER_TYP</td>\n      <td>best-ager typology</td>\n      <td>-1</td>\n      <td>unknown</td>\n    </tr>\n    <tr>\n      <td>1</td>\n      <td>AGER_TYP</td>\n      <td>best-ager typology</td>\n      <td>0</td>\n      <td>no classification possible</td>\n    </tr>\n    <tr>\n      <td>2</td>\n      <td>AGER_TYP</td>\n      <td>best-ager typology</td>\n      <td>1</td>\n      <td>passive elderly</td>\n    </tr>\n    <tr>\n      <td>3</td>\n      <td>AGER_TYP</td>\n      <td>best-ager typology</td>\n      <td>2</td>\n      <td>cultural elderly</td>\n    </tr>\n    <tr>\n      <td>4</td>\n      <td>AGER_TYP</td>\n      <td>best-ager typology</td>\n      <td>3</td>\n      <td>experience-driven elderly</td>\n    </tr>\n  </tbody>\n</table>\n</div>",
            "text/plain": "  Attribute         Description Value                     Meaning\n0  AGER_TYP  best-ager typology    -1                     unknown\n1  AGER_TYP  best-ager typology     0  no classification possible\n2  AGER_TYP  best-ager typology     1             passive elderly\n3  AGER_TYP  best-ager typology     2            cultural elderly\n4  AGER_TYP  best-ager typology     3   experience-driven elderly"
          },
          "execution_count": 24,
          "metadata": {},
          "output_type": "execute_result"
        }
      ],
      "source": [
        "attributes_df = pd.read_excel(drive_path + 'DIAS Information Levels - Attributes 2017.xlsx', index_col=None, header=1)\n",
        "values_df = pd.read_excel(drive_path + 'DIAS Attributes - Values 2017.xlsx', index_col=None, header=1)\n",
        "\n",
        "del attributes_df['Unnamed: 0']\n",
        "del values_df['Unnamed: 0']\n",
        "\n",
        "values_df = values_df.fillna(method='ffill', axis=0) # fill merged-cell with first value in above\n",
        "values_df.head()"
      ]
    },
    {
      "cell_type": "code",
      "execution_count": 25,
      "metadata": {},
      "outputs": [
        {
          "data": {
            "text/html": "<div>\n<style scoped>\n    .dataframe tbody tr th:only-of-type {\n        vertical-align: middle;\n    }\n\n    .dataframe tbody tr th {\n        vertical-align: top;\n    }\n\n    .dataframe thead th {\n        text-align: right;\n    }\n</style>\n<table border=\"1\" class=\"dataframe\">\n  <thead>\n    <tr style=\"text-align: right;\">\n      <th></th>\n      <th>Information level</th>\n      <th>Attribute</th>\n      <th>Description</th>\n      <th>Additional notes</th>\n    </tr>\n  </thead>\n  <tbody>\n    <tr>\n      <td>0</td>\n      <td>NaN</td>\n      <td>AGER_TYP</td>\n      <td>best-ager typology</td>\n      <td>in cooperation with Kantar TNS; the informatio...</td>\n    </tr>\n    <tr>\n      <td>1</td>\n      <td>Person</td>\n      <td>ALTERSKATEGORIE_GROB</td>\n      <td>age through prename analysis</td>\n      <td>modelled on millions of first name-age-referen...</td>\n    </tr>\n    <tr>\n      <td>2</td>\n      <td>NaN</td>\n      <td>ANREDE_KZ</td>\n      <td>gender</td>\n      <td>NaN</td>\n    </tr>\n    <tr>\n      <td>3</td>\n      <td>NaN</td>\n      <td>CJT_GESAMTTYP</td>\n      <td>Customer-Journey-Typology relating to the pref...</td>\n      <td>relating to the preferred information, marketi...</td>\n    </tr>\n    <tr>\n      <td>4</td>\n      <td>NaN</td>\n      <td>FINANZ_MINIMALIST</td>\n      <td>financial typology: low financial interest</td>\n      <td>Gfk-Typology based on a representative househo...</td>\n    </tr>\n  </tbody>\n</table>\n</div>",
            "text/plain": "  Information level             Attribute  \\\n0               NaN              AGER_TYP   \n1            Person  ALTERSKATEGORIE_GROB   \n2               NaN             ANREDE_KZ   \n3               NaN         CJT_GESAMTTYP   \n4               NaN     FINANZ_MINIMALIST   \n\n                                         Description  \\\n0                                 best-ager typology   \n1                      age through prename analysis    \n2                                             gender   \n3  Customer-Journey-Typology relating to the pref...   \n4         financial typology: low financial interest   \n\n                                    Additional notes  \n0  in cooperation with Kantar TNS; the informatio...  \n1  modelled on millions of first name-age-referen...  \n2                                                NaN  \n3  relating to the preferred information, marketi...  \n4  Gfk-Typology based on a representative househo...  "
          },
          "execution_count": 25,
          "metadata": {},
          "output_type": "execute_result"
        }
      ],
      "source": [
        "attributes_df.head()"
      ]
    },
    {
      "cell_type": "code",
      "execution_count": 26,
      "metadata": {},
      "outputs": [
        {
          "data": {
            "text/plain": "0                                                unknown\n10                      unknown / no main age detectable\n129                                no transactions known\n145                                 no transaction known\n199    residental building buildings without actually...\n201    mixed building without actually known househol...\n202                  company building w/o known company \n203     mixed building without actually known household \n205       mixed building without actually known company \ndtype: object"
          },
          "execution_count": 26,
          "metadata": {},
          "output_type": "execute_result"
        }
      ],
      "source": [
        "# display all possilbe meaning has 'unknown'\n",
        "meaning_se = pd.Series(values_df['Meaning'].unique())\n",
        "meaning_se[meaning_se.str.contains('known', flags=re.IGNORECASE, regex=True)]"
      ]
    },
    {
      "cell_type": "code",
      "execution_count": 27,
      "metadata": {},
      "outputs": [],
      "source": [
        "def setUnknownValueToNan(dataframe):\n",
        "  ''' \n",
        "  calculate the column names of the with meaning 'unknown' or simular meaning.\n",
        "  the unknown value -1, we will do general replace, so we do ignore it.\n",
        "\n",
        "  Args:\n",
        "    None\n",
        "  Returns:\n",
        "    {set} of all possible attirbute columns. eg. \"D19_VERSI_ANZ_12__0\" \n",
        "  '''\n",
        "  unknown = ['unknown', \n",
        "            'unknown / no main age detectable',\n",
        "            'no transactions known',\n",
        "            'no transaction known']\n",
        "\n",
        "  attribute_unknown = values_df[values_df['Meaning'].isin(unknown)]\n",
        "  attribute_unknown['Value'].astype(str).map(lambda st: st.split(', '))\n",
        "  unknown_columns = dict()\n",
        "\n",
        "  for index, row in attribute_unknown.iterrows():\n",
        "    attribute_name = row['Attribute'].replace('_RZ', '')\n",
        "    attribute_values = str(row['Value']).split(', ')\n",
        "    for unknown_val in attribute_values:\n",
        "      if unknown_val == '-1':\n",
        "        continue\n",
        "      #unknown_columns.add(f'{attribute_name}__{unknown_val}')\n",
        "      unknown_columns[attribute_name] = unknown_val\n",
        "  \n",
        "  for (key, value) in unknown_columns.items():\n",
        "    if key in azdias.columns:\n",
        "        dataframe[key].replace(value, np.nan, inplace=True)\n",
        "    else:\n",
        "        print(f'Can not find {key} column，just skip')"
      ]
    },
    {
      "cell_type": "code",
      "execution_count": 28,
      "metadata": {},
      "outputs": [
        {
          "name": "stdout",
          "output_type": "stream",
          "text": "Can not find D19_BUCH column，just skip\nCan not find GEOSCORE_KLS7 column，just skip\nCan not find HAUSHALTSSTRUKTUR column，just skip\nCan not find WACHSTUMSGEBIET_NB column，just skip\n"
        }
      ],
      "source": [
        "setUnknownValueToNan(azdias)"
      ]
    },
    {
      "cell_type": "markdown",
      "execution_count": null,
      "metadata": {
        "colab_type": "text",
        "id": "OI0PO52ZoVlQ"
      },
      "outputs": [],
      "source": [
        "attributes 和 values定义和实际数据中使用的差距"
      ]
    },
    {
      "cell_type": "code",
      "execution_count": 29,
      "metadata": {},
      "outputs": [
        {
          "name": "stdout",
          "output_type": "stream",
          "text": "there are 365 in azdias\nthere are 368 in customers\nthere are 314 in values_df\nthere are 313 in attributes_df\n"
        }
      ],
      "source": [
        "azdias_attributes = azdias.columns\n",
        "customer_attributes = customers.columns\n",
        "attributes_in_valuesDf = values_df['Attribute'].unique()\n",
        "attributes_in_attributesDf = attributes_df['Attribute'].unique()\n",
        "\n",
        "print(f'there are {azdias_attributes.size} in azdias')\n",
        "print(f'there are {customer_attributes.size} in customers')\n",
        "print(f'there are {attributes_in_valuesDf.shape[0]} in values_df')\n",
        "print(f'there are {attributes_in_attributesDf.shape[0]} in attributes_df')"
      ]
    },
    {
      "cell_type": "markdown",
      "execution_count": null,
      "metadata": {
        "colab_type": "text",
        "id": "wEqwclg5SrqJ"
      },
      "outputs": [],
      "source": [
        "为什么在azdias和customer的特征列数量和描述数据values和attributs不对应呢？这里我们进一步通过显示数据来做分析。"
      ]
    },
    {
      "cell_type": "code",
      "execution_count": 30,
      "metadata": {},
      "outputs": [
        {
          "name": "stdout",
          "output_type": "stream",
          "text": "Attribute No.2 AKT_DAT_KL is not in attributes_df, but in azdias values are: [nan  9.  1.  5.  8.  7.  6.  4.  3.  2.]\nAttribute No.4 ALTER_KIND1 is not in attributes_df, but in azdias values are: [nan 17. 10. 18. 13. 16. 11.  6.  8.  9. 15. 14.  7. 12.  4.  3.  5.  2.]\nAttribute No.5 ALTER_KIND2 is not in attributes_df, but in azdias values are: [nan 13.  8. 12. 10.  7. 16. 15. 14. 17.  5.  9. 18. 11.  6.  4.  3.  2.]\nAttribute No.6 ALTER_KIND3 is not in attributes_df, but in azdias values are: [nan 10. 18. 17. 16.  8. 15.  9. 12. 13. 14. 11.  7.  5.  6.  4.]\nAttribute No.7 ALTER_KIND4 is not in attributes_df, but in azdias values are: [nan 10.  9. 16. 14. 13. 11. 18. 17. 15.  8. 12.  7.]\nAttribute No.8 ALTERSKATEGORIE_FEIN is not in attributes_df, but in azdias values are: [nan 21. 17. 13. 14. 10. 16. 20. 11. 19. 15. 18.  9. 22. 12.  0.  8.  7.\n 23.  4. 24.  6.  3.  2.  5. 25.  1.]\nAttribute No.11 ANZ_KINDER is not in attributes_df, but in azdias values are: [nan  0.  1.  2.  3.  4.  5.  6.  9.  7. 11.  8.]\nAttribute No.13 ANZ_STATISTISCHE_HAUSHALTE is not in attributes_df, but in azdias values are: [ nan  12.   7.   2.   3.   5.   6.   1.  14.   4.  11.  13.  30.  22.\n  36. 244.  10.  32.   8.   9.  18.  17.  16.  67.  19.  15.  26.  20.\n  23.  33.  34.  68.  53.  21.  42.  57.  28.  25.  60.  35.  29.  43.\n  64.  27.  46.  24.  48.  31.  56.  37. 243. 157.  39.  40.  71.  63.\n  38.  44.  50. 101.  66.  41.  81.  47. 192. 131. 149.  74.  84.  80.\n 137.  45.  94.  65.  54.  87.  69. 125.  61.  82.  73.  72.  86. 292.\n  70.  83.  91. 112.  58.  51.  75.  52.  90. 140.  49. 212.  79. 152.\n 142. 166. 251.  99. 107.  76. 173.  89. 138.  92. 154. 115. 100.  55.\n 116.  88. 113. 162.  95. 168.  62.  97. 110. 127. 102.  93. 103.  78.\n 111. 114.  77.  98. 365. 146. 109.  59. 108. 289. 130.  85. 119. 159.\n 183. 117. 303.  96. 124. 163. 123. 122. 156. 155.   0. 319. 104. 223.\n 105. 128. 217. 129. 170. 218. 367. 253. 132. 328. 126. 193. 133. 153.\n 118. 121. 233. 143. 229. 134. 256. 180. 106. 202. 120. 136. 148. 204.\n 245. 135. 164. 248. 150. 160. 147. 139. 189. 195. 187. 269. 179. 174.\n 161. 225. 314. 158. 141. 167. 353. 354. 284. 258. 234. 194. 264. 145.\n 239. 238. 144. 235. 369. 257. 227. 184. 296. 317. 240. 213. 169. 199.\n 222. 230. 274. 181. 197. 237. 252. 309. 339. 262. 366. 177. 241. 175.\n 304. 186. 178. 176. 172. 200. 216. 182. 205. 228. 336. 445. 242. 299.\n 151. 203. 185. 268. 214. 286. 322. 198. 449. 165. 190. 297. 209. 342.\n 375. 371. 171.]\nAttribute No.15 ARBEIT is not in attributes_df, but in azdias values are: [nan  3.  2.  4.  1.  5.  9.]\nAttribute No.19 CAMEO_INTL_2015 is not in attributes_df, but in azdias values are: [nan '5' '2' '1' '4' '3' '22' '24' '41' '12' '54' '51' '44' '35' '23' '25'\n '14' '34' '52' '55' '31' '32' '15' '13' '43' '33' '45']\nAttribute No.21 CJT_KATALOGNUTZER is not in attributes_df, but in azdias values are: [ 5.  1.  2.  3.  4. nan]\nAttribute No.22 CJT_TYP_1 is not in attributes_df, but in azdias values are: [ 1.  5.  4.  2.  3. nan]\nAttribute No.23 CJT_TYP_2 is not in attributes_df, but in azdias values are: [ 1.  5.  4.  2.  3. nan]\nAttribute No.24 CJT_TYP_3 is not in attributes_df, but in azdias values are: [ 5.  2.  1.  4.  3. nan]\nAttribute No.25 CJT_TYP_4 is not in attributes_df, but in azdias values are: [ 5.  3.  4.  1.  2. nan]\nAttribute No.26 CJT_TYP_5 is not in attributes_df, but in azdias values are: [ 5.  1.  2.  3.  4. nan]\nAttribute No.27 CJT_TYP_6 is not in attributes_df, but in azdias values are: [ 5.  1.  2.  3.  4. nan]\nAttribute No.31 D19_BANKEN_DIREKT is not in attributes_df, but in azdias values are: [0 1 6 5 4 3 7 2]\nAttribute No.32 D19_BANKEN_GROSS is not in attributes_df, but in azdias values are: [0 2 6 3 5 1 4]\nAttribute No.33 D19_BANKEN_LOKAL is not in attributes_df, but in azdias values are: [0 7 3 6 5 2 1 4]\nAttribute No.37 D19_BANKEN_REST is not in attributes_df, but in azdias values are: [0 6 5 4 3 7 2 1]\nAttribute No.38 D19_BEKLEIDUNG_GEH is not in attributes_df, but in azdias values are: [0 6 5 7 3 2 4 1]\nAttribute No.39 D19_BEKLEIDUNG_REST is not in attributes_df, but in azdias values are: [0 1 6 7 5 3 4 2]\nAttribute No.40 D19_BILDUNG is not in attributes_df, but in azdias values are: [0 6 3 7 2 4 5 1]\nAttribute No.41 D19_BIO_OEKO is not in attributes_df, but in azdias values are: [0 6 7 3 5 2 4 1]\nAttribute No.42 D19_BUCH_CD is not in attributes_df, but in azdias values are: [0 6 5 3 1 7 4 2]\nAttribute No.43 D19_DIGIT_SERV is not in attributes_df, but in azdias values are: [0 6 7 3 5 2 4 1]\nAttribute No.44 D19_DROGERIEARTIKEL is not in attributes_df, but in azdias values are: [0 1 6 3 7 4 5 2]\nAttribute No.45 D19_ENERGIE is not in attributes_df, but in azdias values are: [0 5 3 6 7 2 1 4]\nAttribute No.46 D19_FREIZEIT is not in attributes_df, but in azdias values are: [0 7 3 6 5 4 1 2]\nAttribute No.47 D19_GARTEN is not in attributes_df, but in azdias values are: [0 3 6 7 5 4 2 1]\nAttribute No.54 D19_HANDWERK is not in attributes_df, but in azdias values are: [0 6 3 5 7 4 2 1]\nAttribute No.55 D19_HAUS_DEKO is not in attributes_df, but in azdias values are: [0 5 6 7 1 3 4 2]\nAttribute No.56 D19_KINDERARTIKEL is not in attributes_df, but in azdias values are: [0 6 7 3 5 2 1 4]\nAttribute No.58 D19_KONSUMTYP_MAX is not in attributes_df, but in azdias values are: [9 8 1 2 3 4]\nAttribute No.59 D19_KOSMETIK is not in attributes_df, but in azdias values are: [0 6 3 5 7 2 4 1]\nAttribute No.60 D19_LEBENSMITTEL is not in attributes_df, but in azdias values are: [0 6 7 5 3 4 1 2]\nAttribute No.61 D19_LETZTER_KAUF_BRANCHE is not in attributes_df, but in azdias values are: [nan 'D19_UNBEKANNT' 'D19_SCHUHE' 'D19_ENERGIE' 'D19_KOSMETIK'\n 'D19_VOLLSORTIMENT' 'D19_SONSTIGE' 'D19_BANKEN_GROSS'\n 'D19_DROGERIEARTIKEL' 'D19_HANDWERK' 'D19_BUCH_CD' 'D19_VERSICHERUNGEN'\n 'D19_VERSAND_REST' 'D19_TELKO_REST' 'D19_BANKEN_DIREKT' 'D19_BANKEN_REST'\n 'D19_FREIZEIT' 'D19_LEBENSMITTEL' 'D19_HAUS_DEKO' 'D19_BEKLEIDUNG_REST'\n 'D19_SAMMELARTIKEL' 'D19_TELKO_MOBILE' 'D19_REISEN' 'D19_BEKLEIDUNG_GEH'\n 'D19_TECHNIK' 'D19_NAHRUNGSERGAENZUNG' 'D19_DIGIT_SERV' 'D19_LOTTO'\n 'D19_RATGEBER' 'D19_TIERARTIKEL' 'D19_KINDERARTIKEL' 'D19_BIO_OEKO'\n 'D19_WEIN_FEINKOST' 'D19_GARTEN' 'D19_BILDUNG' 'D19_BANKEN_LOKAL']\nAttribute No.62 D19_LOTTO is not in attributes_df, but in azdias values are: [nan  0.  6.  7.  5.  3.  4.  2.  1.]\nAttribute No.63 D19_NAHRUNGSERGAENZUNG is not in attributes_df, but in azdias values are: [0 5 6 7 4 1 2 3]\nAttribute No.64 D19_RATGEBER is not in attributes_df, but in azdias values are: [0 7 6 3 5 2 4 1]\nAttribute No.65 D19_REISEN is not in attributes_df, but in azdias values are: [0 6 7 3 5 2 4 1]\nAttribute No.66 D19_SAMMELARTIKEL is not in attributes_df, but in azdias values are: [0 6 1 7 5 3 2 4]\nAttribute No.67 D19_SCHUHE is not in attributes_df, but in azdias values are: [0 1 3 5 6 2 7 4]\nAttribute No.68 D19_SONSTIGE is not in attributes_df, but in azdias values are: [0 6 4 7 5 3 2 1]\nAttribute No.69 D19_SOZIALES is not in attributes_df, but in azdias values are: [nan  0.  4.  5.  3.  1.  2.]\nAttribute No.70 D19_TECHNIK is not in attributes_df, but in azdias values are: [0 6 5 7 3 1 4 2]\nAttribute No.74 D19_TELKO_MOBILE is not in attributes_df, but in azdias values are: [0 6 3 7 4 5 2 1]\nAttribute No.77 D19_TELKO_ONLINE_QUOTE_12 is not in attributes_df, but in azdias values are: [nan  0. 10.  5.  7.  3.]\nAttribute No.78 D19_TELKO_REST is not in attributes_df, but in azdias values are: [0 5 6 4 3 7 2 1]\nAttribute No.79 D19_TIERARTIKEL is not in attributes_df, but in azdias values are: [0 6 5 3 4 7 2 1]\nAttribute No.86 D19_VERSAND_REST is not in attributes_df, but in azdias values are: [0 2 6 5 3 1 4 7]\nAttribute No.89 D19_VERSI_DATUM is not in attributes_df, but in azdias values are: [10  2  8  9  6  7  5  1  4  3]\nAttribute No.90 D19_VERSI_OFFLINE_DATUM is not in attributes_df, but in azdias values are: [10  7  9  6  4  8  5  2  3  1]\nAttribute No.91 D19_VERSI_ONLINE_DATUM is not in attributes_df, but in azdias values are: [10  8  9  5  6  7  4  1  2  3]\nAttribute No.92 D19_VERSI_ONLINE_QUOTE_12 is not in attributes_df, but in azdias values are: [nan  0. 10.  5.  7.  8.  6.  3.  9.]\nAttribute No.93 D19_VERSICHERUNGEN is not in attributes_df, but in azdias values are: [0 3 6 4 5 7 2 1]\nAttribute No.94 D19_VOLLSORTIMENT is not in attributes_df, but in azdias values are: [0 7 6 3 2 5 4 1]\nAttribute No.95 D19_WEIN_FEINKOST is not in attributes_df, but in azdias values are: [0 6 7 5 3 2 4 1]\nAttribute No.96 DSL_FLAG is not in attributes_df, but in azdias values are: [nan  1.  0.]\nAttribute No.97 EINGEFUEGT_AM is not in attributes_df, but in azdias values are: [nan '1992-02-10 00:00:00' '1992-02-12 00:00:00' ... '2010-12-02 00:00:00'\n '2005-03-19 00:00:00' '2011-11-18 00:00:00']\nAttribute No.98 EINGEZOGENAM_HH_JAHR is not in attributes_df, but in azdias values are: [  nan 2004. 2000. 1998. 1994. 2005. 2007. 2009. 2016. 2014. 2015. 2013.\n 2008. 2010. 2001. 2002. 1997. 2012. 1992. 1999. 1996. 1995. 2011. 2003.\n 2006. 1991. 2017. 1993. 2018. 1989. 1990. 1987. 1986. 1988. 1900. 1904.\n 1971. 1984.]\nAttribute No.100 EXTSEL992 is not in attributes_df, but in azdias values are: [nan 14. 31. 20. 56. 53. 27. 54.  6. 25. 48. 55. 36. 34. 35. 18. 38. 32.\n 29. 41. 43. 22. 19. 24. 23.  8. 21. 37.  7.  3. 39. 12. 15. 17.  4.  9.\n 44. 50. 13. 33. 42. 49.  1. 30. 10. 45. 26. 16. 28. 47.  2. 46. 11. 40.\n 51. 52.  5.]\nAttribute No.108 FIRMENDICHTE is not in attributes_df, but in azdias values are: [nan  2.  4.  5.  3.  1.]\nAttribute No.112 GEMEINDETYP is not in attributes_df, but in azdias values are: [nan 22. 40. 21. 12. 30. 11. 50.]\nAttribute No.116 HH_DELTA_FLAG is not in attributes_df, but in azdias values are: [nan  0.  1.]\nAttribute No.188 KBA13_ANTG1 is not in attributes_df, but in azdias values are: [nan  2.  1.  4.  3.  0.]\nAttribute No.189 KBA13_ANTG2 is not in attributes_df, but in azdias values are: [nan  4.  3.  2.  1.  0.]\nAttribute No.190 KBA13_ANTG3 is not in attributes_df, but in azdias values are: [nan  2.  1.  0.  3.]\nAttribute No.191 KBA13_ANTG4 is not in attributes_df, but in azdias values are: [nan  1.  0.  2.]\nAttribute No.195 KBA13_BAUMAX is not in attributes_df, but in azdias values are: [nan  2.  1.  4.  5.  3.]\nAttribute No.207 KBA13_CCM_1401_2500 is not in attributes_df, but in azdias values are: [nan  3.  2.  1.  4.  5.]\nAttribute No.220 KBA13_GBZ is not in attributes_df, but in azdias values are: [nan  4.  3.  5.  2.  1.]\nAttribute No.238 KBA13_HHZ is not in attributes_df, but in azdias values are: [nan  5.  4.  3.  2.  1.]\nAttribute No.244 KBA13_KMH_210 is not in attributes_df, but in azdias values are: [nan  4.  2.  3.  5.  1.]\nAttribute No.300 KK_KUNDENTYP is not in attributes_df, but in azdias values are: [nan  1.  3.  6.  4.  2.  5.]\nAttribute No.302 KOMBIALTER is not in attributes_df, but in azdias values are: [9 1 2 4 3]\nAttribute No.304 KONSUMZELLE is not in attributes_df, but in azdias values are: [nan  1.  0.]\nAttribute No.312 MOBI_RASTER is not in attributes_df, but in azdias values are: [nan  1.  2.  4.  3.  5.  6.]\nAttribute No.329 RT_KEIN_ANREIZ is not in attributes_df, but in azdias values are: [ 1.  5.  3.  4.  2. nan]\nAttribute No.330 RT_SCHNAEPPCHEN is not in attributes_df, but in azdias values are: [ 4.  3.  2.  5.  1. nan]\nAttribute No.331 RT_UEBERGROESSE is not in attributes_df, but in azdias values are: [ 1.  5.  3.  4. nan  2.  0.]\nAttribute No.347 SOHO_KZ is not in attributes_df, but in azdias values are: [nan  1.  0.]\nAttribute No.348 STRUKTURTYP is not in attributes_df, but in azdias values are: [nan  2.  3.  1.]\nAttribute No.350 UMFELD_ALT is not in attributes_df, but in azdias values are: [nan  3.  2.  4.  5.  1.]\nAttribute No.351 UMFELD_JUNG is not in attributes_df, but in azdias values are: [nan  3.  5.  4.  2.  1.]\nAttribute No.352 UNGLEICHENN_FLAG is not in attributes_df, but in azdias values are: [nan  1.  0.]\nAttribute No.353 VERDICHTUNGSRAUM is not in attributes_df, but in azdias values are: [nan  0.  1. 35.  3.  7. 23.  4.  8. 13. 16. 25.  5. 21.  6. 15. 32. 42.\n 31. 11. 33. 22. 30. 18. 12. 27.  2.  9. 28. 10. 14. 20. 17. 43. 19. 24.\n 34. 40. 39. 29. 26. 44. 45. 37. 36. 41. 38.]\nAttribute No.355 VHA is not in attributes_df, but in azdias values are: [nan  0.  1.  5.  2.  4.  3.]\nAttribute No.356 VHN is not in attributes_df, but in azdias values are: [nan  4.  2.  0.  1.  3.]\nAttribute No.357 VK_DHT4A is not in attributes_df, but in azdias values are: [nan  8.  9.  7.  3. 10.  1.  6.  4.  2.  5. 11.]\nAttribute No.358 VK_DISTANZ is not in attributes_df, but in azdias values are: [nan 11.  9. 10.  5.  7. 12.  1.  6. 13.  8.  4.  3.  2.]\nAttribute No.359 VK_ZG11 is not in attributes_df, but in azdias values are: [nan 10.  6. 11.  4.  9.  8.  1.  3.  7.  5.  2.]\n"
        }
      ],
      "source": [
        "attributes_without_meta = set()\n",
        "ind = 0\n",
        "for attr in azdias_attributes:\n",
        "  ind += 1\n",
        "  if attr not in attributes_in_valuesDf:\n",
        "    attributes_without_meta.add(attr)\n",
        "    print(f'Attribute No.{ind} {attr} is not in attributes_df, but in azdias values are: {azdias[attr].unique()}')"
      ]
    },
    {
      "cell_type": "markdown",
      "execution_count": null,
      "metadata": {
        "colab_type": "text",
        "id": "Mj2Dia9ROmOH"
      },
      "outputs": [],
      "source": [
        "通过观察我们发现，D19_LETZTER_KAUF_BRANCHE的值刚好对应了其他D19的列，数据看上去有一定的重复。CJT_KATALOGNUTZER也是类似情况，被其他CJT列所重复。ANZ_STATISTISCHE_HAUSHALTE，EXTSEL992有大量的数值，但是我们这里缺乏具体的meta数据，这里我们决定不再保留。EINGEZOGENAM_HH_JAHR。GEBURTSJAHR是出身年份，我们还有其他的列含有相关年龄的列ALTER_HH所以我们也决定忽略。"
      ]
    },
    {
      "cell_type": "code",
      "execution_count": 31,
      "metadata": {},
      "outputs": [
        {
          "name": "stdout",
          "output_type": "stream",
          "text": "before azdias drop 365, and after (891221, 353)\nbefore customers drop 368, and customers (191652, 356)\n"
        }
      ],
      "source": [
        "azdias_shapeBefore = azdias.shape[1]\n",
        "customers_shapeBefore = customers.shape[1]\n",
        "columns_to_drop = {'D19_LETZTER_KAUF_BRANCHE', \n",
        "                   'CJT_KATALOGNUTZER', \n",
        "                   'EINGEZOGENAM_HH_JAHR', \n",
        "                   'ANZ_STATISTISCHE_HAUSHALTE',\n",
        "                   'ANZ_HAUSHALTE_AKTIV',\n",
        "                   'VERDICHTUNGSRAUM', \n",
        "                   'EXTSEL992',\n",
        "                   'GEBURTSJAHR',\n",
        "                   'ALTER_KIND1',\n",
        "                   'ALTER_KIND2',\n",
        "                   'ALTER_KIND3',\n",
        "                   'ALTER_KIND4'}\n",
        "\n",
        "azdias.drop(columns=columns_to_drop, axis=1, errors='ignore', inplace=True)\n",
        "customers.drop(columns=columns_to_drop, axis=1, errors='ignore', inplace=True)\n",
        "\n",
        "columns_to_drop.clear()\n",
        "\n",
        "print(f'before azdias drop {azdias_shapeBefore}, and after {azdias.shape}')\n",
        "print(f'before customers drop {customers_shapeBefore}, and customers {customers.shape}')"
      ]
    },
    {
      "cell_type": "code",
      "execution_count": 32,
      "metadata": {},
      "outputs": [
        {
          "name": "stdout",
          "output_type": "stream",
          "text": "columns ['CUSTOMER_GROUP', 'ONLINE_PURCHASE', 'PRODUCT_GROUP'] will be delete from customers\n"
        },
        {
          "data": {
            "text/html": "<div>\n<style scoped>\n    .dataframe tbody tr th:only-of-type {\n        vertical-align: middle;\n    }\n\n    .dataframe tbody tr th {\n        vertical-align: top;\n    }\n\n    .dataframe thead th {\n        text-align: right;\n    }\n</style>\n<table border=\"1\" class=\"dataframe\">\n  <thead>\n    <tr style=\"text-align: right;\">\n      <th></th>\n      <th>CUSTOMER_GROUP</th>\n      <th>ONLINE_PURCHASE</th>\n      <th>PRODUCT_GROUP</th>\n    </tr>\n    <tr>\n      <th>LNR</th>\n      <th></th>\n      <th></th>\n      <th></th>\n    </tr>\n  </thead>\n  <tbody>\n    <tr>\n      <td>9626</td>\n      <td>MULTI_BUYER</td>\n      <td>0</td>\n      <td>COSMETIC_AND_FOOD</td>\n    </tr>\n    <tr>\n      <td>9628</td>\n      <td>SINGLE_BUYER</td>\n      <td>0</td>\n      <td>FOOD</td>\n    </tr>\n    <tr>\n      <td>143872</td>\n      <td>MULTI_BUYER</td>\n      <td>0</td>\n      <td>COSMETIC_AND_FOOD</td>\n    </tr>\n    <tr>\n      <td>143873</td>\n      <td>MULTI_BUYER</td>\n      <td>0</td>\n      <td>COSMETIC</td>\n    </tr>\n    <tr>\n      <td>143874</td>\n      <td>MULTI_BUYER</td>\n      <td>0</td>\n      <td>FOOD</td>\n    </tr>\n  </tbody>\n</table>\n</div>",
            "text/plain": "       CUSTOMER_GROUP  ONLINE_PURCHASE      PRODUCT_GROUP\nLNR                                                      \n9626      MULTI_BUYER                0  COSMETIC_AND_FOOD\n9628     SINGLE_BUYER                0               FOOD\n143872    MULTI_BUYER                0  COSMETIC_AND_FOOD\n143873    MULTI_BUYER                0           COSMETIC\n143874    MULTI_BUYER                0               FOOD"
          },
          "execution_count": 32,
          "metadata": {},
          "output_type": "execute_result"
        }
      ],
      "source": [
        "# extract special columns from customers\n",
        "customer_special_columns = ['CUSTOMER_GROUP', 'ONLINE_PURCHASE', 'PRODUCT_GROUP']\n",
        "customer_special_df = customers[customer_special_columns]\n",
        "\n",
        "print(f'columns {customer_special_columns} will be delete from customers')\n",
        "customers.drop(columns=customer_special_columns, axis=1, errors='ignore', inplace=True)\n",
        "\n",
        "customer_special_df.head()"
      ]
    },
    {
      "cell_type": "markdown",
      "execution_count": null,
      "metadata": {
        "colab_type": "text",
        "id": "mgIRtHsf1kkf"
      },
      "outputs": [],
      "source": [
        "EINGEFUEGT_AM是数据添加的时间，一共有5163个时间点，我们只采纳的年份作为特这。将其替换为EINGEFUEGT_AM将会只是数据输入的年份。"
      ]
    },
    {
      "cell_type": "code",
      "execution_count": 33,
      "metadata": {},
      "outputs": [
        {
          "name": "stdout",
          "output_type": "stream",
          "text": "== pickYearValue(customers, 'EINGEFUEGT_AM') ==\nAttribute EINGEFUEGT_AM has 3035 values\nBefore change:\nLNR\n9626      1992-02-12 00:00:00\n9628                      NaN\n143872    1992-02-10 00:00:00\n143873    1992-02-10 00:00:00\n143874    1992-02-12 00:00:00\nName: EINGEFUEGT_AM, dtype: object\nAfter change:\nLNR\n9626      1992\n9628       NaN\n143872    1992\n143873    1992\n143874    1992\nName: EINGEFUEGT_AM, dtype: object\nWe replaced dataframe[attributeName] with only the year values:['1992' nan '2004' '1997' '1995' '2007' '2005' '1996' '2012' '1994' '2008'\n '2003' '2006' '1993' '1998' '2015' '2011' '2000' '1999' '2009' '2010'\n '2002' '2014' '2001' '2013' '2016']\n== pickYearValue(azdias, 'EINGEFUEGT_AM') ==\nAttribute EINGEFUEGT_AM has 5163 values\nBefore change:\nLNR\n910215                    NaN\n910220    1992-02-10 00:00:00\n910225    1992-02-12 00:00:00\n910226    1997-04-21 00:00:00\n910241    1992-02-12 00:00:00\nName: EINGEFUEGT_AM, dtype: object\nAfter change:\nLNR\n910215     NaN\n910220    1992\n910225    1992\n910226    1997\n910241    1992\nName: EINGEFUEGT_AM, dtype: object\nWe replaced dataframe[attributeName] with only the year values:[nan '1992' '1997' '2005' '2009' '1995' '1996' '2002' '2015' '2004' '2000'\n '2008' '1994' '1993' '2003' '2014' '2016' '2007' '1999' '2010' '2001'\n '1998' '2006' '2013' '2012' '2011' '1991']\n"
        }
      ],
      "source": [
        "def pickYearValue(dataframe, attributeName):\n",
        "  '''\n",
        "  use only the year of timestamp as value for the attribute\n",
        "  Args:\n",
        "    dataframe {DataFrame} -- customers or azdias\n",
        "    attributeName {string} -- attribute name, which hast timestamp value \n",
        "      like 1992-02-10 00:00:00\n",
        "  Returns:\n",
        "    None\n",
        "  '''\n",
        "  attr_values = dataframe[attributeName].unique()\n",
        "  print(f'Attribute {attributeName} has {attr_values.shape[0]} values')\n",
        "  print('Before change:\\n', dataframe[attributeName].head())\n",
        "  dataframe[attributeName] = dataframe[attributeName]\\\n",
        "                            .map(lambda x: str(x)[:4] if x != np.nan else x)\\\n",
        "                            .map(lambda x: np.nan if x=='nan' else x)\n",
        "  print(f'After change:\\n', dataframe[attributeName].head())\n",
        "  print('We replaced dataframe[attributeName] with only the year values:',\n",
        "        dataframe[attributeName].unique())\n",
        "\n",
        "\n",
        "print(\"== pickYearValue(customers, 'EINGEFUEGT_AM') ==\")\n",
        "pickYearValue(customers, 'EINGEFUEGT_AM')\n",
        "\n",
        "print(\"== pickYearValue(azdias, 'EINGEFUEGT_AM') ==\")\n",
        "pickYearValue(azdias, 'EINGEFUEGT_AM')"
      ]
    },
    {
      "cell_type": "markdown",
      "execution_count": null,
      "metadata": {
        "colab_type": "text",
        "id": "9VxkIUCkDOnj"
      },
      "outputs": [],
      "source": [
        "#### 在FEIN和GROB数据中做选择\n",
        "\n",
        "在属性描述中我们看到，有不少属性我们同时拥有细化（FEIN）和粗略（GROB）的数据特征。这里在试验初期我们决定采用粗略的特征。"
      ]
    },
    {
      "cell_type": "code",
      "execution_count": 34,
      "metadata": {},
      "outputs": [
        {
          "name": "stdout",
          "output_type": "stream",
          "text": "[ 2.  5.  1.  0. 10.  7. 11.  3.  8.  4.  6. nan  9.]\n[ 2.  3.  1.  0.  5.  4. nan]\n"
        }
      ],
      "source": [
        "print(azdias['LP_FAMILIE_FEIN'].unique())\n",
        "print(azdias['LP_FAMILIE_GROB'].unique())"
      ]
    },
    {
      "cell_type": "code",
      "execution_count": 35,
      "metadata": {},
      "outputs": [
        {
          "name": "stdout",
          "output_type": "stream",
          "text": "== delete {'LP_FAMILIE_FEIN', 'LP_STATUS_FEIN', 'LP_LEBENSPHASE_FEIN'} from azdias ==\n== delete {'LP_FAMILIE_FEIN', 'LP_STATUS_FEIN', 'LP_LEBENSPHASE_FEIN'} from customers ==\n"
        }
      ],
      "source": [
        "for attr in attributes_in_attributesDf:\n",
        "  if attr.endswith('_FEIN'):\n",
        "    columns_to_drop.add(attr)\n",
        "\n",
        "print(f'== delete {columns_to_drop} from azdias ==')\n",
        "azdias.drop(columns=columns_to_drop, axis=1, errors='ignore', inplace=True)\n",
        "\n",
        "print(f'== delete {columns_to_drop} from customers ==')\n",
        "customers.drop(columns=columns_to_drop, axis=1, errors='ignore', inplace=True)\n",
        "columns_to_drop.clear()"
      ]
    },
    {
      "cell_type": "code",
      "execution_count": 36,
      "metadata": {},
      "outputs": [],
      "source": [
        "del values_df\n",
        "del attributes_df"
      ]
    },
    {
      "cell_type": "code",
      "execution_count": 37,
      "metadata": {},
      "outputs": [
        {
          "name": "stdout",
          "output_type": "stream",
          "text": "== findObjectAttributs(azdias) ==\nCAMEO_DEU_2015 has value [nan '8A' '4C' '2A' '6B' '8C' '4A' '2D' '1A' '1E' '9D' '5C' '8B' '7A' '5D'\n '9E' '9B' '1B' '3D' '4E' '4B' '3C' '5A' '7B' '9A' '6D' '6E' '2C' '7C'\n '9C' '7D' '5E' '1D' '8D' '6C' '6A' '5B' '4D' '3A' '2B' '7E' '3B' '6F'\n '5F' '1C']\nCAMEO_DEUG_2015 has value [nan '8' '4' '2' '6' '1' '9' '5' '7' '3']\nCAMEO_INTL_2015 has value [nan '5' '2' '1' '4' '3' '22' '24' '41' '12' '54' '51' '44' '35' '23' '25'\n '14' '34' '52' '55' '31' '32' '15' '13' '43' '33' '45']\nEINGEFUEGT_AM has value [nan '1992' '1997' '2005' '2009' '1995' '1996' '2002' '2015' '2004' '2000'\n '2008' '1994' '1993' '2003' '2014' '2016' '2007' '1999' '2010' '2001'\n '1998' '2006' '2013' '2012' '2011' '1991']\nOST_WEST_KZ has value [nan 'W' 'O']\n== findObjectAttributs(customers) ==\nCAMEO_DEU_2015 has value ['1A' nan '5D' '4C' '7B' '3B' '1D' '9E' '2D' '4A' '6B' '9D' '8B' '5C' '9C'\n '4E' '6C' '8C' '8A' '5B' '9B' '3D' '2A' '3C' '5F' '7A' '1E' '2C' '7C'\n '5A' '2B' '6D' '7E' '5E' '6E' '3A' '9A' '4B' '1C' '1B' '6A' '8D' '7D'\n '6F' '4D']\nCAMEO_DEUG_2015 has value ['1' nan '5' '4' '7' '3' '9' '2' '6' '8']\nCAMEO_INTL_2015 has value ['1' nan '3' '2' '4' '5' '45' '25' '55' '51' '14' '54' '43' '22' '15' '24'\n '35' '23' '12' '44' '41' '52' '31' '13' '34' '32' '33']\nEINGEFUEGT_AM has value ['1992' nan '2004' '1997' '1995' '2007' '2005' '1996' '2012' '1994' '2008'\n '2003' '2006' '1993' '1998' '2015' '2011' '2000' '1999' '2009' '2010'\n '2002' '2014' '2001' '2013' '2016']\nOST_WEST_KZ has value ['W' nan 'O']\n"
        },
        {
          "data": {
            "text/plain": "{'CAMEO_DEUG_2015',\n 'CAMEO_DEU_2015',\n 'CAMEO_INTL_2015',\n 'EINGEFUEGT_AM',\n 'OST_WEST_KZ'}"
          },
          "execution_count": 37,
          "metadata": {},
          "output_type": "execute_result"
        }
      ],
      "source": [
        "def findObjectAttributs(dataframe):\n",
        "  '''\n",
        "  find which column in dataframe has object as dtype. \n",
        "  Args:\n",
        "    dataframe {DataFrame} -- it could be customer or azdias\n",
        "  Returns:\n",
        "    {set} -- a set of column names, those the dtypes of column is value type \n",
        "      object\n",
        "  '''\n",
        "  object_columns = set()\n",
        "  for (columnName, columnData) in dataframe.iteritems():\n",
        "    attr_unique_values = columnData.unique()\n",
        "    if columnData.dtypes == \"object\": \n",
        "      object_columns.add(columnName)\n",
        "      print(f'{columnName} has value {attr_unique_values}')\n",
        "  return object_columns\n",
        "\n",
        "print('== findObjectAttributs(azdias) ==')\n",
        "object_dtype_columns = findObjectAttributs(azdias)\n",
        "print('== findObjectAttributs(customers) ==')\n",
        "findObjectAttributs(customers)"
      ]
    },
    {
      "cell_type": "code",
      "execution_count": 38,
      "metadata": {},
      "outputs": [
        {
          "name": "stdout",
          "output_type": "stream",
          "text": "== findAttributesWithMuchValues(azdias) ==\nAKT_DAT_KL has value [nan  9.  1.  5.  8.  7.  6.  4.  3.  2.]\nALTER_HH has value [nan  0. 17. 13. 20. 10. 14. 16. 21. 11. 19. 15.  9. 18.  8.  7. 12.  4.\n  3.  6.  5.  2.  1.]\nALTERSKATEGORIE_FEIN has value [nan 21. 17. 13. 14. 10. 16. 20. 11. 19. 15. 18.  9. 22. 12.  0.  8.  7.\n 23.  4. 24.  6.  3.  2.  5. 25.  1.]\nANZ_HH_TITEL has value [nan  0.  1.  5.  2.  3.  7.  4.  6.  9. 15. 14.  8. 11. 10. 12. 13. 20.\n 16. 17. 23. 18.]\nANZ_KINDER has value [nan  0.  1.  2.  3.  4.  5.  6.  9.  7. 11.  8.]\nANZ_PERSONEN has value [nan  2.  1.  0.  4.  3.  5.  7.  6.  8. 12.  9. 21. 10. 13. 11. 14. 45.\n 20. 31. 29. 37. 16. 22. 15. 23. 18. 35. 17. 40. 38.]\nCAMEO_DEU_2015 has value [nan '8A' '4C' '2A' '6B' '8C' '4A' '2D' '1A' '1E' '9D' '5C' '8B' '7A' '5D'\n '9E' '9B' '1B' '3D' '4E' '4B' '3C' '5A' '7B' '9A' '6D' '6E' '2C' '7C'\n '9C' '7D' '5E' '1D' '8D' '6C' '6A' '5B' '4D' '3A' '2B' '7E' '3B' '6F'\n '5F' '1C']\nCAMEO_DEUG_2015 has value [nan '8' '4' '2' '6' '1' '9' '5' '7' '3']\nCAMEO_INTL_2015 has value [nan '5' '2' '1' '4' '3' '22' '24' '41' '12' '54' '51' '44' '35' '23' '25'\n '14' '34' '52' '55' '31' '32' '15' '13' '43' '33' '45']\nD19_BANKEN_DATUM has value [10  5  8  6  9  1  7  4  2  3]\nD19_BANKEN_OFFLINE_DATUM has value [10  9  8  2  5  4  1  6  7  3]\nD19_BANKEN_ONLINE_DATUM has value [10  5  8  6  9  1  4  7  2  3]\nD19_BANKEN_ONLINE_QUOTE_12 has value [nan  0. 10.  8.  5.  9.  7.  6.  3.  4.  2.  1.]\nD19_GESAMT_DATUM has value [10  1  3  5  9  4  7  6  8  2]\nD19_GESAMT_OFFLINE_DATUM has value [10  6  8  9  5  2  4  1  7  3]\nD19_GESAMT_ONLINE_DATUM has value [10  1  3  5  9  4  7  6  8  2]\nD19_GESAMT_ONLINE_QUOTE_12 has value [nan  0. 10.  7.  9.  5.  8.  6.  3.  4.  2.  1.]\nD19_TELKO_DATUM has value [10  6  9  8  7  5  4  2  1  3]\nD19_TELKO_OFFLINE_DATUM has value [10  8  9  5  6  7  4  2  3  1]\nD19_TELKO_ONLINE_DATUM has value [10  9  7  8  6  5  4  1  2  3]\nD19_VERSAND_DATUM has value [10  1  5  9  4  8  7  6  3  2]\nD19_VERSAND_OFFLINE_DATUM has value [10  9  6  8  5  2  1  4  7  3]\nD19_VERSAND_ONLINE_DATUM has value [10  1  5  9  4  8  7  6  3  2]\nD19_VERSAND_ONLINE_QUOTE_12 has value [nan  0. 10.  7.  5.  9.  3.  8.  6.  4.  2.  1.]\nD19_VERSI_DATUM has value [10  2  8  9  6  7  5  1  4  3]\nD19_VERSI_OFFLINE_DATUM has value [10  7  9  6  4  8  5  2  3  1]\nD19_VERSI_ONLINE_DATUM has value [10  8  9  5  6  7  4  1  2  3]\nEINGEFUEGT_AM has value [nan '1992' '1997' '2005' '2009' '1995' '1996' '2002' '2015' '2004' '2000'\n '2008' '1994' '1993' '2003' '2014' '2016' '2007' '1999' '2010' '2001'\n '1998' '2006' '2013' '2012' '2011' '1991']\nGFK_URLAUBERTYP has value [10.  1.  5. 12.  9.  3.  8. 11.  4.  2.  7.  6. nan]\nKBA13_ANZAHL_PKW has value [ nan 963. 712. ...   2.  30.   7.]\nLP_LEBENSPHASE_GROB has value [ 4.  6.  1.  0. 10.  2.  3.  5.  7. 12. 11.  9.  8. nan]\nMIN_GEBAEUDEJAHR has value [  nan 1992. 1997. 2005. 2009. 1994. 1996. 2002. 2015. 1991. 1993. 1995.\n 2003. 2014. 2008. 2006. 2000. 1990. 2004. 1999. 1998. 2001. 2007. 2013.\n 1989. 2011. 2012. 2010. 1987. 1988. 1985. 2016. 1986.]\nORTSGR_KLS9 has value [nan  5.  3.  6.  4.  8.  2.  7.  9.  1.  0.]\nPRAEGENDE_JUGENDJAHRE has value [ 0 14 15  8  3 10 11  5  9  6  4  2  1 12 13  7]\nVK_DHT4A has value [nan  8.  9.  7.  3. 10.  1.  6.  4.  2.  5. 11.]\nVK_DISTANZ has value [nan 11.  9. 10.  5.  7. 12.  1.  6. 13.  8.  4.  3.  2.]\nVK_ZG11 has value [nan 10.  6. 11.  4.  9.  8.  1.  3.  7.  5.  2.]\nWOHNDAUER_2008 has value [nan  9.  8.  3.  4.  5.  6.  2.  7.  1.]\n== findAttributesWithMuchValues(customers) ==\nAKT_DAT_KL has value [ 1.  9.  3.  7.  5.  2. nan  4.  6.  8.]\nALTER_HH has value [10. 11.  6.  8. 20.  5. 14. 21. 15. 17.  0. 19.  9. 12. 13. nan 18.  7.\n 16.  4.  2.  3.]\nALTERSKATEGORIE_FEIN has value [10. nan  0.  8. 14.  9.  4. 13.  6. 12. 19. 17. 15. 11. 16.  7. 18. 21.\n 25. 20. 24.  5.  2. 22.  3. 23.]\nANZ_HH_TITEL has value [ 0. nan  2.  4.  1. 13.  6.  5.  3. 20.  9. 11.  8. 14. 18. 23.  7. 12.\n 17. 15. 10.]\nANZ_KINDER has value [ 0.  1. nan  3.  2.  4.  5.  6.  8.  7.]\nANZ_PERSONEN has value [ 2.  3.  1.  0.  4.  5.  6. nan  8.  7.  9. 12. 11. 10. 14. 16. 15. 21.\n 13.]\nCAMEO_DEU_2015 has value ['1A' nan '5D' '4C' '7B' '3B' '1D' '9E' '2D' '4A' '6B' '9D' '8B' '5C' '9C'\n '4E' '6C' '8C' '8A' '5B' '9B' '3D' '2A' '3C' '5F' '7A' '1E' '2C' '7C'\n '5A' '2B' '6D' '7E' '5E' '6E' '3A' '9A' '4B' '1C' '1B' '6A' '8D' '7D'\n '6F' '4D']\nCAMEO_DEUG_2015 has value ['1' nan '5' '4' '7' '3' '9' '2' '6' '8']\nCAMEO_INTL_2015 has value ['1' nan '3' '2' '4' '5' '45' '25' '55' '51' '14' '54' '43' '22' '15' '24'\n '35' '23' '12' '44' '41' '52' '31' '13' '34' '32' '33']\nD19_BANKEN_DATUM has value [10  6  3  8  7  5  2  9  1  4]\nD19_BANKEN_OFFLINE_DATUM has value [10  8  5  9  2  6  3  1  4  7]\nD19_BANKEN_ONLINE_DATUM has value [10  7  3  5  9  4  8  6  1  2]\nD19_BANKEN_ONLINE_QUOTE_12 has value [ 0. 10. nan  8.  5.  7.  6.  3.  2.  9.  4.]\nD19_GESAMT_DATUM has value [ 9  6 10  1  5  4  2  3  8  7]\nD19_GESAMT_OFFLINE_DATUM has value [ 9 10  6  8  5  4  3  7  1  2]\nD19_GESAMT_ONLINE_DATUM has value [10  9  1  5  4  2  3  6  8  7]\nD19_GESAMT_ONLINE_QUOTE_12 has value [ 0. 10.  7.  6. nan  8.  5.  9.  3.  4.  2.  1.]\nD19_TELKO_DATUM has value [10  7  9  8  5  6  2  1  3  4]\nD19_TELKO_OFFLINE_DATUM has value [10  9  8  5  1  6  4  3  7  2]\nD19_TELKO_ONLINE_DATUM has value [10  9  5  8  6  7  4  2  1  3]\nD19_VERSAND_DATUM has value [ 9 10  6  1  5  8  4  2  3  7]\nD19_VERSAND_OFFLINE_DATUM has value [ 9 10  6  8  5  3  4  1  7  2]\nD19_VERSAND_ONLINE_DATUM has value [10  9  1  5  4  2  8  6  3  7]\nD19_VERSAND_ONLINE_QUOTE_12 has value [ 0. 10.  7.  6.  8. nan  5.  9.  3.  2.  1.  4.]\nD19_VERSI_DATUM has value [10  9  4  5  1  8  2  7  6  3]\nD19_VERSI_OFFLINE_DATUM has value [10  4  5  9  8  7  6  3  2  1]\nD19_VERSI_ONLINE_DATUM has value [10  5  6  8  9  4  7  2  1  3]\nEINGEFUEGT_AM has value ['1992' nan '2004' '1997' '1995' '2007' '2005' '1996' '2012' '1994' '2008'\n '2003' '2006' '1993' '1998' '2015' '2011' '2000' '1999' '2009' '2010'\n '2002' '2014' '2001' '2013' '2016']\nGFK_URLAUBERTYP has value [ 4. nan  3. 10.  2. 11.  8.  1.  5.  9. 12.  7.  6.]\nKBA13_ANZAHL_PKW has value [1201.   nan  433. ...   77.   13.   34.]\nLP_LEBENSPHASE_GROB has value [ 5. nan  3.  0. 10.  2.  8. 12. 11.  1.  4.  6.  7.  9.]\nMIN_GEBAEUDEJAHR has value [1992.   nan 1994. 1997. 1995. 1996. 2011. 2008. 1991. 1990. 2007. 2005.\n 1993. 2001. 1999. 2003. 1998. 2000. 2015. 2006. 2004. 1989. 2010. 2002.\n 2014. 2012. 2009. 2013. 1987. 1988. 1986. 1985. 2016.]\nORTSGR_KLS9 has value [ 2. nan  5.  3.  7.  4.  8.  6.  1.  9.]\nPRAEGENDE_JUGENDJAHRE has value [ 4  0  1  8  9  6 15 14 11  5  3  2 10 13 12  7]\nVK_DHT4A has value [ 5.  6. 10.  3.  1.  8.  4.  2.  9.  7. nan 11.]\nVK_DISTANZ has value [ 3.  6. 13.  4.  5.  2. 11.  8.  7.  1. 10. nan  9. 12.]\nVK_ZG11 has value [ 2.  3. 11.  4.  1.  9.  7.  5.  6. nan  8. 10.]\nWOHNDAUER_2008 has value [ 9.  3.  7.  8.  5. nan  6.  4.  2.  1.]\n"
        }
      ],
      "source": [
        "def findAttributesWithMuchValues(dataframe, valueSizeLimit = 10):\n",
        "  '''\n",
        "  find attributes/columns in dataframe, they have an oversize of the values. \n",
        "\n",
        "  Args:\n",
        "    dataframe {DataFrame} -- it could be customers and azdias\n",
        "    valueSizeLimit {int} -- the limitation of value size you want to check, \n",
        "      default 10\n",
        "  Returns:\n",
        "    {set} -- all attributs, in dataframe has more than 10 values\n",
        "  '''\n",
        "  value_oversize_columns = set()\n",
        "  for (columnName, columnData) in dataframe.iteritems():\n",
        "    attr_unique_values = columnData.unique()\n",
        "    if attr_unique_values.size >= valueSizeLimit: \n",
        "      value_oversize_columns.add(columnName)\n",
        "      print(f'{columnName} has value {attr_unique_values}')\n",
        "  #return value_oversize_columns\n",
        "\n",
        "print('== findAttributesWithMuchValues(azdias) ==')\n",
        "findAttributesWithMuchValues(azdias)\n",
        "\n",
        "print('== findAttributesWithMuchValues(customers) ==')\n",
        "findAttributesWithMuchValues(customers)"
      ]
    },
    {
      "cell_type": "code",
      "execution_count": 39,
      "metadata": {},
      "outputs": [
        {
          "data": {
            "text/html": "<div>\n<style scoped>\n    .dataframe tbody tr th:only-of-type {\n        vertical-align: middle;\n    }\n\n    .dataframe tbody tr th {\n        vertical-align: top;\n    }\n\n    .dataframe thead th {\n        text-align: right;\n    }\n</style>\n<table border=\"1\" class=\"dataframe\">\n  <thead>\n    <tr style=\"text-align: right;\">\n      <th></th>\n      <th>AGER_TYP</th>\n      <th>AKT_DAT_KL</th>\n      <th>ALTER_HH</th>\n      <th>ALTERSKATEGORIE_FEIN</th>\n      <th>ANZ_HH_TITEL</th>\n      <th>ANZ_KINDER</th>\n      <th>ANZ_PERSONEN</th>\n      <th>ANZ_TITEL</th>\n      <th>ARBEIT</th>\n      <th>BALLRAUM</th>\n      <th>...</th>\n      <th>VHN</th>\n      <th>VK_DHT4A</th>\n      <th>VK_DISTANZ</th>\n      <th>VK_ZG11</th>\n      <th>W_KEIT_KIND_HH</th>\n      <th>WOHNDAUER_2008</th>\n      <th>WOHNLAGE</th>\n      <th>ZABEOTYP</th>\n      <th>ANREDE_KZ</th>\n      <th>ALTERSKATEGORIE_GROB</th>\n    </tr>\n    <tr>\n      <th>LNR</th>\n      <th></th>\n      <th></th>\n      <th></th>\n      <th></th>\n      <th></th>\n      <th></th>\n      <th></th>\n      <th></th>\n      <th></th>\n      <th></th>\n      <th></th>\n      <th></th>\n      <th></th>\n      <th></th>\n      <th></th>\n      <th></th>\n      <th></th>\n      <th></th>\n      <th></th>\n      <th></th>\n      <th></th>\n    </tr>\n  </thead>\n  <tbody>\n    <tr>\n      <td>910215</td>\n      <td>-1</td>\n      <td>88.0</td>\n      <td>88.0</td>\n      <td>88.0</td>\n      <td>88.0</td>\n      <td>88.0</td>\n      <td>88.0</td>\n      <td>88.0</td>\n      <td>88.0</td>\n      <td>88.0</td>\n      <td>...</td>\n      <td>88.0</td>\n      <td>88.0</td>\n      <td>88.0</td>\n      <td>88.0</td>\n      <td>88.0</td>\n      <td>88.0</td>\n      <td>88.0</td>\n      <td>3</td>\n      <td>1</td>\n      <td>2</td>\n    </tr>\n    <tr>\n      <td>910220</td>\n      <td>-1</td>\n      <td>9.0</td>\n      <td>0.0</td>\n      <td>21.0</td>\n      <td>0.0</td>\n      <td>0.0</td>\n      <td>2.0</td>\n      <td>0.0</td>\n      <td>3.0</td>\n      <td>6.0</td>\n      <td>...</td>\n      <td>4.0</td>\n      <td>8.0</td>\n      <td>11.0</td>\n      <td>10.0</td>\n      <td>3.0</td>\n      <td>9.0</td>\n      <td>4.0</td>\n      <td>5</td>\n      <td>2</td>\n      <td>1</td>\n    </tr>\n    <tr>\n      <td>910225</td>\n      <td>-1</td>\n      <td>9.0</td>\n      <td>17.0</td>\n      <td>17.0</td>\n      <td>0.0</td>\n      <td>0.0</td>\n      <td>1.0</td>\n      <td>0.0</td>\n      <td>3.0</td>\n      <td>2.0</td>\n      <td>...</td>\n      <td>2.0</td>\n      <td>9.0</td>\n      <td>9.0</td>\n      <td>6.0</td>\n      <td>3.0</td>\n      <td>9.0</td>\n      <td>2.0</td>\n      <td>5</td>\n      <td>2</td>\n      <td>3</td>\n    </tr>\n    <tr>\n      <td>910226</td>\n      <td>2</td>\n      <td>1.0</td>\n      <td>13.0</td>\n      <td>13.0</td>\n      <td>0.0</td>\n      <td>0.0</td>\n      <td>0.0</td>\n      <td>0.0</td>\n      <td>2.0</td>\n      <td>4.0</td>\n      <td>...</td>\n      <td>0.0</td>\n      <td>7.0</td>\n      <td>10.0</td>\n      <td>11.0</td>\n      <td>88.0</td>\n      <td>9.0</td>\n      <td>7.0</td>\n      <td>3</td>\n      <td>2</td>\n      <td>4</td>\n    </tr>\n    <tr>\n      <td>910241</td>\n      <td>-1</td>\n      <td>1.0</td>\n      <td>20.0</td>\n      <td>14.0</td>\n      <td>0.0</td>\n      <td>0.0</td>\n      <td>4.0</td>\n      <td>0.0</td>\n      <td>4.0</td>\n      <td>2.0</td>\n      <td>...</td>\n      <td>2.0</td>\n      <td>3.0</td>\n      <td>5.0</td>\n      <td>4.0</td>\n      <td>2.0</td>\n      <td>9.0</td>\n      <td>3.0</td>\n      <td>4</td>\n      <td>1</td>\n      <td>3</td>\n    </tr>\n    <tr>\n      <td>...</td>\n      <td>...</td>\n      <td>...</td>\n      <td>...</td>\n      <td>...</td>\n      <td>...</td>\n      <td>...</td>\n      <td>...</td>\n      <td>...</td>\n      <td>...</td>\n      <td>...</td>\n      <td>...</td>\n      <td>...</td>\n      <td>...</td>\n      <td>...</td>\n      <td>...</td>\n      <td>...</td>\n      <td>...</td>\n      <td>...</td>\n      <td>...</td>\n      <td>...</td>\n      <td>...</td>\n    </tr>\n    <tr>\n      <td>825761</td>\n      <td>-1</td>\n      <td>5.0</td>\n      <td>17.0</td>\n      <td>17.0</td>\n      <td>0.0</td>\n      <td>0.0</td>\n      <td>1.0</td>\n      <td>0.0</td>\n      <td>88.0</td>\n      <td>6.0</td>\n      <td>...</td>\n      <td>2.0</td>\n      <td>4.0</td>\n      <td>7.0</td>\n      <td>8.0</td>\n      <td>3.0</td>\n      <td>4.0</td>\n      <td>3.0</td>\n      <td>4</td>\n      <td>2</td>\n      <td>3</td>\n    </tr>\n    <tr>\n      <td>825771</td>\n      <td>-1</td>\n      <td>9.0</td>\n      <td>16.0</td>\n      <td>16.0</td>\n      <td>0.0</td>\n      <td>0.0</td>\n      <td>1.0</td>\n      <td>0.0</td>\n      <td>4.0</td>\n      <td>7.0</td>\n      <td>...</td>\n      <td>4.0</td>\n      <td>6.0</td>\n      <td>9.0</td>\n      <td>6.0</td>\n      <td>6.0</td>\n      <td>9.0</td>\n      <td>5.0</td>\n      <td>6</td>\n      <td>1</td>\n      <td>2</td>\n    </tr>\n    <tr>\n      <td>825772</td>\n      <td>-1</td>\n      <td>1.0</td>\n      <td>17.0</td>\n      <td>17.0</td>\n      <td>0.0</td>\n      <td>0.0</td>\n      <td>0.0</td>\n      <td>0.0</td>\n      <td>2.0</td>\n      <td>5.0</td>\n      <td>...</td>\n      <td>2.0</td>\n      <td>7.0</td>\n      <td>10.0</td>\n      <td>8.0</td>\n      <td>88.0</td>\n      <td>5.0</td>\n      <td>7.0</td>\n      <td>4</td>\n      <td>2</td>\n      <td>2</td>\n    </tr>\n    <tr>\n      <td>825776</td>\n      <td>-1</td>\n      <td>9.0</td>\n      <td>0.0</td>\n      <td>20.0</td>\n      <td>0.0</td>\n      <td>1.0</td>\n      <td>1.0</td>\n      <td>0.0</td>\n      <td>4.0</td>\n      <td>2.0</td>\n      <td>...</td>\n      <td>4.0</td>\n      <td>9.0</td>\n      <td>8.0</td>\n      <td>5.0</td>\n      <td>1.0</td>\n      <td>9.0</td>\n      <td>5.0</td>\n      <td>5</td>\n      <td>1</td>\n      <td>1</td>\n    </tr>\n    <tr>\n      <td>825787</td>\n      <td>-1</td>\n      <td>1.0</td>\n      <td>0.0</td>\n      <td>88.0</td>\n      <td>0.0</td>\n      <td>0.0</td>\n      <td>1.0</td>\n      <td>0.0</td>\n      <td>3.0</td>\n      <td>6.0</td>\n      <td>...</td>\n      <td>3.0</td>\n      <td>8.0</td>\n      <td>10.0</td>\n      <td>7.0</td>\n      <td>6.0</td>\n      <td>3.0</td>\n      <td>4.0</td>\n      <td>3</td>\n      <td>1</td>\n      <td>4</td>\n    </tr>\n  </tbody>\n</table>\n<p>891221 rows × 350 columns</p>\n</div>",
            "text/plain": "        AGER_TYP  AKT_DAT_KL  ALTER_HH  ALTERSKATEGORIE_FEIN  ANZ_HH_TITEL  \\\nLNR                                                                          \n910215        -1        88.0      88.0                  88.0          88.0   \n910220        -1         9.0       0.0                  21.0           0.0   \n910225        -1         9.0      17.0                  17.0           0.0   \n910226         2         1.0      13.0                  13.0           0.0   \n910241        -1         1.0      20.0                  14.0           0.0   \n...          ...         ...       ...                   ...           ...   \n825761        -1         5.0      17.0                  17.0           0.0   \n825771        -1         9.0      16.0                  16.0           0.0   \n825772        -1         1.0      17.0                  17.0           0.0   \n825776        -1         9.0       0.0                  20.0           0.0   \n825787        -1         1.0       0.0                  88.0           0.0   \n\n        ANZ_KINDER  ANZ_PERSONEN  ANZ_TITEL  ARBEIT  BALLRAUM  ...   VHN  \\\nLNR                                                            ...         \n910215        88.0          88.0       88.0    88.0      88.0  ...  88.0   \n910220         0.0           2.0        0.0     3.0       6.0  ...   4.0   \n910225         0.0           1.0        0.0     3.0       2.0  ...   2.0   \n910226         0.0           0.0        0.0     2.0       4.0  ...   0.0   \n910241         0.0           4.0        0.0     4.0       2.0  ...   2.0   \n...            ...           ...        ...     ...       ...  ...   ...   \n825761         0.0           1.0        0.0    88.0       6.0  ...   2.0   \n825771         0.0           1.0        0.0     4.0       7.0  ...   4.0   \n825772         0.0           0.0        0.0     2.0       5.0  ...   2.0   \n825776         1.0           1.0        0.0     4.0       2.0  ...   4.0   \n825787         0.0           1.0        0.0     3.0       6.0  ...   3.0   \n\n       VK_DHT4A VK_DISTANZ  VK_ZG11  W_KEIT_KIND_HH  WOHNDAUER_2008  WOHNLAGE  \\\nLNR                                                                             \n910215     88.0       88.0     88.0            88.0            88.0      88.0   \n910220      8.0       11.0     10.0             3.0             9.0       4.0   \n910225      9.0        9.0      6.0             3.0             9.0       2.0   \n910226      7.0       10.0     11.0            88.0             9.0       7.0   \n910241      3.0        5.0      4.0             2.0             9.0       3.0   \n...         ...        ...      ...             ...             ...       ...   \n825761      4.0        7.0      8.0             3.0             4.0       3.0   \n825771      6.0        9.0      6.0             6.0             9.0       5.0   \n825772      7.0       10.0      8.0            88.0             5.0       7.0   \n825776      9.0        8.0      5.0             1.0             9.0       5.0   \n825787      8.0       10.0      7.0             6.0             3.0       4.0   \n\n        ZABEOTYP  ANREDE_KZ  ALTERSKATEGORIE_GROB  \nLNR                                                \n910215         3          1                     2  \n910220         5          2                     1  \n910225         5          2                     3  \n910226         3          2                     4  \n910241         4          1                     3  \n...          ...        ...                   ...  \n825761         4          2                     3  \n825771         6          1                     2  \n825772         4          2                     2  \n825776         5          1                     1  \n825787         3          1                     4  \n\n[891221 rows x 350 columns]"
          },
          "execution_count": 39,
          "metadata": {},
          "output_type": "execute_result"
        }
      ],
      "source": [
        "azdias.fillna(88, inplace=True)\n",
        "azdias"
      ]
    },
    {
      "cell_type": "code",
      "execution_count": 40,
      "metadata": {},
      "outputs": [
        {
          "data": {
            "text/html": "<div>\n<style scoped>\n    .dataframe tbody tr th:only-of-type {\n        vertical-align: middle;\n    }\n\n    .dataframe tbody tr th {\n        vertical-align: top;\n    }\n\n    .dataframe thead th {\n        text-align: right;\n    }\n</style>\n<table border=\"1\" class=\"dataframe\">\n  <thead>\n    <tr style=\"text-align: right;\">\n      <th></th>\n      <th>AGER_TYP</th>\n      <th>AKT_DAT_KL</th>\n      <th>ALTER_HH</th>\n      <th>ALTERSKATEGORIE_FEIN</th>\n      <th>ANZ_HH_TITEL</th>\n      <th>ANZ_KINDER</th>\n      <th>ANZ_PERSONEN</th>\n      <th>ANZ_TITEL</th>\n      <th>ARBEIT</th>\n      <th>BALLRAUM</th>\n      <th>...</th>\n      <th>VHN</th>\n      <th>VK_DHT4A</th>\n      <th>VK_DISTANZ</th>\n      <th>VK_ZG11</th>\n      <th>W_KEIT_KIND_HH</th>\n      <th>WOHNDAUER_2008</th>\n      <th>WOHNLAGE</th>\n      <th>ZABEOTYP</th>\n      <th>ANREDE_KZ</th>\n      <th>ALTERSKATEGORIE_GROB</th>\n    </tr>\n    <tr>\n      <th>LNR</th>\n      <th></th>\n      <th></th>\n      <th></th>\n      <th></th>\n      <th></th>\n      <th></th>\n      <th></th>\n      <th></th>\n      <th></th>\n      <th></th>\n      <th></th>\n      <th></th>\n      <th></th>\n      <th></th>\n      <th></th>\n      <th></th>\n      <th></th>\n      <th></th>\n      <th></th>\n      <th></th>\n      <th></th>\n    </tr>\n  </thead>\n  <tbody>\n    <tr>\n      <td>910215</td>\n      <td>88</td>\n      <td>88.0</td>\n      <td>88.0</td>\n      <td>88.0</td>\n      <td>88.0</td>\n      <td>88.0</td>\n      <td>88.0</td>\n      <td>88.0</td>\n      <td>88.0</td>\n      <td>88.0</td>\n      <td>...</td>\n      <td>88.0</td>\n      <td>88.0</td>\n      <td>88.0</td>\n      <td>88.0</td>\n      <td>88.0</td>\n      <td>88.0</td>\n      <td>88.0</td>\n      <td>3</td>\n      <td>1</td>\n      <td>2</td>\n    </tr>\n    <tr>\n      <td>910220</td>\n      <td>88</td>\n      <td>9.0</td>\n      <td>0.0</td>\n      <td>21.0</td>\n      <td>0.0</td>\n      <td>0.0</td>\n      <td>2.0</td>\n      <td>0.0</td>\n      <td>3.0</td>\n      <td>6.0</td>\n      <td>...</td>\n      <td>4.0</td>\n      <td>8.0</td>\n      <td>11.0</td>\n      <td>10.0</td>\n      <td>3.0</td>\n      <td>9.0</td>\n      <td>4.0</td>\n      <td>5</td>\n      <td>2</td>\n      <td>1</td>\n    </tr>\n    <tr>\n      <td>910225</td>\n      <td>88</td>\n      <td>9.0</td>\n      <td>17.0</td>\n      <td>17.0</td>\n      <td>0.0</td>\n      <td>0.0</td>\n      <td>1.0</td>\n      <td>0.0</td>\n      <td>3.0</td>\n      <td>2.0</td>\n      <td>...</td>\n      <td>2.0</td>\n      <td>9.0</td>\n      <td>9.0</td>\n      <td>6.0</td>\n      <td>3.0</td>\n      <td>9.0</td>\n      <td>2.0</td>\n      <td>5</td>\n      <td>2</td>\n      <td>3</td>\n    </tr>\n    <tr>\n      <td>910226</td>\n      <td>2</td>\n      <td>1.0</td>\n      <td>13.0</td>\n      <td>13.0</td>\n      <td>0.0</td>\n      <td>0.0</td>\n      <td>0.0</td>\n      <td>0.0</td>\n      <td>2.0</td>\n      <td>4.0</td>\n      <td>...</td>\n      <td>0.0</td>\n      <td>7.0</td>\n      <td>10.0</td>\n      <td>11.0</td>\n      <td>88.0</td>\n      <td>9.0</td>\n      <td>7.0</td>\n      <td>3</td>\n      <td>2</td>\n      <td>4</td>\n    </tr>\n    <tr>\n      <td>910241</td>\n      <td>88</td>\n      <td>1.0</td>\n      <td>20.0</td>\n      <td>14.0</td>\n      <td>0.0</td>\n      <td>0.0</td>\n      <td>4.0</td>\n      <td>0.0</td>\n      <td>4.0</td>\n      <td>2.0</td>\n      <td>...</td>\n      <td>2.0</td>\n      <td>3.0</td>\n      <td>5.0</td>\n      <td>4.0</td>\n      <td>2.0</td>\n      <td>9.0</td>\n      <td>3.0</td>\n      <td>4</td>\n      <td>1</td>\n      <td>3</td>\n    </tr>\n    <tr>\n      <td>...</td>\n      <td>...</td>\n      <td>...</td>\n      <td>...</td>\n      <td>...</td>\n      <td>...</td>\n      <td>...</td>\n      <td>...</td>\n      <td>...</td>\n      <td>...</td>\n      <td>...</td>\n      <td>...</td>\n      <td>...</td>\n      <td>...</td>\n      <td>...</td>\n      <td>...</td>\n      <td>...</td>\n      <td>...</td>\n      <td>...</td>\n      <td>...</td>\n      <td>...</td>\n      <td>...</td>\n    </tr>\n    <tr>\n      <td>825761</td>\n      <td>88</td>\n      <td>5.0</td>\n      <td>17.0</td>\n      <td>17.0</td>\n      <td>0.0</td>\n      <td>0.0</td>\n      <td>1.0</td>\n      <td>0.0</td>\n      <td>88.0</td>\n      <td>6.0</td>\n      <td>...</td>\n      <td>2.0</td>\n      <td>4.0</td>\n      <td>7.0</td>\n      <td>8.0</td>\n      <td>3.0</td>\n      <td>4.0</td>\n      <td>3.0</td>\n      <td>4</td>\n      <td>2</td>\n      <td>3</td>\n    </tr>\n    <tr>\n      <td>825771</td>\n      <td>88</td>\n      <td>9.0</td>\n      <td>16.0</td>\n      <td>16.0</td>\n      <td>0.0</td>\n      <td>0.0</td>\n      <td>1.0</td>\n      <td>0.0</td>\n      <td>4.0</td>\n      <td>7.0</td>\n      <td>...</td>\n      <td>4.0</td>\n      <td>6.0</td>\n      <td>9.0</td>\n      <td>6.0</td>\n      <td>6.0</td>\n      <td>9.0</td>\n      <td>5.0</td>\n      <td>6</td>\n      <td>1</td>\n      <td>2</td>\n    </tr>\n    <tr>\n      <td>825772</td>\n      <td>88</td>\n      <td>1.0</td>\n      <td>17.0</td>\n      <td>17.0</td>\n      <td>0.0</td>\n      <td>0.0</td>\n      <td>0.0</td>\n      <td>0.0</td>\n      <td>2.0</td>\n      <td>5.0</td>\n      <td>...</td>\n      <td>2.0</td>\n      <td>7.0</td>\n      <td>10.0</td>\n      <td>8.0</td>\n      <td>88.0</td>\n      <td>5.0</td>\n      <td>7.0</td>\n      <td>4</td>\n      <td>2</td>\n      <td>2</td>\n    </tr>\n    <tr>\n      <td>825776</td>\n      <td>88</td>\n      <td>9.0</td>\n      <td>0.0</td>\n      <td>20.0</td>\n      <td>0.0</td>\n      <td>1.0</td>\n      <td>1.0</td>\n      <td>0.0</td>\n      <td>4.0</td>\n      <td>2.0</td>\n      <td>...</td>\n      <td>4.0</td>\n      <td>9.0</td>\n      <td>8.0</td>\n      <td>5.0</td>\n      <td>1.0</td>\n      <td>9.0</td>\n      <td>5.0</td>\n      <td>5</td>\n      <td>1</td>\n      <td>1</td>\n    </tr>\n    <tr>\n      <td>825787</td>\n      <td>88</td>\n      <td>1.0</td>\n      <td>0.0</td>\n      <td>88.0</td>\n      <td>0.0</td>\n      <td>0.0</td>\n      <td>1.0</td>\n      <td>0.0</td>\n      <td>3.0</td>\n      <td>6.0</td>\n      <td>...</td>\n      <td>3.0</td>\n      <td>8.0</td>\n      <td>10.0</td>\n      <td>7.0</td>\n      <td>6.0</td>\n      <td>3.0</td>\n      <td>4.0</td>\n      <td>3</td>\n      <td>1</td>\n      <td>4</td>\n    </tr>\n  </tbody>\n</table>\n<p>891221 rows × 350 columns</p>\n</div>",
            "text/plain": "        AGER_TYP  AKT_DAT_KL  ALTER_HH  ALTERSKATEGORIE_FEIN  ANZ_HH_TITEL  \\\nLNR                                                                          \n910215        88        88.0      88.0                  88.0          88.0   \n910220        88         9.0       0.0                  21.0           0.0   \n910225        88         9.0      17.0                  17.0           0.0   \n910226         2         1.0      13.0                  13.0           0.0   \n910241        88         1.0      20.0                  14.0           0.0   \n...          ...         ...       ...                   ...           ...   \n825761        88         5.0      17.0                  17.0           0.0   \n825771        88         9.0      16.0                  16.0           0.0   \n825772        88         1.0      17.0                  17.0           0.0   \n825776        88         9.0       0.0                  20.0           0.0   \n825787        88         1.0       0.0                  88.0           0.0   \n\n        ANZ_KINDER  ANZ_PERSONEN  ANZ_TITEL  ARBEIT  BALLRAUM  ...   VHN  \\\nLNR                                                            ...         \n910215        88.0          88.0       88.0    88.0      88.0  ...  88.0   \n910220         0.0           2.0        0.0     3.0       6.0  ...   4.0   \n910225         0.0           1.0        0.0     3.0       2.0  ...   2.0   \n910226         0.0           0.0        0.0     2.0       4.0  ...   0.0   \n910241         0.0           4.0        0.0     4.0       2.0  ...   2.0   \n...            ...           ...        ...     ...       ...  ...   ...   \n825761         0.0           1.0        0.0    88.0       6.0  ...   2.0   \n825771         0.0           1.0        0.0     4.0       7.0  ...   4.0   \n825772         0.0           0.0        0.0     2.0       5.0  ...   2.0   \n825776         1.0           1.0        0.0     4.0       2.0  ...   4.0   \n825787         0.0           1.0        0.0     3.0       6.0  ...   3.0   \n\n       VK_DHT4A VK_DISTANZ  VK_ZG11  W_KEIT_KIND_HH  WOHNDAUER_2008  WOHNLAGE  \\\nLNR                                                                             \n910215     88.0       88.0     88.0            88.0            88.0      88.0   \n910220      8.0       11.0     10.0             3.0             9.0       4.0   \n910225      9.0        9.0      6.0             3.0             9.0       2.0   \n910226      7.0       10.0     11.0            88.0             9.0       7.0   \n910241      3.0        5.0      4.0             2.0             9.0       3.0   \n...         ...        ...      ...             ...             ...       ...   \n825761      4.0        7.0      8.0             3.0             4.0       3.0   \n825771      6.0        9.0      6.0             6.0             9.0       5.0   \n825772      7.0       10.0      8.0            88.0             5.0       7.0   \n825776      9.0        8.0      5.0             1.0             9.0       5.0   \n825787      8.0       10.0      7.0             6.0             3.0       4.0   \n\n        ZABEOTYP  ANREDE_KZ  ALTERSKATEGORIE_GROB  \nLNR                                                \n910215         3          1                     2  \n910220         5          2                     1  \n910225         5          2                     3  \n910226         3          2                     4  \n910241         4          1                     3  \n...          ...        ...                   ...  \n825761         4          2                     3  \n825771         6          1                     2  \n825772         4          2                     2  \n825776         5          1                     1  \n825787         3          1                     4  \n\n[891221 rows x 350 columns]"
          },
          "execution_count": 40,
          "metadata": {},
          "output_type": "execute_result"
        }
      ],
      "source": [
        "azdias.replace(-1, 88, inplace=True)\n",
        "azdias"
      ]
    },
    {
      "cell_type": "code",
      "execution_count": 41,
      "metadata": {},
      "outputs": [
        {
          "data": {
            "text/html": "<div>\n<style scoped>\n    .dataframe tbody tr th:only-of-type {\n        vertical-align: middle;\n    }\n\n    .dataframe tbody tr th {\n        vertical-align: top;\n    }\n\n    .dataframe thead th {\n        text-align: right;\n    }\n</style>\n<table border=\"1\" class=\"dataframe\">\n  <thead>\n    <tr style=\"text-align: right;\">\n      <th></th>\n      <th>AGER_TYP</th>\n      <th>AKT_DAT_KL</th>\n      <th>ALTER_HH</th>\n      <th>ALTERSKATEGORIE_FEIN</th>\n      <th>ANZ_HH_TITEL</th>\n      <th>ANZ_KINDER</th>\n      <th>ANZ_PERSONEN</th>\n      <th>ANZ_TITEL</th>\n      <th>ARBEIT</th>\n      <th>BALLRAUM</th>\n      <th>...</th>\n      <th>VHN</th>\n      <th>VK_DHT4A</th>\n      <th>VK_DISTANZ</th>\n      <th>VK_ZG11</th>\n      <th>W_KEIT_KIND_HH</th>\n      <th>WOHNDAUER_2008</th>\n      <th>WOHNLAGE</th>\n      <th>ZABEOTYP</th>\n      <th>ANREDE_KZ</th>\n      <th>ALTERSKATEGORIE_GROB</th>\n    </tr>\n    <tr>\n      <th>LNR</th>\n      <th></th>\n      <th></th>\n      <th></th>\n      <th></th>\n      <th></th>\n      <th></th>\n      <th></th>\n      <th></th>\n      <th></th>\n      <th></th>\n      <th></th>\n      <th></th>\n      <th></th>\n      <th></th>\n      <th></th>\n      <th></th>\n      <th></th>\n      <th></th>\n      <th></th>\n      <th></th>\n      <th></th>\n    </tr>\n  </thead>\n  <tbody>\n    <tr>\n      <td>910215</td>\n      <td>88</td>\n      <td>88.0</td>\n      <td>88.0</td>\n      <td>88.0</td>\n      <td>88.0</td>\n      <td>88.0</td>\n      <td>88.0</td>\n      <td>88.0</td>\n      <td>88.0</td>\n      <td>88.0</td>\n      <td>...</td>\n      <td>88.0</td>\n      <td>88.0</td>\n      <td>88.0</td>\n      <td>88.0</td>\n      <td>88.0</td>\n      <td>88.0</td>\n      <td>88.0</td>\n      <td>3</td>\n      <td>1</td>\n      <td>2</td>\n    </tr>\n    <tr>\n      <td>910220</td>\n      <td>88</td>\n      <td>9.0</td>\n      <td>0.0</td>\n      <td>21.0</td>\n      <td>0.0</td>\n      <td>0.0</td>\n      <td>2.0</td>\n      <td>0.0</td>\n      <td>3.0</td>\n      <td>6.0</td>\n      <td>...</td>\n      <td>4.0</td>\n      <td>8.0</td>\n      <td>11.0</td>\n      <td>10.0</td>\n      <td>3.0</td>\n      <td>9.0</td>\n      <td>4.0</td>\n      <td>5</td>\n      <td>2</td>\n      <td>1</td>\n    </tr>\n    <tr>\n      <td>910225</td>\n      <td>88</td>\n      <td>9.0</td>\n      <td>17.0</td>\n      <td>17.0</td>\n      <td>0.0</td>\n      <td>0.0</td>\n      <td>1.0</td>\n      <td>0.0</td>\n      <td>3.0</td>\n      <td>2.0</td>\n      <td>...</td>\n      <td>2.0</td>\n      <td>9.0</td>\n      <td>9.0</td>\n      <td>6.0</td>\n      <td>3.0</td>\n      <td>9.0</td>\n      <td>2.0</td>\n      <td>5</td>\n      <td>2</td>\n      <td>3</td>\n    </tr>\n    <tr>\n      <td>910226</td>\n      <td>2</td>\n      <td>1.0</td>\n      <td>13.0</td>\n      <td>13.0</td>\n      <td>0.0</td>\n      <td>0.0</td>\n      <td>0.0</td>\n      <td>0.0</td>\n      <td>2.0</td>\n      <td>4.0</td>\n      <td>...</td>\n      <td>0.0</td>\n      <td>7.0</td>\n      <td>10.0</td>\n      <td>11.0</td>\n      <td>88.0</td>\n      <td>9.0</td>\n      <td>7.0</td>\n      <td>3</td>\n      <td>2</td>\n      <td>4</td>\n    </tr>\n    <tr>\n      <td>910241</td>\n      <td>88</td>\n      <td>1.0</td>\n      <td>20.0</td>\n      <td>14.0</td>\n      <td>0.0</td>\n      <td>0.0</td>\n      <td>4.0</td>\n      <td>0.0</td>\n      <td>4.0</td>\n      <td>2.0</td>\n      <td>...</td>\n      <td>2.0</td>\n      <td>3.0</td>\n      <td>5.0</td>\n      <td>4.0</td>\n      <td>2.0</td>\n      <td>9.0</td>\n      <td>3.0</td>\n      <td>4</td>\n      <td>1</td>\n      <td>3</td>\n    </tr>\n    <tr>\n      <td>910244</td>\n      <td>3</td>\n      <td>1.0</td>\n      <td>10.0</td>\n      <td>10.0</td>\n      <td>0.0</td>\n      <td>0.0</td>\n      <td>1.0</td>\n      <td>0.0</td>\n      <td>2.0</td>\n      <td>6.0</td>\n      <td>...</td>\n      <td>2.0</td>\n      <td>10.0</td>\n      <td>7.0</td>\n      <td>4.0</td>\n      <td>6.0</td>\n      <td>9.0</td>\n      <td>7.0</td>\n      <td>4</td>\n      <td>2</td>\n      <td>1</td>\n    </tr>\n    <tr>\n      <td>910248</td>\n      <td>88</td>\n      <td>9.0</td>\n      <td>0.0</td>\n      <td>88.0</td>\n      <td>0.0</td>\n      <td>0.0</td>\n      <td>1.0</td>\n      <td>0.0</td>\n      <td>4.0</td>\n      <td>6.0</td>\n      <td>...</td>\n      <td>2.0</td>\n      <td>7.0</td>\n      <td>10.0</td>\n      <td>10.0</td>\n      <td>3.0</td>\n      <td>9.0</td>\n      <td>5.0</td>\n      <td>4</td>\n      <td>2</td>\n      <td>2</td>\n    </tr>\n    <tr>\n      <td>910261</td>\n      <td>88</td>\n      <td>1.0</td>\n      <td>14.0</td>\n      <td>14.0</td>\n      <td>0.0</td>\n      <td>0.0</td>\n      <td>1.0</td>\n      <td>0.0</td>\n      <td>2.0</td>\n      <td>2.0</td>\n      <td>...</td>\n      <td>2.0</td>\n      <td>10.0</td>\n      <td>12.0</td>\n      <td>9.0</td>\n      <td>5.0</td>\n      <td>9.0</td>\n      <td>1.0</td>\n      <td>1</td>\n      <td>1</td>\n      <td>1</td>\n    </tr>\n    <tr>\n      <td>645145</td>\n      <td>88</td>\n      <td>9.0</td>\n      <td>16.0</td>\n      <td>16.0</td>\n      <td>1.0</td>\n      <td>0.0</td>\n      <td>1.0</td>\n      <td>0.0</td>\n      <td>2.0</td>\n      <td>3.0</td>\n      <td>...</td>\n      <td>4.0</td>\n      <td>8.0</td>\n      <td>11.0</td>\n      <td>8.0</td>\n      <td>5.0</td>\n      <td>8.0</td>\n      <td>1.0</td>\n      <td>6</td>\n      <td>1</td>\n      <td>3</td>\n    </tr>\n    <tr>\n      <td>645153</td>\n      <td>88</td>\n      <td>5.0</td>\n      <td>17.0</td>\n      <td>17.0</td>\n      <td>0.0</td>\n      <td>0.0</td>\n      <td>1.0</td>\n      <td>0.0</td>\n      <td>2.0</td>\n      <td>6.0</td>\n      <td>...</td>\n      <td>4.0</td>\n      <td>1.0</td>\n      <td>1.0</td>\n      <td>1.0</td>\n      <td>4.0</td>\n      <td>3.0</td>\n      <td>7.0</td>\n      <td>4</td>\n      <td>2</td>\n      <td>3</td>\n    </tr>\n  </tbody>\n</table>\n<p>10 rows × 350 columns</p>\n</div>",
            "text/plain": "        AGER_TYP  AKT_DAT_KL  ALTER_HH  ALTERSKATEGORIE_FEIN  ANZ_HH_TITEL  \\\nLNR                                                                          \n910215        88        88.0      88.0                  88.0          88.0   \n910220        88         9.0       0.0                  21.0           0.0   \n910225        88         9.0      17.0                  17.0           0.0   \n910226         2         1.0      13.0                  13.0           0.0   \n910241        88         1.0      20.0                  14.0           0.0   \n910244         3         1.0      10.0                  10.0           0.0   \n910248        88         9.0       0.0                  88.0           0.0   \n910261        88         1.0      14.0                  14.0           0.0   \n645145        88         9.0      16.0                  16.0           1.0   \n645153        88         5.0      17.0                  17.0           0.0   \n\n        ANZ_KINDER  ANZ_PERSONEN  ANZ_TITEL  ARBEIT  BALLRAUM  ...   VHN  \\\nLNR                                                            ...         \n910215        88.0          88.0       88.0    88.0      88.0  ...  88.0   \n910220         0.0           2.0        0.0     3.0       6.0  ...   4.0   \n910225         0.0           1.0        0.0     3.0       2.0  ...   2.0   \n910226         0.0           0.0        0.0     2.0       4.0  ...   0.0   \n910241         0.0           4.0        0.0     4.0       2.0  ...   2.0   \n910244         0.0           1.0        0.0     2.0       6.0  ...   2.0   \n910248         0.0           1.0        0.0     4.0       6.0  ...   2.0   \n910261         0.0           1.0        0.0     2.0       2.0  ...   2.0   \n645145         0.0           1.0        0.0     2.0       3.0  ...   4.0   \n645153         0.0           1.0        0.0     2.0       6.0  ...   4.0   \n\n       VK_DHT4A VK_DISTANZ  VK_ZG11  W_KEIT_KIND_HH  WOHNDAUER_2008  WOHNLAGE  \\\nLNR                                                                             \n910215     88.0       88.0     88.0            88.0            88.0      88.0   \n910220      8.0       11.0     10.0             3.0             9.0       4.0   \n910225      9.0        9.0      6.0             3.0             9.0       2.0   \n910226      7.0       10.0     11.0            88.0             9.0       7.0   \n910241      3.0        5.0      4.0             2.0             9.0       3.0   \n910244     10.0        7.0      4.0             6.0             9.0       7.0   \n910248      7.0       10.0     10.0             3.0             9.0       5.0   \n910261     10.0       12.0      9.0             5.0             9.0       1.0   \n645145      8.0       11.0      8.0             5.0             8.0       1.0   \n645153      1.0        1.0      1.0             4.0             3.0       7.0   \n\n        ZABEOTYP  ANREDE_KZ  ALTERSKATEGORIE_GROB  \nLNR                                                \n910215         3          1                     2  \n910220         5          2                     1  \n910225         5          2                     3  \n910226         3          2                     4  \n910241         4          1                     3  \n910244         4          2                     1  \n910248         4          2                     2  \n910261         1          1                     1  \n645145         6          1                     3  \n645153         4          2                     3  \n\n[10 rows x 350 columns]"
          },
          "execution_count": 41,
          "metadata": {},
          "output_type": "execute_result"
        }
      ],
      "source": [
        "firstPart=azdias[:10]\n",
        "firstPart"
      ]
    },
    {
      "cell_type": "code",
      "execution_count": 48,
      "metadata": {},
      "outputs": [],
      "source": [
        "%%time\n",
        "firstPart = customers\n",
        "firstPart = firstPart.astype(str)\n",
        "firstPart.replace(['-1', '88', '88.0'], np.nan, inplace=True)\n",
        "firstPart.columns.values"
      ]
    },
    {
      "cell_type": "code",
      "execution_count": 43,
      "metadata": {},
      "outputs": [],
      "source": [
        "dummies = pd.get_dummies(azdias, prefix_sep='__', sparse=True)\n"
      ]
    },
    {
      "cell_type": "code",
      "execution_count": 44,
      "metadata": {},
      "outputs": [
        {
          "data": {
            "text/plain": "(891221, 350)"
          },
          "execution_count": 44,
          "metadata": {},
          "output_type": "execute_result"
        }
      ],
      "source": [
        "firstPart.shape"
      ]
    },
    {
      "cell_type": "code",
      "execution_count": 47,
      "metadata": {},
      "outputs": [
        {
          "name": "stdout",
          "output_type": "stream",
          "text": "Wall time: 12.5 s\n"
        }
      ],
      "source": [
        "%%time\n",
        "dummies.to_pickle(\"azdias_dummies.pkl\")"
      ]
    },
    {
      "cell_type": "code",
      "execution_count": null,
      "metadata": {},
      "outputs": [],
      "source": [
        "for i in dummies.columns:\n",
        "    print(i)"
      ]
    },
    {
      "cell_type": "code",
      "execution_count": null,
      "metadata": {},
      "outputs": [],
      "source": [
        "azdias.columns.values"
      ]
    },
    {
      "cell_type": "code",
      "execution_count": null,
      "metadata": {},
      "outputs": [],
      "source": []
    },
    {
      "cell_type": "code",
      "execution_count": null,
      "metadata": {},
      "outputs": [],
      "source": [
        "azdias.fillna('88').astype(np.int16).astype(str).applymap(lambda x: np.nan if x == '88' else x)"
      ]
    },
    {
      "cell_type": "code",
      "execution_count": null,
      "metadata": {},
      "outputs": [],
      "source": [
        "azdias.drop(columns=object_dtype_columns, axis=1, inplace=True, errors='ignore')\n",
        "\n",
        "def wrapValuesToIntAndKeepNaN(dataFrame):\n",
        "    for col in azdias.columns.values:\n",
        "        azdias[col].fillna(88).astype(np.int16).astype(str).apply(lambda x: np.nan if x == '88' else x)"
      ]
    },
    {
      "cell_type": "code",
      "execution_count": null,
      "metadata": {},
      "outputs": [],
      "source": [
        "dummies = pd.get_dummies(azdias, prefix_sep='__', sparse=True)\n",
        "azdias.drop(columns=object_columns, inplace=True)\n",
        "dummnies.columns.values"
      ]
    },
    {
      "cell_type": "markdown",
      "execution_count": null,
      "metadata": {
        "colab_type": "text",
        "id": "8Xx3u3qTUUeJ"
      },
      "outputs": [],
      "source": [
        "## 第1部分：顾客分类报告\n",
        "\n",
        "项目报告的主体部分应该就是这部分。在这个部分，你应该使用非监督学习技术来刻画公司已有顾客和德国一般人群的人口统计数据的关系。这部分做完后，你应该能够描述一般人群中的哪一类人更可能是邮购公司的主要核心顾客，哪些人则很可能不是。"
      ]
    },
    {
      "cell_type": "markdown",
      "execution_count": null,
      "metadata": {
        "colab_type": "text",
        "id": "DHQGzOvDUUeK"
      },
      "outputs": [],
      "source": [
        "## 第2部分：监督学习模型\n",
        "\n",
        "你现在应该已经发现哪部分人更可能成为邮购公司的顾客了，是时候搭建一个预测模型了。\"MAILOUT\"数据文件的的每一行表示一个邮购活动的潜在顾客。理想情况下我们应该能够使用每个人的人口统计数据来决定是否该把他作为该活动的营销对象。\n",
        "\n",
        "\"MAILOUT\" 数据被分成了两个大致相等的部分，每部分大概有 43 000 行数据。在这部分，你可以用\"TRAIN\"部分来检验你的模型，该数据集包括一列\"RESPONSE\"，该列表示该对象是否参加了该公司的邮购活动。在下一部分，你需要在\"TEST\"数据集上做出预测，该数据集中\"RESPONSE\" 列也被保留了。"
      ]
    },
    {
      "cell_type": "code",
      "execution_count": null,
      "metadata": {
        "colab": {},
        "colab_type": "code",
        "id": "NH2I5NW7UUeM"
      },
      "outputs": [],
      "source": [
        "mailout_train = pd.read_csv('../../data/Term2/capstone/arvato_data/Udacity_MAILOUT_052018_TRAIN.csv', sep=';')"
      ]
    },
    {
      "cell_type": "code",
      "execution_count": null,
      "metadata": {
        "colab": {},
        "colab_type": "code",
        "id": "BuljvWQoVDEU"
      },
      "outputs": [],
      "source": [
        "mailout_train = pd.read_csv(drive_path+'Udacity_MAILOUT_052018_TRAIN.csv', sep=';')\n"
      ]
    },
    {
      "cell_type": "code",
      "execution_count": null,
      "metadata": {
        "colab": {},
        "colab_type": "code",
        "id": "0HVb5z4lVJbO"
      },
      "outputs": [],
      "source": [
        "mailout_train.head"
      ]
    },
    {
      "cell_type": "markdown",
      "execution_count": null,
      "metadata": {
        "colab_type": "text",
        "id": "zP7KcZ79UUep"
      },
      "outputs": [],
      "source": [
        "## Part 3:Kaggle比赛\n",
        "\n",
        "你已经搭建了一个用于预测人们有多大程度上会回应邮购活动的模型，是时候到Kaggle上检验一下这个模型了。如果你点击这个 [链接](http://www.kaggle.com/t/21e6d45d4c574c7fa2d868f0e8c83140)，你会进入到比赛界面（如果你已经有一个Kaggle账户的话）如果你表现突出的话，你将有机会收到Arvato或Bertelsmann的人力资源管理的经理的面试邀约！\n",
        "\n",
        "你比赛用提交的文件格式为CSV，该文件含2列。第一列是\"LNR\"，是\"TEST\"部分每个顾客的ID。第二列是\"RESPONSE\"表示此人有多大程度上会参加该活动，可以是某种度量，不一定是概率。你应该在第2部分已经发现了，该数据集存在一个巨大的输出类不平衡的问题，也就是说大部分人都不会参加该邮购活动。因此，预测目标人群的分类并使用准确率来衡量不是一个合适的性能评估方法。相反地，该项竞赛使用AUC衡量模型的性能。\"RESPONSE\"列的绝对值并不重要：仅仅表示高的取值可能吸引到更多的实际参与者，即ROC曲线的前端曲线比较平缓。"
      ]
    },
    {
      "cell_type": "code",
      "execution_count": null,
      "metadata": {
        "colab": {},
        "colab_type": "code",
        "id": "cOx-WrtnUUeq"
      },
      "outputs": [],
      "source": [
        "mailout_test = pd.read_csv('../../data/Term2/capstone/arvato_data/Udacity_MAILOUT_052018_TEST.csv', sep=';')"
      ]
    },
    {
      "cell_type": "markdown",
      "execution_count": null,
      "metadata": {
        "colab_type": "text",
        "id": "edl5iRH3UUeu"
      },
      "outputs": [],
      "source": [
        "```python\n",
        "\n",
        "```"
      ]
    }
  ]
}